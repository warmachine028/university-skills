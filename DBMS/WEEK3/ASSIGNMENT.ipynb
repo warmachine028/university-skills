{
 "cells": [
  {
   "cell_type": "markdown",
   "metadata": {},
   "source": [
    "### Assignment 3 (29th August 2022, Monday)\n"
   ]
  },
  {
   "cell_type": "markdown",
   "metadata": {},
   "source": [
    "#### Initializing Connection\n"
   ]
  },
  {
   "cell_type": "code",
   "execution_count": 2,
   "metadata": {},
   "outputs": [],
   "source": [
    "import mysql.connector as sqltor\n",
    "\n",
    "connection = sqltor.connect(host=\"localhost\", user=\"root\", password=\"mysqlpasswd\")\n",
    "cursor = connection.cursor()\n",
    "cursor.execute(\"CREATE DATABASE IF NOT EXISTS week3i\")\n",
    "cursor.execute(\"USE week3i\")\n"
   ]
  },
  {
   "cell_type": "markdown",
   "metadata": {},
   "source": [
    "#### Adding Helper functions\n"
   ]
  },
  {
   "cell_type": "code",
   "execution_count": 3,
   "metadata": {},
   "outputs": [],
   "source": [
    "def disp():\n",
    "    print(*[line for line in cursor], sep=\"\\n\")\n",
    "\n",
    "\n",
    "def run(query: str):\n",
    "    cursor.execute(query)\n"
   ]
  },
  {
   "cell_type": "markdown",
   "metadata": {},
   "source": [
    "#### Testing Tables and Datasets\n"
   ]
  },
  {
   "cell_type": "code",
   "execution_count": null,
   "metadata": {},
   "outputs": [],
   "source": [
    "run(\"SHOW DATABASES\")\n",
    "disp()\n",
    "run(\"SHOW TABLES\")\n",
    "disp()\n",
    "# exit()\n"
   ]
  },
  {
   "cell_type": "markdown",
   "metadata": {},
   "source": [
    "| Database           |\n",
    "| ------------------ |\n",
    "| information_schema |\n",
    "| mysql              |\n",
    "| performance_schema |\n",
    "| sys                |\n",
    "| week1              |\n",
    "| week2              |\n",
    "| week3              |\n"
   ]
  },
  {
   "cell_type": "markdown",
   "metadata": {},
   "source": [
    "#### Queries\n"
   ]
  },
  {
   "cell_type": "markdown",
   "metadata": {},
   "source": [
    "##### Consider the following employee table and execute the queries based on it\n"
   ]
  },
  {
   "cell_type": "code",
   "execution_count": 7,
   "metadata": {},
   "outputs": [],
   "source": [
    "run(\n",
    "    \"\"\"CREATE TABLE Employee (\n",
    "\t\t\t\tEmp_id INT(3) AUTO_INCREMENT PRIMARY KEY,\n",
    "\t\t\t\tF_Name VARCHAR(10),\n",
    "\t\t\t\tL_Name VARCHAR(10),\n",
    "\t\t\t\tJob_Type VARCHAR(10),\n",
    "\t\t\t\tSalary INT(6),\n",
    "\t\t\t\tComission INT(5),\n",
    "\t\t\t\tDept VARCHAR(15),\n",
    "\t\t\t\tManager_id INT(2),\n",
    "\t\t\t\tDOJ DATE\n",
    "\t\t\t)\n",
    "\"\"\"\n",
    ")\n"
   ]
  },
  {
   "cell_type": "markdown",
   "metadata": {},
   "source": [
    "| Field      | Type        | Null | Key | Default | Extra          |\n",
    "| ---------- | ----------- | ---- | --- | ------- | -------------- |\n",
    "| Emp_id     | int         | NO   | PRI | NULL    | auto_increment |\n",
    "| F_Name     | varchar(10) | YES  |     | NULL    |                |\n",
    "| L_Name     | varchar(10) | YES  |     | NULL    |                |\n",
    "| Job_Type   | varchar(10) | YES  |     | NULL    |                |\n",
    "| Salary     | int         | YES  |     | NULL    |                |\n",
    "| Comission  | int         | YES  |     | NULL    |                |\n",
    "| Dept       | varchar(15) | YES  |     | NULL    |                |\n",
    "| Manager_id | int         | YES  |     | NULL    |                |\n",
    "| DOJ        | date        | YES  |     | NULL    |                |\n"
   ]
  },
  {
   "cell_type": "markdown",
   "metadata": {},
   "source": [
    "Inserting the values\n"
   ]
  },
  {
   "cell_type": "code",
   "execution_count": 13,
   "metadata": {},
   "outputs": [],
   "source": [
    "run(\n",
    "    \"\"\"INSERT INTO Employee VALUES\n",
    "            (NULL, 'Arun', 'Khan', 'Manager', 90000, NULL, 'Production', NULL, '1998-01-04'),\n",
    "            (NULL, 'Barun', 'Kumar', 'Manager', 80000, NULL, 'Marketing', NULL, '1998-02-09'),\n",
    "            (NULL, 'Chitra', 'Kapoor', 'Engineer', 60000, NULL, 'Production', 1, '1998-01-08'),\n",
    "            (NULL, 'Dheeraj', 'Mitra', 'Accountant', 75000, NULL, 'Sales', 4, '2001-12-27'),\n",
    "            (NULL, 'Emma', 'Dutt', 'Engineer', 55000, NULL, 'Production', 1, '2002-03-20'),\n",
    "            (NULL, 'Floki', 'Dutt', 'Accountant', 70000, NULL, 'Accounts', NULL, '2000-07-16')\n",
    "            \n",
    "\"\"\"\n",
    ")\n",
    "connection.commit()\n"
   ]
  },
  {
   "cell_type": "markdown",
   "metadata": {},
   "source": [
    "| Emp_id | F_Name  | L_Name | Job_Type   | Salary | Comission | Dept       | Manager_id | DOJ        |\n",
    "| -----: | ------- | ------ | ---------- | -----: | --------: | ---------- | ---------: | ---------- |\n",
    "|      1 | Arun    | Khan   | Manager    |  90000 |      NULL | Production |       NULL | 1998-01-04 |\n",
    "|      2 | Barun   | Kumar  | Manager    |  80000 |      NULL | Marketing  |       NULL | 1998-02-09 |\n",
    "|      3 | Chitra  | Kapoor | Engineer   |  60000 |      NULL | Production |          1 | 1998-01-08 |\n",
    "|      4 | Dheeraj | Mitra  | Accountant |  75000 |      NULL | Sales      |          4 | 2001-12-27 |\n",
    "|      5 | Emma    | Dutt   | Engineer   |  55000 |      NULL | Production |          1 | 2002-03-20 |\n",
    "|      6 | Floki   | Dutt   | Accountant |  70000 |      NULL | Accounts   |       NULL | 2000-07-16 |\n"
   ]
  },
  {
   "cell_type": "markdown",
   "metadata": {},
   "source": [
    "##### 1. Show f_name, l_name and Job_type from employees.\n"
   ]
  },
  {
   "cell_type": "code",
   "execution_count": null,
   "metadata": {},
   "outputs": [],
   "source": [
    "run(\"SELECT f_name, l_name, Job_type FROM Employee\")\n",
    "disp()\n"
   ]
  },
  {
   "cell_type": "markdown",
   "metadata": {},
   "source": [
    "| f_name  | l_name | Job_type   |\n",
    "| ------- | ------ | ---------- |\n",
    "| Arun    | Khan   | Manager    |\n",
    "| Barun   | Kumar  | Manager    |\n",
    "| Chitra  | Kapoor | Engineer   |\n",
    "| Dheeraj | Mitra  | Accountant |\n",
    "| Emma    | Dutt   | Engineer   |\n",
    "| Floki   | Dutt   | Accountant |\n"
   ]
  },
  {
   "cell_type": "markdown",
   "metadata": {},
   "source": [
    "##### 2. Show employee details in the following fashion:\n",
    "\n",
    "    Employee details\n",
    "    Arun is a manager\n"
   ]
  },
  {
   "cell_type": "code",
   "execution_count": 11,
   "metadata": {},
   "outputs": [],
   "source": [
    "run(\"SELECT CONCAT(f_name, ' is a ', Job_type) AS 'Employee Details' FROM Employee\")\n"
   ]
  },
  {
   "cell_type": "markdown",
   "metadata": {},
   "source": [
    "| Employee Details        |\n",
    "| ----------------------- |\n",
    "| Arun is a Manager       |\n",
    "| Barun is a Manager      |\n",
    "| Chitra is a Engineer    |\n",
    "| Dheeraj is a Accountant |\n",
    "| Emma is a Engineer      |\n",
    "| Floki is a Accountant   |\n"
   ]
  },
  {
   "cell_type": "markdown",
   "metadata": {},
   "source": [
    "##### 3. Show the monthly salary details in the following fashion:\n",
    "\n",
    "    Monthly Salary Details\n",
    "    Arun's monthly salary is Rs.90000\n"
   ]
  },
  {
   "cell_type": "code",
   "execution_count": null,
   "metadata": {},
   "outputs": [],
   "source": [
    "run(\n",
    "    \"\"\"SELECT CONCAT(f_name, '\\\\'s monthly salary is Rs.', salary) \n",
    "        AS 'Monthly Salary Details' FROM Employee\n",
    "\"\"\"\n",
    ")\n",
    "\n",
    "disp()\n"
   ]
  },
  {
   "cell_type": "markdown",
   "metadata": {},
   "source": [
    "| Monthly Salary Details               |\n",
    "| ------------------------------------ |\n",
    "| Arun's monthly salary is Rs.90000    |\n",
    "| Barun's monthly salary is Rs.80000   |\n",
    "| Chitra's monthly salary is Rs.60000  |\n",
    "| Dheeraj's monthly salary is Rs.75000 |\n",
    "| Emma's monthly salary is Rs.55000    |\n",
    "| Floki's monthly salary is Rs.70000   |\n"
   ]
  },
  {
   "cell_type": "markdown",
   "metadata": {},
   "source": [
    "##### Consider the Department table to answer the queries\n"
   ]
  },
  {
   "cell_type": "code",
   "execution_count": 20,
   "metadata": {},
   "outputs": [],
   "source": [
    "run(\n",
    "    \"\"\"CREATE TABLE Department (\n",
    "\t\t\t\td_name VARCHAR(15),\n",
    "\t\t\t\td_loc VARCHAR(15),\n",
    "\t\t\t\tHOD_id INT(2)\n",
    "\t\t\t)\n",
    "\"\"\"\n",
    ")\n"
   ]
  },
  {
   "cell_type": "markdown",
   "metadata": {},
   "source": [
    "| Field  | Type        | Null | Key | Default | Extra |\n",
    "| ------ | ----------- | ---- | --- | ------- | ----- |\n",
    "| d_name | varchar(15) | YES  |     | NULL    |       |\n",
    "| d_loc  | varchar(15) | YES  |     | NULL    |       |\n",
    "| HOD_id | int         | YES  |     | NULL    |       |\n"
   ]
  },
  {
   "cell_type": "markdown",
   "metadata": {},
   "source": [
    "Inserting values\n"
   ]
  },
  {
   "cell_type": "code",
   "execution_count": 21,
   "metadata": {},
   "outputs": [],
   "source": [
    "run(\n",
    "    \"\"\"INSERT INTO Department VALUES\n",
    "            ('Sales', 'Kol', 4),\n",
    "            ('Accounts', 'Delhi', 6),\n",
    "            ('Production', 'Kol', 1),\n",
    "            ('Marketing', 'Kol', 2),\n",
    "            ('R & D', 'Marketing', 8)\n",
    "\"\"\"\n",
    ")\n",
    "connection.commit()\n"
   ]
  },
  {
   "cell_type": "markdown",
   "metadata": {},
   "source": [
    "| d_name     | d_loc     | HOD_id |\n",
    "| ---------- | --------- | -----: |\n",
    "| Sales      | Kol       |      4 |\n",
    "| Accounts   | Delhi     |      6 |\n",
    "| Production | Kol       |      1 |\n",
    "| Marketing  | Kol       |      2 |\n",
    "| R & D      | Marketing |      8 |\n"
   ]
  },
  {
   "cell_type": "markdown",
   "metadata": {},
   "source": [
    "##### 4. Show the different department names from the department table\n"
   ]
  },
  {
   "cell_type": "code",
   "execution_count": 22,
   "metadata": {},
   "outputs": [],
   "source": [
    "run(\"SELECT DISTINCT d_name as 'Department Names' FROM Department\")\n"
   ]
  },
  {
   "cell_type": "markdown",
   "metadata": {},
   "source": [
    "| Department Names |\n",
    "| ---------------- |\n",
    "| Sales            |\n",
    "| Accounts         |\n",
    "| Production       |\n",
    "| Marketing        |\n",
    "| R & D            |\n"
   ]
  },
  {
   "cell_type": "markdown",
   "metadata": {},
   "source": [
    "##### 5. Show the employee names who works in 'Sales'\n"
   ]
  },
  {
   "cell_type": "code",
   "execution_count": null,
   "metadata": {},
   "outputs": [],
   "source": [
    "run(\n",
    "    \"\"\"\n",
    "    SELECT CONCAT(f_name,' ' , l_name) AS 'Sales Employees'\n",
    "    FROM Employee WHERE Dept='Sales'\n",
    "\"\"\"\n",
    ")\n",
    "disp()\n"
   ]
  },
  {
   "cell_type": "markdown",
   "metadata": {},
   "source": [
    "| Sales Employees |\n",
    "| --------------- |\n",
    "| Dheeraj Mitra   |\n"
   ]
  },
  {
   "cell_type": "markdown",
   "metadata": {},
   "source": [
    "##### 6. Show the employee names who get salary more than 50000 per month\n"
   ]
  },
  {
   "cell_type": "code",
   "execution_count": null,
   "metadata": {},
   "outputs": [],
   "source": [
    "run(\n",
    "    \"\"\"\n",
    "    SELECT CONCAT(f_name,' ' , l_name) AS 'Employees' FROM Employee  \n",
    "    WHERE Salary > 50000\n",
    "\"\"\"\n",
    ")\n",
    "disp()\n"
   ]
  },
  {
   "cell_type": "markdown",
   "metadata": {},
   "source": [
    "| Employees     |\n",
    "| ------------- |\n",
    "| Arun Khan     |\n",
    "| Barun Kumar   |\n",
    "| Chitra Kapoor |\n",
    "| Dheeraj Mitra |\n",
    "| Emma Dutt     |\n",
    "| Floki Dutt    |\n"
   ]
  },
  {
   "cell_type": "markdown",
   "metadata": {},
   "source": [
    "##### 7. Show the details of the employees whose manager id is not 1\n"
   ]
  },
  {
   "cell_type": "code",
   "execution_count": null,
   "metadata": {},
   "outputs": [],
   "source": [
    "run(\n",
    "    \"\"\"\n",
    "    SELECT * FROM Employee \n",
    "    WHERE Manager_id <> 1 OR Manager_id IS NULL\n",
    "\"\"\"\n",
    ")\n",
    "disp()\n"
   ]
  },
  {
   "cell_type": "markdown",
   "metadata": {},
   "source": [
    "| Emp_id | F_Name  | L_Name | Job_Type   | Salary | Comission | Dept       | Manager_id | DOJ        |\n",
    "| ------ | ------- | ------ | ---------- | ------ | --------- | ---------- | ---------- | ---------- |\n",
    "| 1      | Arun    | Khan   | Manager    | 90000  | NULL      | Production | NULL       | 1998-01-04 |\n",
    "| 2      | Barun   | Kumar  | Manager    | 80000  | NULL      | Marketing  | NULL       | 1998-02-09 |\n",
    "| 4      | Dheeraj | Mitra  | Accountant | 75000  | NULL      | Sales      | 4          | 2001-12-27 |\n",
    "| 6      | Floki   | Dutt   | Accountant | 70000  | NULL      | Accounts   | NULL       | 2000-07-16 |\n"
   ]
  },
  {
   "cell_type": "markdown",
   "metadata": {},
   "source": [
    "| bname |\n",
    "| ----- |\n"
   ]
  },
  {
   "cell_type": "markdown",
   "metadata": {},
   "source": [
    "##### 8. Show the employee details whose salary ranges between 40000 and 70000.\n"
   ]
  },
  {
   "cell_type": "code",
   "execution_count": 42,
   "metadata": {},
   "outputs": [
    {
     "name": "stdout",
     "output_type": "stream",
     "text": [
      "\n"
     ]
    }
   ],
   "source": [
    "run(\n",
    "    \"\"\"\n",
    "    SELECT * FROM Employee \n",
    "    WHERE Salary BETWEEN 40000 AND 70000\n",
    "\"\"\"\n",
    ")\n",
    "disp()\n"
   ]
  },
  {
   "cell_type": "markdown",
   "metadata": {},
   "source": [
    "| Emp_id | F_Name | L_Name | Job_Type   | Salary | Comission | Dept       | Manager_id | DOJ        |\n",
    "| ------ | ------ | ------ | ---------- | ------ | --------- | ---------- | ---------- | ---------- |\n",
    "| 3      | Chitra | Kapoor | Engineer   | 60000  | NULL      | Production | 1          | 1998-01-08 |\n",
    "| 5      | Emma   | Dutt   | Engineer   | 55000  | NULL      | Production | 1          | 2002-03-20 |\n",
    "| 6      | Floki  | Dutt   | Accountant | 70000  | NULL      | Accounts   | NULL       | 2000-07-16 |\n"
   ]
  },
  {
   "cell_type": "markdown",
   "metadata": {},
   "source": [
    "##### 9. Show the details of the employees who work under the manager having id 1, 6 and 8\n"
   ]
  },
  {
   "cell_type": "code",
   "execution_count": null,
   "metadata": {},
   "outputs": [],
   "source": [
    "run(\n",
    "    \"\"\"\n",
    "    SELECT * FROM Employee \n",
    "    WHERE Manager_Id IN (1, 6, 8)\n",
    "\"\"\"\n",
    ")\n",
    "disp()\n"
   ]
  },
  {
   "cell_type": "markdown",
   "metadata": {},
   "source": [
    "| Emp_id | F_Name | L_Name | Job_Type | Salary | Comission | Dept       | Manager_id | DOJ        |\n",
    "| ------ | ------ | ------ | -------- | ------ | --------- | ---------- | ---------- | ---------- |\n",
    "| 3      | Chitra | Kapoor | Engineer | 60000  | NULL      | Production | 1          | 1998-01-08 |\n",
    "| 5      | Emma   | Dutt   | Engineer | 55000  | NULL      | Production | 1          | 2002-03-20 |\n"
   ]
  },
  {
   "cell_type": "markdown",
   "metadata": {},
   "source": [
    "##### 10. Select the f_name and salary of those employees whose last name starts with 'K'\n"
   ]
  },
  {
   "cell_type": "code",
   "execution_count": null,
   "metadata": {},
   "outputs": [],
   "source": [
    "run(\n",
    "    \"\"\"\n",
    "    SELECT f_name, salary FROM Employee \n",
    "    WHERE l_name LIKE \"K%\"\n",
    "\"\"\"\n",
    ")\n",
    "disp()\n"
   ]
  },
  {
   "cell_type": "markdown",
   "metadata": {},
   "source": [
    "| f_name | salary |\n",
    "| ------ | ------ |\n",
    "| Arun   | 90000  |\n",
    "| Barun  | 80000  |\n",
    "| Chitra | 60000  |\n"
   ]
  },
  {
   "cell_type": "markdown",
   "metadata": {},
   "source": [
    "##### 11. Select the f_name and salary of those employees whose last name starts with 'K' and ends with 'R'\n"
   ]
  },
  {
   "cell_type": "code",
   "execution_count": null,
   "metadata": {},
   "outputs": [],
   "source": [
    "run(\n",
    "    \"\"\"\n",
    "    SELECT f_name, salary FROM Employee \n",
    "    WHERE l_name LIKE \"K%R\"\n",
    "\"\"\"\n",
    ")\n",
    "disp()\n"
   ]
  },
  {
   "cell_type": "markdown",
   "metadata": {},
   "source": [
    "| f_name | salary |\n",
    "| ------ | ------ |\n",
    "| Barun  | 80000  |\n",
    "| Chitra | 60000  |\n"
   ]
  },
  {
   "cell_type": "markdown",
   "metadata": {},
   "source": [
    "##### 12. Show the details of those employees where 3rd letter of l_name is 'o'\n"
   ]
  },
  {
   "cell_type": "code",
   "execution_count": null,
   "metadata": {},
   "outputs": [],
   "source": [
    "run(\"select * FROM EMPLOYEE WHERE l_name LIKE '__o%'\")\n",
    "disp()\n"
   ]
  },
  {
   "cell_type": "markdown",
   "metadata": {},
   "source": [
    "Empty set (0.00 sec)\n"
   ]
  },
  {
   "cell_type": "markdown",
   "metadata": {},
   "source": [
    "##### 13. Select the details of those employees who works as an engineer with monthly salary more than 50000\n"
   ]
  },
  {
   "cell_type": "code",
   "execution_count": null,
   "metadata": {},
   "outputs": [],
   "source": [
    "run(\n",
    "    \"\"\"\n",
    "    SELECT * FROM Employee \n",
    "    WHERE Dept = 'Engineer' AND Salary > 50000\n",
    "\"\"\"\n",
    ")\n",
    "disp()\n"
   ]
  },
  {
   "cell_type": "markdown",
   "metadata": {},
   "source": [
    "Empty set (0.00 sec)\n"
   ]
  },
  {
   "cell_type": "markdown",
   "metadata": {},
   "source": [
    "##### 14. Select the employees whose department is ‘Production’ or monthly salary is more than 60000 per month\n"
   ]
  },
  {
   "cell_type": "code",
   "execution_count": null,
   "metadata": {},
   "outputs": [],
   "source": [
    "run(\n",
    "    \"\"\"\n",
    "    SELECT * FROM Employee \n",
    "    WHERE Dept = 'Production' OR Salary > 60000\n",
    "\"\"\"\n",
    ")\n",
    "disp()\n"
   ]
  },
  {
   "cell_type": "markdown",
   "metadata": {},
   "source": [
    "| Emp_id | F_Name  | L_Name | Job_Type   | Salary | Comission | Dept       | Manager_id | DOJ        |\n",
    "| ------ | ------- | ------ | ---------- | ------ | --------- | ---------- | ---------- | ---------- |\n",
    "| 1      | Arun    | Khan   | Manager    | 90000  | NULL      | Production | NULL       | 1998-01-04 |\n",
    "| 2      | Barun   | Kumar  | Manager    | 80000  | NULL      | Marketing  | NULL       | 1998-02-09 |\n",
    "| 3      | Chitra  | Kapoor | Engineer   | 60000  | NULL      | Production | 1          | 1998-01-08 |\n",
    "| 4      | Dheeraj | Mitra  | Accountant | 75000  | NULL      | Sales      | 4          | 2001-12-27 |\n",
    "| 5      | Emma    | Dutt   | Engineer   | 55000  | NULL      | Production | 1          | 2002-03-20 |\n",
    "| 6      | Floki   | Dutt   | Accountant | 70000  | NULL      | Accounts   | NULL       | 2000-07-16 |\n"
   ]
  },
  {
   "cell_type": "markdown",
   "metadata": {},
   "source": [
    "##### 15. Find the minimum salary, maximum salary, total salary, average salary of the employees who work in ‘Sales’ department\n"
   ]
  },
  {
   "cell_type": "code",
   "execution_count": null,
   "metadata": {},
   "outputs": [],
   "source": [
    "run(\n",
    "    \"\"\"\n",
    "    SELECT MIN(Salary) AS 'MINIMUM SALARY', \n",
    "           MAX(Salary) AS 'MAXIMUM SALARY', \n",
    "           SUM(Salary) AS 'TOTAL SALARY', \n",
    "           AVG(Salary) AS 'AVERAGE SALARY'\n",
    "    FROM Employee WHERE Dept = 'Sales'\n",
    "\"\"\"\n",
    ")\n",
    "disp()\n"
   ]
  },
  {
   "cell_type": "markdown",
   "metadata": {},
   "source": [
    "| MINIMUM SALARY | MAXIMUM SALARY | TOTAL SALARY | AVERAGE SALARY |\n",
    "| -------------- | -------------- | ------------ | -------------- |\n",
    "| 75000          | 75000          | 75000        | 75000.0000     |\n"
   ]
  },
  {
   "cell_type": "markdown",
   "metadata": {},
   "source": [
    "##### 16. Find the employee l_name that is first and f_name that is last if they are arranged in an order\n"
   ]
  },
  {
   "cell_type": "code",
   "execution_count": null,
   "metadata": {},
   "outputs": [],
   "source": [
    "run(\n",
    "    \"\"\"\n",
    "    SELECT l_name AS 'FIRST L_Name', \n",
    "           f_name AS 'LAST F_Name'\n",
    "    FROM (\n",
    "        (SELECT l_name FROM Employee ORDER BY l_name LIMIT 1) AS _,\n",
    "        (SELECT f_name FROM Employee ORDER BY f_name DESC LIMIT 1) AS __\n",
    "    )\n",
    "\"\"\"\n",
    ")\n",
    "disp()\n"
   ]
  },
  {
   "cell_type": "markdown",
   "metadata": {},
   "source": [
    "| FIRST L_Name | LAST F_Name |\n",
    "| ------------ | ----------- |\n",
    "| Dutt         | Floki       |\n"
   ]
  },
  {
   "cell_type": "markdown",
   "metadata": {},
   "source": [
    "##### 17. Find the number of employees working in each department\n"
   ]
  },
  {
   "cell_type": "code",
   "execution_count": null,
   "metadata": {},
   "outputs": [],
   "source": [
    "run(\"SELECT Dept, COUNT(*) AS Employees FROM Employee GROUP BY dept\")\n",
    "disp()\n"
   ]
  },
  {
   "cell_type": "markdown",
   "metadata": {},
   "source": [
    "| Dept       | Employees |\n",
    "| ---------- | --------: |\n",
    "| Production |         3 |\n",
    "| Marketing  |         1 |\n",
    "| Sales      |         1 |\n",
    "| Accounts   |         1 |\n"
   ]
  },
  {
   "cell_type": "markdown",
   "metadata": {},
   "source": [
    "##### 18. Find the number of departments from employee table\n"
   ]
  },
  {
   "cell_type": "code",
   "execution_count": null,
   "metadata": {},
   "outputs": [],
   "source": [
    "run(\"SELECT COUNT(DISTINCT Dept) AS Employees FROM Employee\")\n",
    "disp()\n"
   ]
  },
  {
   "cell_type": "markdown",
   "metadata": {},
   "source": [
    "| Employees |\n",
    "| --------: |\n",
    "|         4 |\n"
   ]
  },
  {
   "cell_type": "markdown",
   "metadata": {},
   "source": [
    "##### 19. Find the Average Commission of the employees.\n"
   ]
  },
  {
   "cell_type": "code",
   "execution_count": null,
   "metadata": {},
   "outputs": [],
   "source": [
    "run(\"SELECT AVG(Comission) AS 'Average Commission' FROM Employee\")\n",
    "disp()\n"
   ]
  },
  {
   "cell_type": "markdown",
   "metadata": {},
   "source": [
    "| Average Commission |\n",
    "| -----------------: |\n",
    "|               NULL |\n"
   ]
  },
  {
   "cell_type": "markdown",
   "metadata": {},
   "source": [
    "##### 20. FInd the average salaries of the employees department wise\n"
   ]
  },
  {
   "cell_type": "code",
   "execution_count": null,
   "metadata": {},
   "outputs": [],
   "source": [
    "run(\n",
    "    \"\"\"\n",
    "    SELECT Dept, AVG(Salary) AS 'Average Salary' FROM Employee\n",
    "    GROUP BY Dept\n",
    "\"\"\"\n",
    ")\n",
    "disp()\n"
   ]
  },
  {
   "cell_type": "markdown",
   "metadata": {},
   "source": [
    "| Dept       | Average Salary |\n",
    "| ---------- | -------------- |\n",
    "| Production | 68333.3333     |\n",
    "| Marketing  | 80000.0000     |\n",
    "| Sales      | 75000.0000     |\n",
    "| Accounts   | 70000.0000     |\n"
   ]
  },
  {
   "cell_type": "markdown",
   "metadata": {},
   "source": [
    "##### 21. Find the sum of salary of different job_type according to different departments\n"
   ]
  },
  {
   "cell_type": "code",
   "execution_count": null,
   "metadata": {},
   "outputs": [],
   "source": [
    "run(\n",
    "    \"\"\"\n",
    "    SELECT Dept, Job_Type, \n",
    "           SUM(Salary) AS 'Aggregate Salary' \n",
    "    FROM Employee GROUP BY Dept, Job_Type\n",
    "    ORDER BY Dept\n",
    "\n",
    "\"\"\"\n",
    ")\n",
    "disp()\n"
   ]
  },
  {
   "cell_type": "markdown",
   "metadata": {},
   "source": [
    "| Dept       | Job_Type   | Aggregate Salary |\n",
    "| ---------- | ---------- | ---------------- |\n",
    "| Accounts   | Accountant | 70000            |\n",
    "| Marketing  | Manager    | 80000            |\n",
    "| Production | Engineer   | 115000           |\n",
    "| Production | Manager    | 90000            |\n",
    "| Sales      | Accountant | 75000            |\n"
   ]
  },
  {
   "cell_type": "markdown",
   "metadata": {},
   "source": [
    "##### 22. Find the department name and average salaries of those departments whose average salary is greater than 40000\n"
   ]
  },
  {
   "cell_type": "code",
   "execution_count": null,
   "metadata": {},
   "outputs": [],
   "source": [
    "\"\"\"\n",
    "    SELECT * FROM \n",
    "        (SELECT Dept AS 'Department', \n",
    "        AVG(Salary) AS 'Average Salary' \n",
    "        FROM Employee GROUP BY Dept) AS _\n",
    "    WHERE `Average Salary` > 40000\n",
    "\"\"\"\n",
    "run(\n",
    "    \"\"\"\n",
    "    SELECT Dept AS 'Department', \n",
    "        AVG(Salary) AS `Average Salary` \n",
    "    FROM Employee GROUP BY Dept\n",
    "    HAVING `Average Salary` > 40000\n",
    "\"\"\"\n",
    ")\n",
    "disp()\n"
   ]
  },
  {
   "cell_type": "markdown",
   "metadata": {},
   "source": [
    "| Department | Average Salary |\n",
    "| ---------- | -------------: |\n",
    "| Production |     68333.3333 |\n",
    "| Marketing  |     80000.0000 |\n",
    "| Sales      |     75000.0000 |\n",
    "| Accounts   |     70000.0000 |\n"
   ]
  },
  {
   "cell_type": "markdown",
   "metadata": {},
   "source": [
    "##### 23. Find the department name and maximum salaries of those departments whose maximum salary is greater than 55000\n"
   ]
  },
  {
   "cell_type": "code",
   "execution_count": null,
   "metadata": {},
   "outputs": [],
   "source": [
    "run(\n",
    "    \"\"\"\n",
    "    SELECT Dept AS 'Department', \n",
    "        MAX(Salary) AS `Maximum Salary` \n",
    "    FROM Employee GROUP BY Dept\n",
    "    HAVING `Maximum Salary` > 40000\n",
    "\"\"\"\n",
    ")\n",
    "disp()\n"
   ]
  },
  {
   "cell_type": "markdown",
   "metadata": {},
   "source": [
    "| Department | Maximum Salary |\n",
    "| ---------- | -------------: |\n",
    "| Production |          90000 |\n",
    "| Marketing  |          80000 |\n",
    "| Sales      |          75000 |\n",
    "| Accounts   |          70000 |\n"
   ]
  },
  {
   "cell_type": "markdown",
   "metadata": {},
   "source": [
    "##### 24. Display the job_type and total monthly salary for each job_type where total payroll is exceeding 100000\n"
   ]
  },
  {
   "cell_type": "code",
   "execution_count": null,
   "metadata": {},
   "outputs": [],
   "source": [
    "run(\n",
    "    \"\"\"\n",
    "    SELECT Job_Type AS 'Job Type', \n",
    "        SUM(Salary) AS 'Total Monthly Salary'\n",
    "    FROM Employee GROUP BY Job_Type\n",
    "    HAVING SUM(Salary) > 100000\n",
    "\"\"\"\n",
    ")\n",
    "disp()\n"
   ]
  },
  {
   "cell_type": "markdown",
   "metadata": {},
   "source": [
    "| Job Type   | Total Monthly Salary |\n",
    "| ---------- | -------------------: |\n",
    "| Manager    |               170000 |\n",
    "| Engineer   |               115000 |\n",
    "| Accountant |               145000 |\n"
   ]
  },
  {
   "cell_type": "markdown",
   "metadata": {},
   "source": [
    "##### 25. Display the name of the department having maximum average salary\n"
   ]
  },
  {
   "cell_type": "code",
   "execution_count": null,
   "metadata": {},
   "outputs": [],
   "source": [
    "\"\"\"\n",
    "SELECT Dept, AVG(Salary) FROM Employee \n",
    "GROUP BY Dept \n",
    "ORDER BY AVG(Salary) DESC LIMIT 1\n",
    "\"\"\"\n",
    "run(\n",
    "    \"\"\"\n",
    "    SELECT Dept, AVG(Salary) AS 'Average Salary'\n",
    "    FROM Employee GROUP BY Dept \n",
    "    ORDER BY AVG(Salary) DESC LIMIT 1\n",
    "\"\"\"\n",
    ")\n",
    "disp()\n"
   ]
  },
  {
   "cell_type": "markdown",
   "metadata": {},
   "source": [
    "| Dept      | Average Salary |\n",
    "| --------- | -------------: |\n",
    "| Marketing |     80000.0000 |\n"
   ]
  }
 ],
 "metadata": {
  "kernelspec": {
   "display_name": "Python 3.10.6 64-bit",
   "language": "python",
   "name": "python3"
  },
  "language_info": {
   "codemirror_mode": {
    "name": "ipython",
    "version": 3
   },
   "file_extension": ".py",
   "mimetype": "text/x-python",
   "name": "python",
   "nbconvert_exporter": "python",
   "pygments_lexer": "ipython3",
   "version": "3.10.6"
  },
  "orig_nbformat": 4,
  "vscode": {
   "interpreter": {
    "hash": "7cc880fb414a6190fbce021e54b9550a41e00b0ed8e95a947d98634e734d910a"
   }
  }
 },
 "nbformat": 4,
 "nbformat_minor": 2
}
