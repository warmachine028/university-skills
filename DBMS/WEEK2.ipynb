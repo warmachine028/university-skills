{
 "cells": [
  {
   "cell_type": "markdown",
   "metadata": {},
   "source": [
    "#### Initializing Connection\n"
   ]
  },
  {
   "cell_type": "code",
   "execution_count": null,
   "metadata": {},
   "outputs": [],
   "source": [
    "import mysql.connector as sqltor\n",
    "\n",
    "connection = sqltor.connect(host=\"localhost\", user=\"root\", password=\"mysqlpasswd\")\n",
    "cursor = connection.cursor()\n",
    "cursor.execute(\"CREATE DATABASE IF NOT EXISTS week2\")\n",
    "cursor.execute(\"USE week2\")\n"
   ]
  },
  {
   "cell_type": "markdown",
   "metadata": {},
   "source": [
    "#### Additional Helper functions\n"
   ]
  },
  {
   "cell_type": "code",
   "execution_count": 5,
   "metadata": {},
   "outputs": [],
   "source": [
    "def disp():\n",
    "    print(*[line for line in cursor], sep=\"\\n\")\n",
    "\n",
    "\n",
    "def run(query: str):\n",
    "    cursor.execute(query)\n"
   ]
  },
  {
   "cell_type": "markdown",
   "metadata": {},
   "source": [
    "#### Testing Tables and Databases\n"
   ]
  },
  {
   "cell_type": "code",
   "execution_count": 6,
   "metadata": {},
   "outputs": [
    {
     "name": "stdout",
     "output_type": "stream",
     "text": [
      "('information_schema',)\n",
      "('mysql',)\n",
      "('performance_schema',)\n",
      "('sys',)\n",
      "('week1',)\n",
      "('week2',)\n",
      "('department',)\n",
      "('employee',)\n",
      "('loc',)\n"
     ]
    }
   ],
   "source": [
    "run(\"SHOW DATABASES\")\n",
    "disp()\n",
    "run(\"SHOW TABLES\")\n",
    "disp()\n",
    "# exit()\n"
   ]
  },
  {
   "cell_type": "markdown",
   "metadata": {},
   "source": [
    "### Queries\n"
   ]
  },
  {
   "cell_type": "markdown",
   "metadata": {},
   "source": [
    "1. Create a table employee with attributes emp_id, f_name, l_name, job_type, salary, dept, commission, manager_id.\n"
   ]
  },
  {
   "cell_type": "code",
   "execution_count": null,
   "metadata": {},
   "outputs": [],
   "source": [
    "run(\n",
    "    \"\"\"CREATE TABLE Employee (\n",
    "\t\t\t\temp_id INT(4),\n",
    "\t\t\t\tf_name VARCHAR(25),\n",
    "\t\t\t\tl_name VARCHAR(25),\n",
    "\t\t\t\tjob_type VARCHAR(10),\n",
    "\t\t\t\tsalary INT(10),\n",
    "\t\t\t\tdept VARCHAR(10),\n",
    "\t\t\t\tcommission INT(10),\n",
    "\t\t\t\tmanager_id VARCHAR(5)\n",
    "\t\t\t)\n",
    "\"\"\"\n",
    ")\n",
    "query1a = \"ALTER TABLE Employee DROP PRIMARY KEY\"\n"
   ]
  },
  {
   "cell_type": "markdown",
   "metadata": {},
   "source": [
    "|      Field      |    Type     | Null | Key | Default | Extra |\n",
    "| :-------------: | :---------: | :--: | :-: | :-----: | :---: |\n",
    "|     emp_id      |     int     | YES  |     |  NULL   |       |\n",
    "|     f_name      | varchar(25) | YES  |     |  NULL   |       |\n",
    "|     l_name      | varchar(25) | YES  |     |  NULL   |       |\n",
    "|    job_type     | varchar(10) | YES  |     |  NULL   |       |\n",
    "|     salary      |     int     | YES  |     |  NULL   |       |\n",
    "|      dept       | varchar(10) | YES  |     |  NULL   |       |\n",
    "|   commission    |     int     | YES  |     |  NULL   |       |\n",
    "|   manager_id    | varchar(5)  | YES  |     |  NULL   |       |\n",
    "| date_of_joining |    date     | YES  |     |  NULL   |       |\n"
   ]
  },
  {
   "cell_type": "markdown",
   "metadata": {},
   "source": [
    "2. Make emp_id as the primary key of employee table.\n"
   ]
  },
  {
   "cell_type": "code",
   "execution_count": null,
   "metadata": {},
   "outputs": [],
   "source": [
    "run(\"ALTER TABLE Employee ADD PRIMARY KEY(emp_id)\")\n"
   ]
  },
  {
   "cell_type": "markdown",
   "metadata": {},
   "source": [
    "|   Field    |    Type     | Null | Key | Default | Extra |\n",
    "| :--------: | :---------: | :--: | :-: | :-----: | :---: |\n",
    "|   emp_id   |     int     |  NO  | PRI |  NULL   |       |\n",
    "|   f_name   | varchar(25) | YES  |     |  NULL   |       |\n",
    "|   l_name   | varchar(25) | YES  |     |  NULL   |       |\n",
    "|  job_type  | varchar(10) | YES  |     |  NULL   |       |\n",
    "|   salary   |     int     | YES  |     |  NULL   |       |\n",
    "|    dept    | varchar(10) | YES  |     |  NULL   |       |\n",
    "| commission |     int     | YES  |     |  NULL   |       |\n",
    "| manager_id | varchar(5)  | YES  |     |  NULL   |       |\n"
   ]
  },
  {
   "cell_type": "markdown",
   "metadata": {},
   "source": [
    "3. Make f_name and salary NOT NULL type.\n"
   ]
  },
  {
   "cell_type": "code",
   "execution_count": null,
   "metadata": {},
   "outputs": [],
   "source": [
    "run(\n",
    "    \"\"\"ALTER TABLE Employee \n",
    "\t\t\t\tMODIFY f_name VARCHAR(25) NOT NULL,\n",
    "\t\t\t\tMODIFY salary INT(10) NOT NULL\n",
    "\"\"\"\n",
    ")\n"
   ]
  },
  {
   "cell_type": "markdown",
   "metadata": {},
   "source": [
    "|   Field    |    Type     | Null | Key | Default | Extra |\n",
    "| :--------: | :---------: | :--: | :-: | :-----: | :---: |\n",
    "|   emp_id   |     int     |  NO  | PRI |  NULL   |       |\n",
    "|   f_name   | varchar(25) |  NO  |     |  NULL   |       |\n",
    "|   l_name   | varchar(25) | YES  |     |  NULL   |       |\n",
    "|  job_type  | varchar(10) | YES  |     |  NULL   |       |\n",
    "|   salary   |     int     |  NO  |     |  NULL   |       |\n",
    "|    dept    | varchar(10) | YES  |     |  NULL   |       |\n",
    "| commission |     int     | YES  |     |  NULL   |       |\n",
    "| manager_id | varchar(5)  | YES  |     |  NULL   |       |\n"
   ]
  },
  {
   "cell_type": "markdown",
   "metadata": {},
   "source": [
    "4. Add a column date_of_joining in the employee table.\n"
   ]
  },
  {
   "cell_type": "code",
   "execution_count": null,
   "metadata": {},
   "outputs": [],
   "source": [
    "run(\"\"\"ALTER TABLE Employee ADD date_of_joining DATE\"\"\")\n"
   ]
  },
  {
   "cell_type": "markdown",
   "metadata": {},
   "source": [
    "|      Field      |    Type     | Null | Key | Default | Extra |\n",
    "| :-------------: | :---------: | :--: | :-: | :-----: | :---: |\n",
    "|     emp_id      |     int     |  NO  | PRI |  NULL   |       |\n",
    "|     f_name      | varchar(25) |  NO  |     |  NULL   |       |\n",
    "|     l_name      | varchar(25) | YES  |     |  NULL   |       |\n",
    "|    job_type     | varchar(10) | YES  |     |  NULL   |       |\n",
    "|     salary      |     int     |  NO  |     |  NULL   |       |\n",
    "|      dept       | varchar(10) | YES  |     |  NULL   |       |\n",
    "|   commission    |     int     | YES  |     |  NULL   |       |\n",
    "|   manager_id    | varchar(5)  | YES  |     |  NULL   |       |\n",
    "| date_of_joining |    date     | YES  |     |  NULL   |       |\n"
   ]
  },
  {
   "cell_type": "markdown",
   "metadata": {},
   "source": [
    "5. Create a table department with attribute d_name, d_loc and HOD_id where d_name is primary key.\n"
   ]
  },
  {
   "cell_type": "code",
   "execution_count": null,
   "metadata": {},
   "outputs": [],
   "source": [
    "run(\n",
    "    \"\"\"CREATE TABLE Department (\n",
    "\t\t\t\td_name VARCHAR(10) PRIMARY KEY,\n",
    "\t\t\t\td_loc VARCHAR(10),\n",
    "\t\t\t\tHOD_id VARCHAR(10)\n",
    "\t\t\t)\n",
    "\"\"\"\n",
    ")\n"
   ]
  },
  {
   "cell_type": "markdown",
   "metadata": {},
   "source": [
    "| Field  |    Type     | Null | Key | Default | Extra |\n",
    "| :----: | :---------: | :--: | :-: | :-----: | :---: |\n",
    "| d_name | varchar(10) |  NO  | PRI |  NULL   |       |\n",
    "| d_loc  | varchar(10) | YES  |     |  NULL   |       |\n",
    "| HOD_id | varchar(10) | YES  |     |  NULL   |       |\n"
   ]
  },
  {
   "cell_type": "markdown",
   "metadata": {},
   "source": [
    "6. Create a table location with attributes loc_id, city and contact_no.\n"
   ]
  },
  {
   "cell_type": "code",
   "execution_count": null,
   "metadata": {},
   "outputs": [],
   "source": [
    "run(\n",
    "    \"\"\"CREATE TABLE Location (\n",
    "\t\t\t\tloc_id VARCHAR(10),\n",
    "\t\t\t\tcity VARCHAR(20),\n",
    "\t\t\t\tcontact_no INT(12)\n",
    "\t\t\t)\n",
    "\"\"\"\n",
    ")\n"
   ]
  },
  {
   "cell_type": "markdown",
   "metadata": {},
   "source": [
    "|   Field    |    Type     | Null | Key | Default | Extra |\n",
    "| :--------: | :---------: | :--: | :-: | :-----: | :---: |\n",
    "|   loc_id   | varchar(10) | YES  |     |  NULL   |       |\n",
    "|    city    | varchar(20) | YES  |     |  NULL   |       |\n",
    "| contact_no |     int     | YES  |     |  NULL   |       |\n"
   ]
  },
  {
   "cell_type": "markdown",
   "metadata": {},
   "source": [
    "7. Enhance the size of the ‘city’ attribute by 5, in the location table.\n"
   ]
  },
  {
   "cell_type": "code",
   "execution_count": null,
   "metadata": {},
   "outputs": [],
   "source": [
    "run(\"ALTER TABLE Location MODIFY city VARCHAR(25)\")\n"
   ]
  },
  {
   "cell_type": "markdown",
   "metadata": {},
   "source": [
    "|   Field    |    Type     | Null | Key | Default | Extra |\n",
    "| :--------: | :---------: | :--: | :-: | :-----: | :---: |\n",
    "|   loc_id   | varchar(10) | YES  |     |  NULL   |       |\n",
    "|    city    | varchar(25) | YES  |     |  NULL   |       |\n",
    "| contact_no |     int     | YES  |     |  NULL   |       |\n"
   ]
  },
  {
   "cell_type": "markdown",
   "metadata": {},
   "source": [
    "8. Delete the contact_no attribute from the location table.\n"
   ]
  },
  {
   "cell_type": "code",
   "execution_count": null,
   "metadata": {},
   "outputs": [],
   "source": [
    "run(\"ALTER TABLE Location DROP contact_no\")\n"
   ]
  },
  {
   "cell_type": "markdown",
   "metadata": {},
   "source": [
    "| Field  |    Type     | Null | Key | Default | Extra |\n",
    "| :----: | :---------: | :--: | :-: | :-----: | :---: |\n",
    "| loc_id | varchar(10) | YES  |     |  NULL   |       |\n",
    "|  city  | varchar(25) | YES  |     |  NULL   |       |\n"
   ]
  },
  {
   "cell_type": "markdown",
   "metadata": {},
   "source": [
    "9. Make the department attribute of the employee table its foreign key referencing the\n",
    "   department table.\n"
   ]
  },
  {
   "cell_type": "code",
   "execution_count": null,
   "metadata": {},
   "outputs": [],
   "source": [
    "run(\n",
    "    \"\"\"ALTER TABLE Employee ADD FOREIGN KEY (dept)\n",
    "\t\t   REFERENCES Department(d_name)\n",
    "\"\"\"\n",
    ")\n"
   ]
  },
  {
   "cell_type": "markdown",
   "metadata": {},
   "source": [
    "|      Field      |    Type     | Null | Key | Default | Extra |\n",
    "| :-------------: | :---------: | :--: | :-: | :-----: | :---: |\n",
    "|     emp_id      |     int     |  NO  | PRI |  NULL   |       |\n",
    "|     f_name      | varchar(25) |  NO  |     |  NULL   |       |\n",
    "|     l_name      | varchar(25) | YES  |     |  NULL   |       |\n",
    "|    job_type     | varchar(10) | YES  |     |  NULL   |       |\n",
    "|     salary      |     int     |  NO  |     |  NULL   |       |\n",
    "|      dept       | varchar(10) | YES  | MUL |  NULL   |       |\n",
    "|   commission    |     int     | YES  |     |  NULL   |       |\n",
    "|   manager_id    | varchar(5)  | YES  |     |  NULL   |       |\n",
    "| date_of_joining |    date     | YES  |     |  NULL   |       |\n",
    "| date_of_joining |    date     | YES  |     |  NULL   |       |\n"
   ]
  },
  {
   "cell_type": "markdown",
   "metadata": {},
   "source": [
    "10. Rename the city attribute to ‘address’ in the location table.\n"
   ]
  },
  {
   "cell_type": "code",
   "execution_count": null,
   "metadata": {},
   "outputs": [],
   "source": [
    "run(\"ALTER TABLE Location RENAME COLUMN city TO address\")\n"
   ]
  },
  {
   "cell_type": "markdown",
   "metadata": {},
   "source": [
    "|  Field  |    Type     | Null | Key | Default | Extra |\n",
    "| :-----: | :---------: | :--: | :-: | :-----: | :---: |\n",
    "| loc_id  | varchar(10) | YES  |     |  NULL   |       |\n",
    "| address | varchar(25) | YES  |     |  NULL   |       |\n"
   ]
  },
  {
   "cell_type": "markdown",
   "metadata": {},
   "source": [
    "11. Rename the location table name to ‘loc’.\n"
   ]
  },
  {
   "cell_type": "code",
   "execution_count": null,
   "metadata": {},
   "outputs": [],
   "source": [
    "run(\"RENAME TABLE Location TO Loc\")\n"
   ]
  },
  {
   "cell_type": "markdown",
   "metadata": {},
   "source": [
    "12. Insert the following rows in ‘loc’ table.\n"
   ]
  },
  {
   "cell_type": "code",
   "execution_count": null,
   "metadata": {},
   "outputs": [],
   "source": [
    "run(\n",
    "    \"\"\"INSERT INTO Loc VALUES\n",
    "\t\t\t\t(1, 'Kolkata'),\n",
    "\t\t\t\t(2, 'Mumbai')\n",
    "\"\"\"\n",
    ")\n",
    "connection.commit()\n"
   ]
  },
  {
   "cell_type": "markdown",
   "metadata": {},
   "source": [
    "| loc_id | address |\n",
    "| :----: | :-----: |\n",
    "|   1    | Kolkata |\n",
    "|   2    | Mumbai  |\n"
   ]
  },
  {
   "cell_type": "markdown",
   "metadata": {},
   "source": [
    "13. Truncate the table ‘loc’.\n",
    "\n"
   ]
  },
  {
   "cell_type": "code",
   "execution_count": null,
   "metadata": {},
   "outputs": [],
   "source": [
    "run(\"TRUNCATE TABLE Loc\")\n"
   ]
  },
  {
   "cell_type": "markdown",
   "metadata": {},
   "source": [
    "| loc_id | address |\n",
    "| :----: | :-----: |\n"
   ]
  },
  {
   "cell_type": "markdown",
   "metadata": {},
   "source": [
    "14. Drop the table ‘loc’.\n",
    "\n"
   ]
  },
  {
   "cell_type": "code",
   "execution_count": null,
   "metadata": {},
   "outputs": [],
   "source": [
    "run(\"DROP TABLE Loc\")\n"
   ]
  },
  {
   "cell_type": "markdown",
   "metadata": {},
   "source": [
    "15. Insert the following rows in the department table:\n"
   ]
  },
  {
   "cell_type": "code",
   "execution_count": null,
   "metadata": {},
   "outputs": [],
   "source": [
    "run(\n",
    "    \"\"\"INSERT INTO Department VALUES\n",
    "\t\t\t\t('Sales', 'Kol', 4),\n",
    "\t\t\t\t('Accounts', 'Delhi', 6),\n",
    "\t\t\t\t('Production', 'Kol', 1),\n",
    "\t\t\t\t('Marketing', 'Kol', 2),\n",
    "\t\t\t\t('R & D', 'Marketing', 8)\n",
    "\n",
    "\"\"\"\n",
    ")\n"
   ]
  },
  {
   "cell_type": "markdown",
   "metadata": {},
   "source": [
    "| d_name     | d_loc     | HOD_id |\n",
    "|:------------:|:-----------:|:--------:|\n",
    "| Accounts   | Delhi     | 6      |\n",
    "| Marketing  | Kol       | 2      |\n",
    "| Production | Kol       | 1      |\n",
    "| R & D      | Marketing | 8      |\n",
    "| Sales      | Kol       | 4      |"
   ]
  },
  {
   "cell_type": "markdown",
   "metadata": {},
   "source": [
    "16. Insert the following rows in the employee table.\n"
   ]
  },
  {
   "cell_type": "code",
   "execution_count": null,
   "metadata": {},
   "outputs": [],
   "source": [
    "run(\n",
    "    \"\"\"INSERT INTO Employee (emp_id, f_name, l_name, job_type, salary, commission, dept, manager_id, date_of_joining) VALUES\n",
    "\t\t\t(1, 'Arun', 'Khan', 'Manager', 90000, 0, 'Production', NULL, '1998-01-04'),\n",
    "\t\t\t(2, 'Barun', 'Kumar', 'Manager', 80000, 0, 'Marketing', NULL, '1998-02-09'),\n",
    "\t\t\t(3, 'Chitra', 'Kapoor', 'Engineer', 60000, 0, 'Production', 1, '1998-01-08'),\n",
    "\t\t\t(10, 'Sunny', 'Deol', 'Salesman', 35000, 0, 'R & D', 8, '2017-10-17')\n",
    "\n",
    "\"\"\"\n",
    ")\n",
    "connection.commit()\n"
   ]
  },
  {
   "cell_type": "markdown",
   "metadata": {},
   "source": [
    "| emp_id | f_name | l_name | job_type | salary | dept       | commission | manager_id | date_of_joining |\n",
    "|:--------:|:--------:|:--------:|:----------:|:--------:|:------------:|:------------:|:------------:|:-----------------:|\n",
    "|      1 | Arun   | Khan   | Manager  |  90000 | Production |          0 | NULL       | 1998-01-04      |\n",
    "|      2 | Barun  | Kumar  | Manager  |  80000 | Marketing  |          0 | NULL       | 1998-02-09      |\n",
    "|      3 | Chitra | Kapoor | Engineer |  60000 | Production |          0 | 1          | 1998-01-08      |\n",
    "|     10 | Sunny  | Deol   | Salesman |  35000 | R & D      |          0 | 8          | 2017-10-17      |\n"
   ]
  },
  {
   "cell_type": "markdown",
   "metadata": {},
   "source": [
    "17. Show the values of departmental table.\n"
   ]
  },
  {
   "cell_type": "code",
   "execution_count": null,
   "metadata": {},
   "outputs": [],
   "source": [
    "run(\"SELECT * FROM Department\")\n",
    "disp()"
   ]
  },
  {
   "cell_type": "markdown",
   "metadata": {},
   "source": [
    "|   d_name   |   d_loc   | HOD_id |\n",
    "| :--------: | :-------: | :----: |\n",
    "|  Accounts  |   Delhi   |   6    |\n",
    "| Marketing  |    Kol    |   2    |\n",
    "| Production |    Kol    |   1    |\n",
    "|   R & D    | Marketing |   8    |\n",
    "|   Sales    |    Kol    |   4    |\n"
   ]
  },
  {
   "cell_type": "markdown",
   "metadata": {},
   "source": [
    "18. Show the values of departmental table.\n"
   ]
  },
  {
   "cell_type": "code",
   "execution_count": null,
   "metadata": {},
   "outputs": [],
   "source": [
    "run(\"SELECT d_name AS Name, d_loc AS Location FROM Department\")\n",
    "disp()"
   ]
  },
  {
   "cell_type": "markdown",
   "metadata": {},
   "source": [
    "|    Name    | Location  |\n",
    "| :--------: | :-------: |\n",
    "|  Accounts  |   Delhi   |\n",
    "| Marketing  |    Kol    |\n",
    "| Production |    Kol    |\n",
    "|   R & D    | Marketing |\n",
    "|   Sales    |    Kol    |\n"
   ]
  },
  {
   "cell_type": "markdown",
   "metadata": {},
   "source": [
    "19. Show the employees f_name , l_name , salary and the salary after 1000rs. Bonus."
   ]
  },
  {
   "cell_type": "code",
   "execution_count": null,
   "metadata": {},
   "outputs": [],
   "source": [
    "run(\"SELECT salary + 1000 AS 'Bonus Salary' FROM Employee\")\n",
    "disp()"
   ]
  },
  {
   "cell_type": "markdown",
   "metadata": {},
   "source": [
    "\n",
    "| Bonus Salary |\n",
    "|:-:|\n",
    "|        91000 |\n",
    "|        81000 |\n",
    "|        61000 |\n",
    "|        36000 |\n",
    "\n"
   ]
  },
  {
   "cell_type": "markdown",
   "metadata": {},
   "source": [
    "20. Show the employees annual salary with a 1000rs. Yearly bonus and the annual salary \n",
    "with a 100rs. Monthly bonus."
   ]
  },
  {
   "cell_type": "code",
   "execution_count": null,
   "metadata": {},
   "outputs": [],
   "source": [
    "run(\"SELECT (salary + 100) * 12 + 1000 AS 'Annual Salary' FROM Employee\")\n",
    "disp()"
   ]
  },
  {
   "cell_type": "markdown",
   "metadata": {},
   "source": [
    "\n",
    "| Annual Salary |\n",
    "|:---------------:|\n",
    "|       1082200 |\n",
    "|        962200 |\n",
    "|        722200 |\n",
    "|        422200 |\n",
    "\n"
   ]
  },
  {
   "cell_type": "markdown",
   "metadata": {},
   "source": [
    "21. Show f_name as NAME and annual salary as ANNSAL from the employee table."
   ]
  },
  {
   "cell_type": "code",
   "execution_count": null,
   "metadata": {},
   "outputs": [],
   "source": [
    "run(\"SELECT f_name AS NAME, salary * 12 AS ANNSAL from Employee\")\n",
    "disp()"
   ]
  },
  {
   "cell_type": "markdown",
   "metadata": {},
   "source": [
    "| NAME   | ANNSAL  |\n",
    "|:--------:|:---------:|\n",
    "| Arun   | 1080000 |\n",
    "| Barun  |  960000 |\n",
    "| Chitra |  720000 |\n",
    "| Sunny  |  420000 |\n",
    "\n"
   ]
  },
  {
   "cell_type": "markdown",
   "metadata": {},
   "source": [
    "22. Show the l_name as LasT AND 100rs. Incremented salary as NewSal.\n"
   ]
  },
  {
   "cell_type": "code",
   "execution_count": null,
   "metadata": {},
   "outputs": [],
   "source": [
    "run(\"SELECT l_name AS LasT, salary + 100 AS NewSal FROM Employee\")\n",
    "disp()\n"
   ]
  },
  {
   "cell_type": "markdown",
   "metadata": {},
   "source": [
    "| LasT   | NewSal |\n",
    "|:-:|:-:|\n",
    "| Khan   |  90100 |\n",
    "| Kumar  |  80100 |\n",
    "| Kapoor |  60100 |\n",
    "| Deol   |  35100 |"
   ]
  },
  {
   "cell_type": "markdown",
   "metadata": {},
   "source": [
    "23. Show the emp_id, f_name, l_name, job_type of the employee getting highest salary."
   ]
  },
  {
   "cell_type": "code",
   "execution_count": 13,
   "metadata": {},
   "outputs": [
    {
     "name": "stdout",
     "output_type": "stream",
     "text": [
      "(1, 'Arun', 'Khan', 'Manager', 90000)\n"
     ]
    }
   ],
   "source": [
    "run(\"\"\"SELECT emp_id, f_name, l_name, job_type FROM Employee \n",
    "    WHERE salary = (SELECT MAX(salary) FROM Employee)\n",
    "\"\"\")\n",
    "disp()"
   ]
  },
  {
   "cell_type": "markdown",
   "metadata": {},
   "source": [
    "| emp_id | f_name | l_name | job_type |\n",
    "|:--------:|:--------:|:--------:|:----------:|\n",
    "|      1 | Arun   | Khan   | Manager  |"
   ]
  },
  {
   "cell_type": "markdown",
   "metadata": {},
   "source": [
    "24. Show the emp_id, f_name, l_name, job_type of the employee getting minimum salary."
   ]
  },
  {
   "cell_type": "code",
   "execution_count": 15,
   "metadata": {},
   "outputs": [
    {
     "name": "stdout",
     "output_type": "stream",
     "text": [
      "(10, 'Sunny', 'Deol', 'Salesman')\n"
     ]
    }
   ],
   "source": [
    "run(\"\"\"SELECT emp_id, f_name, l_name, job_type FROM Employee \n",
    "    WHERE salary = (SELECT MIN(salary) FROM Employee)\n",
    "\"\"\")\n",
    "disp()"
   ]
  },
  {
   "cell_type": "markdown",
   "metadata": {},
   "source": [
    "| emp_id | f_name | l_name | job_type |\n",
    "|:--------:|:--------:|:--------:|:----------:|\n",
    "|      10 | Sunny   | Deol   | Salesman  |"
   ]
  },
  {
   "cell_type": "markdown",
   "metadata": {},
   "source": [
    "25. Show the average salary of employees in the employee table."
   ]
  },
  {
   "cell_type": "code",
   "execution_count": 17,
   "metadata": {},
   "outputs": [
    {
     "name": "stdout",
     "output_type": "stream",
     "text": [
      "(Decimal('66250.0000'),)\n"
     ]
    }
   ],
   "source": [
    "run(\"SELECT AVG(salary) AS 'Average Salary' FROM Employee\")\n",
    "disp()"
   ]
  },
  {
   "cell_type": "markdown",
   "metadata": {},
   "source": [
    "| Average Salary |\n",
    "|:----------------:|\n",
    "|     66250.0000 |"
   ]
  },
  {
   "cell_type": "markdown",
   "metadata": {},
   "source": [
    "26. Consider the Insurance database given below. The primary keys are underlined and the \n",
    "data types are specified:  \n",
    "    - PERSON (driver-id: string, name: string, address: string)   \n",
    "    - CAR (Regno:string,model:string,year:int)   \n",
    "    - ACCIDENT (report-number:int,date:date,location:string)   \n",
    "    - OWNS (driver-id:string,regno:string)   \n",
    "    - PARTICIPATED (driver-id:string,regno:string,report-number:int,damage-amount:int)  \n",
    "    i. Create the above tables by properly specifying the primary keys and the foreign keys  \n",
    "   ii. Enter atleast five tuples for each relation  \n",
    "  iii. Demonstrate how you a. Update the damage amount for the car with a specific regno in accident with report number 12 to 25000 b. Add a new accident to the database.  \n",
    "   iv. Find the total number of people who owned cars that were involved in accidents in 2006.   \n",
    "    v. Find the number of accidents in which cars belonging to a specific model were involved.  "
   ]
  },
  {
   "cell_type": "code",
   "execution_count": null,
   "metadata": {},
   "outputs": [],
   "source": [
    "run(\"\")"
   ]
  }
 ],
 "metadata": {
  "kernelspec": {
   "display_name": "Python 3.10.6 64-bit",
   "language": "python",
   "name": "python3"
  },
  "language_info": {
   "codemirror_mode": {
    "name": "ipython",
    "version": 3
   },
   "file_extension": ".py",
   "mimetype": "text/x-python",
   "name": "python",
   "nbconvert_exporter": "python",
   "pygments_lexer": "ipython3",
   "version": "3.10.6"
  },
  "orig_nbformat": 4,
  "vscode": {
   "interpreter": {
    "hash": "7cc880fb414a6190fbce021e54b9550a41e00b0ed8e95a947d98634e734d910a"
   }
  }
 },
 "nbformat": 4,
 "nbformat_minor": 2
}
