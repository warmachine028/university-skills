{
 "cells": [
  {
   "cell_type": "markdown",
   "metadata": {},
   "source": [
    "### Assignment 4 (12th September 2022, Monday)\n"
   ]
  },
  {
   "cell_type": "markdown",
   "metadata": {},
   "source": [
    "#### Initializing Connection\n"
   ]
  },
  {
   "cell_type": "code",
   "execution_count": 1,
   "metadata": {},
   "outputs": [],
   "source": [
    "import mysql.connector as sqltor\n",
    "\n",
    "connection = sqltor.connect(host=\"localhost\", user=\"root\", password=\"mysqlpasswd\")\n",
    "cursor = connection.cursor()\n",
    "cursor.execute(\"CREATE DATABASE IF NOT EXISTS week4\")\n",
    "cursor.execute(\"USE week4\")\n"
   ]
  },
  {
   "cell_type": "markdown",
   "metadata": {},
   "source": [
    "#### Adding Helper functions\n"
   ]
  },
  {
   "cell_type": "code",
   "execution_count": 2,
   "metadata": {},
   "outputs": [],
   "source": [
    "def disp():\n",
    "    print(*[line for line in cursor], sep=\"\\n\")\n",
    "\n",
    "\n",
    "def run(query: str):\n",
    "    cursor.execute(query)\n"
   ]
  },
  {
   "cell_type": "markdown",
   "metadata": {},
   "source": [
    "#### Testing Tables and Datasets\n"
   ]
  },
  {
   "cell_type": "code",
   "execution_count": 3,
   "metadata": {},
   "outputs": [
    {
     "name": "stdout",
     "output_type": "stream",
     "text": [
      "('information_schema',)\n",
      "('mysql',)\n",
      "('performance_schema',)\n",
      "('sys',)\n",
      "('week4',)\n",
      "('integers',)\n"
     ]
    }
   ],
   "source": [
    "run(\"SHOW DATABASES\")\n",
    "disp()\n",
    "run(\"SHOW TABLES\")\n",
    "disp()\n",
    "# exit()\n"
   ]
  },
  {
   "cell_type": "markdown",
   "metadata": {},
   "source": [
    "| Database           |\n",
    "| ------------------ |\n",
    "| information_schema |\n",
    "| mysql              |\n",
    "| performance_schema |\n",
    "| sys                |\n",
    "| week1              |\n",
    "| week2              |\n",
    "| week3              |\n",
    "| week3i              |\n",
    "| week4              |"
   ]
  },
  {
   "cell_type": "markdown",
   "metadata": {},
   "source": [
    "#### Queries\n"
   ]
  },
  {
   "cell_type": "markdown",
   "metadata": {},
   "source": [
    "##### 1. Show the use of upper and lower function."
   ]
  },
  {
   "cell_type": "code",
   "execution_count": 4,
   "metadata": {},
   "outputs": [
    {
     "name": "stdout",
     "output_type": "stream",
     "text": [
      "('HELLO WORLD',)\n",
      "('hello world',)\n"
     ]
    }
   ],
   "source": [
    "run(\"SELECT UPPER('hello world') AS UPPER\"); disp()\n",
    "run(\"SELECT LOWER('HELLO WORLD') AS LOWER\"); disp()\n"
   ]
  },
  {
   "cell_type": "markdown",
   "metadata": {},
   "source": [
    "TABLE PREVIEW"
   ]
  },
  {
   "cell_type": "markdown",
   "metadata": {},
   "source": [
    "##### 2. Show the use of concat, instr and length function."
   ]
  },
  {
   "cell_type": "code",
   "execution_count": 5,
   "metadata": {},
   "outputs": [
    {
     "name": "stdout",
     "output_type": "stream",
     "text": [
      "('HELLOWORLD',)\n",
      "(5,)\n"
     ]
    }
   ],
   "source": [
    "run(\"SELECT CONCAT('HELLO', 'WORLD') AS CONCATENATE\"); disp()\n",
    "run(\"SELECT INSTR('Pritam A40', 'A') AS 'FIND STRING'\"); disp()"
   ]
  },
  {
   "cell_type": "markdown",
   "metadata": {},
   "source": [
    "TABLE PREVIEW"
   ]
  },
  {
   "cell_type": "markdown",
   "metadata": {},
   "source": [
    "##### 3. Show the use of the following functions on numeric values:\n",
    "    i. Sqrt()\n",
    "    ii. Power()\n",
    "    iii. Ceil()\n",
    "    iv. Substr()\n",
    "    v. Max()\n",
    "    vi. Min()\n",
    "    vii. Round()\n",
    "    viii. Avg()\n",
    "    ix. Count()\n",
    "    x. Exp()\n",
    "    xi. Mod()"
   ]
  },
  {
   "cell_type": "markdown",
   "metadata": {},
   "source": [
    "PRE REQUISITE"
   ]
  },
  {
   "cell_type": "code",
   "execution_count": 23,
   "metadata": {},
   "outputs": [],
   "source": [
    "run(\"CREATE TABLE IF NOT EXISTS INTEGERS(NUMBER INT)\")\n",
    "run(\"TRUNCATE INTEGERS\")\n",
    "run(\"INSERT INTO INTEGERS VALUES (1), (2), (3), (4), (5)\")\n",
    "connection.commit()"
   ]
  },
  {
   "cell_type": "markdown",
   "metadata": {},
   "source": [
    "QUERIES"
   ]
  },
  {
   "cell_type": "code",
   "execution_count": 38,
   "metadata": {},
   "outputs": [
    {
     "name": "stdout",
     "output_type": "stream",
     "text": [
      "(32.0,)\n",
      "(16.0,)\n",
      "(5,)\n",
      "('PRITAM',)\n",
      "(5,)\n",
      "(1,)\n",
      "(Decimal('10'),)\n",
      "(Decimal('3.0000'),)\n",
      "(20.085536923187668,)\n",
      "(1,)\n"
     ]
    }
   ],
   "source": [
    "run(\"SELECT SQRT(1024) AS SQRT\"); disp()\n",
    "run(\"SELECT POWER(4, 2) AS POWER\"); disp()\n",
    "run(\"SELECT CEIL(4.9) AS CEIL\"); disp()\n",
    "run(\"SELECT SUBSTR('PRITAM KUNDU', 1, 6) AS SUBSTRING\"); disp()\n",
    "run(\"SELECT MAX(NUMBER) AS MAXIMUM FROM INTEGERS\"); disp()\n",
    "run(\"SELECT MIN(NUMBER) AS MINIMUM FROM INTEGERS\"); disp()\n",
    "run(\"SELECT ROUND(9.98) AS ROUND\"); disp()\n",
    "run(\"SELECT AVG(NUMBER) AS AVERAGE FROM INTEGERS\"); disp()\n",
    "run(\"SELECT EXP(3) AS EXPONENT\"); disp()\n",
    "run(\"SELECT MOD(7, 3) AS MODULUS\"); disp()\n"
   ]
  },
  {
   "cell_type": "code",
   "execution_count": 18,
   "metadata": {},
   "outputs": [],
   "source": [
    "run(\"SELECT * FROM INTEGERS\")\n",
    "# connection.commit()"
   ]
  },
  {
   "cell_type": "markdown",
   "metadata": {},
   "source": [
    "TABLE PREVIEW"
   ]
  },
  {
   "cell_type": "markdown",
   "metadata": {},
   "source": [
    "##### 4. Solve the following queries\n",
    "    1. Find the ceiling and floor value of 14.887\n",
    "    2. Find out the round off of 17.49989\n",
    "    3. Calculate 8<sup>7</sup>"
   ]
  },
  {
   "cell_type": "code",
   "execution_count": 43,
   "metadata": {},
   "outputs": [
    {
     "name": "stdout",
     "output_type": "stream",
     "text": [
      "(15, 14)\n",
      "(Decimal('17'),)\n",
      "(2097152.0,)\n"
     ]
    }
   ],
   "source": [
    "run(\"SELECT CEIL(14.887), FLOOR(14.887)\"); disp()\n",
    "run(\"SELECT ROUND(17.49989)\"); disp()\n",
    "run(\"SELECT POW(8, 7)\"); disp()"
   ]
  },
  {
   "cell_type": "markdown",
   "metadata": {},
   "source": [
    "TABLE PREVIEW"
   ]
  },
  {
   "cell_type": "markdown",
   "metadata": {},
   "source": [
    "##### 5. Show the current date"
   ]
  },
  {
   "cell_type": "code",
   "execution_count": 45,
   "metadata": {},
   "outputs": [
    {
     "name": "stdout",
     "output_type": "stream",
     "text": [
      "(datetime.date(2022, 9, 13),)\n"
     ]
    }
   ],
   "source": [
    "run(\"SELECT CURDATE()\"); disp()"
   ]
  },
  {
   "cell_type": "markdown",
   "metadata": {},
   "source": [
    "TABLE PREVIEW"
   ]
  },
  {
   "cell_type": "markdown",
   "metadata": {},
   "source": [
    "##### 6. Find the total experience of the employees in weeks who works in Sales department"
   ]
  },
  {
   "cell_type": "code",
   "execution_count": null,
   "metadata": {},
   "outputs": [
    {
     "name": "stdout",
     "output_type": "stream",
     "text": [
      "(datetime.date(2022, 9, 13),)\n"
     ]
    }
   ],
   "source": [
    "run(\"\"\"\n",
    "    SELECT SUM(Experience) FROM Employees \n",
    "    WHERE Dept = 'Sales' GROUP BY WEEK\n",
    "\"\"\"); disp()"
   ]
  },
  {
   "cell_type": "markdown",
   "metadata": {},
   "source": [
    "TABLE PREVIEW"
   ]
  },
  {
   "cell_type": "markdown",
   "metadata": {},
   "source": [
    "##### 7. Display the use of the following functions on date\n",
    "    1. Months_between\n",
    "    2. Add_months\n",
    "    3. Next_day\n",
    "    4. last_day\n",
    "    5. Round\n",
    "    6. Trunc\n",
    "    7. To_char"
   ]
  },
  {
   "cell_type": "code",
   "execution_count": 66,
   "metadata": {},
   "outputs": [
    {
     "name": "stdout",
     "output_type": "stream",
     "text": [
      "(2,)\n",
      "('2002-04-15',)\n",
      "(datetime.datetime(2022, 9, 14, 15, 19, 14),)\n",
      "(datetime.datetime(2022, 9, 12, 15, 19, 14),)\n",
      "('13th-September-2022',)\n"
     ]
    }
   ],
   "source": [
    "run(\"SELECT TIMESTAMPDIFF(month, '2021-05-18', '2021-07-29')\"); disp()\n",
    "run(\"SELECT DATE_ADD('2002-03-15', INTERVAL 1 MONTH)\");disp()\n",
    "run(\"SELECT DATE_ADD(NOW(), INTERVAL 1 DAY)\");disp()\n",
    "run(\"SELECT DATE_SUB(NOW(), INTERVAL 1 DAY)\");disp()\n",
    "# 5\n",
    "# 6\n",
    "run(\"SELECT DATE_FORMAT(NOW(), '%D-%M-%Y')\"); disp()\n"
   ]
  },
  {
   "cell_type": "markdown",
   "metadata": {},
   "source": [
    "TABLE PREVIEW"
   ]
  },
  {
   "cell_type": "markdown",
   "metadata": {},
   "source": [
    "##### 8. Show the employee details with a revised salary. The salary is incremented in the following way:\n",
    "    1. 10% for sales department\n",
    "    2. 20% for marketing department\n",
    "    3. No increment for others"
   ]
  },
  {
   "cell_type": "code",
   "execution_count": null,
   "metadata": {},
   "outputs": [
    {
     "name": "stdout",
     "output_type": "stream",
     "text": [
      "(datetime.date(2022, 9, 13),)\n"
     ]
    }
   ],
   "source": [
    "run(\"SELECT CURDATE()\"); disp()"
   ]
  },
  {
   "cell_type": "markdown",
   "metadata": {},
   "source": [
    "TABLE PREVIEW"
   ]
  },
  {
   "cell_type": "code",
   "execution_count": 62,
   "metadata": {},
   "outputs": [
    {
     "name": "stdout",
     "output_type": "stream",
     "text": [
      "('2002-04-15',)\n"
     ]
    }
   ],
   "source": [
    "disp()"
   ]
  },
  {
   "cell_type": "markdown",
   "metadata": {},
   "source": [
    "##### 9. Determine the tax for each employee in production department based on the monthly salary. The tax rate are as per the following data:\n",
    "\n",
    "| Monthly Salary Range | Rate|\n",
    "|:---------------------|:----|\n",
    "|0-19,999 | 0%|\n",
    "    "
   ]
  },
  {
   "cell_type": "code",
   "execution_count": null,
   "metadata": {},
   "outputs": [],
   "source": []
  }
 ],
 "metadata": {
  "kernelspec": {
   "display_name": "Python 3.8.10 64-bit",
   "language": "python",
   "name": "python3"
  },
  "language_info": {
   "codemirror_mode": {
    "name": "ipython",
    "version": 3
   },
   "file_extension": ".py",
   "mimetype": "text/x-python",
   "name": "python",
   "nbconvert_exporter": "python",
   "pygments_lexer": "ipython3",
   "version": "3.8.10"
  },
  "orig_nbformat": 4,
  "vscode": {
   "interpreter": {
    "hash": "55f91a5d872d7abd86654d27634ffa2ffbcbdf1ee5593eb3acc11a36464c0e7a"
   }
  }
 },
 "nbformat": 4,
 "nbformat_minor": 2
}
