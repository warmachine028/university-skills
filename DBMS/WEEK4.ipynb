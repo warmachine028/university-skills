{
 "cells": [
  {
   "cell_type": "markdown",
   "metadata": {},
   "source": [
    "### Assignment 4 (12th September 2022, Monday)\n"
   ]
  },
  {
   "cell_type": "markdown",
   "metadata": {},
   "source": [
    "#### Initializing Connection\n"
   ]
  },
  {
   "cell_type": "code",
   "execution_count": 1,
   "metadata": {},
   "outputs": [],
   "source": [
    "import mysql.connector as sqltor\n",
    "\n",
    "connection = sqltor.connect(host=\"localhost\", user=\"root\", password=\"mysqlpasswd\")\n",
    "cursor = connection.cursor()\n",
    "cursor.execute(\"CREATE DATABASE IF NOT EXISTS week4\")\n",
    "cursor.execute(\"USE week4\")\n"
   ]
  },
  {
   "cell_type": "markdown",
   "metadata": {},
   "source": [
    "#### Adding Helper functions\n"
   ]
  },
  {
   "cell_type": "code",
   "execution_count": 2,
   "metadata": {},
   "outputs": [],
   "source": [
    "def disp():\n",
    "    print(*[line for line in cursor], sep=\"\\n\")\n",
    "\n",
    "\n",
    "def run(query: str):\n",
    "    cursor.execute(query)\n"
   ]
  },
  {
   "cell_type": "markdown",
   "metadata": {},
   "source": [
    "#### Testing Tables and Datasets\n"
   ]
  },
  {
   "cell_type": "code",
   "execution_count": 3,
   "metadata": {},
   "outputs": [
    {
     "name": "stdout",
     "output_type": "stream",
     "text": [
      "('information_schema',)\n",
      "('mysql',)\n",
      "('performance_schema',)\n",
      "('sys',)\n",
      "('week1',)\n",
      "('week2',)\n",
      "('week3',)\n",
      "('week3i',)\n",
      "('week4',)\n",
      "\n"
     ]
    }
   ],
   "source": [
    "run(\"SHOW DATABASES\")\n",
    "disp()\n",
    "run(\"SHOW TABLES\")\n",
    "disp()\n",
    "# exit()\n"
   ]
  },
  {
   "cell_type": "markdown",
   "metadata": {},
   "source": [
    "| Database           |\n",
    "| ------------------ |\n",
    "| information_schema |\n",
    "| mysql              |\n",
    "| performance_schema |\n",
    "| sys                |\n",
    "| week1              |\n",
    "| week2              |\n",
    "| week3              |\n",
    "| week3i             |\n",
    "| week4              |\n"
   ]
  },
  {
   "cell_type": "markdown",
   "metadata": {},
   "source": [
    "#### Queries\n"
   ]
  },
  {
   "cell_type": "markdown",
   "metadata": {},
   "source": [
    "##### 1. Show the use of upper and lower function.\n"
   ]
  },
  {
   "cell_type": "code",
   "execution_count": 4,
   "metadata": {},
   "outputs": [
    {
     "name": "stdout",
     "output_type": "stream",
     "text": [
      "('HELLO WORLD',)\n",
      "('hello world',)\n"
     ]
    }
   ],
   "source": [
    "run(\"SELECT UPPER('hello world') AS UPPER\")\n",
    "disp()\n",
    "run(\"SELECT LOWER('HELLO WORLD') AS LOWER\")\n",
    "disp()\n"
   ]
  },
  {
   "cell_type": "markdown",
   "metadata": {},
   "source": [
    "TABLE PREVIEW\n"
   ]
  },
  {
   "cell_type": "markdown",
   "metadata": {},
   "source": [
    "| UPPER       |\n",
    "| :---------- |\n",
    "| HELLO WORLD |\n",
    "\n",
    "| LOWER       |\n",
    "| :---------- |\n",
    "| hello world |\n"
   ]
  },
  {
   "cell_type": "markdown",
   "metadata": {},
   "source": [
    "##### 2. Show the use of concat, instr and length function.\n"
   ]
  },
  {
   "cell_type": "code",
   "execution_count": 5,
   "metadata": {},
   "outputs": [
    {
     "name": "stdout",
     "output_type": "stream",
     "text": [
      "('HELLOWORLD',)\n",
      "(5,)\n"
     ]
    }
   ],
   "source": [
    "run(\"SELECT CONCAT('HELLO', 'WORLD') AS CONCATENATE\")\n",
    "disp()\n",
    "run(\"SELECT INSTR('Pritam A40', 'A') AS 'FIND STRING'\")\n",
    "disp()\n"
   ]
  },
  {
   "cell_type": "markdown",
   "metadata": {},
   "source": [
    "TABLE PREVIEW\n"
   ]
  },
  {
   "cell_type": "markdown",
   "metadata": {},
   "source": [
    "| CONCATENATE |\n",
    "| :---------- |\n",
    "| HELLOWORLD  |\n",
    "\n",
    "| FIND STRING |\n",
    "| :---------- |\n",
    "| 5           |\n"
   ]
  },
  {
   "cell_type": "markdown",
   "metadata": {},
   "source": [
    "##### 3. Show the use of the following functions on numeric values:\n",
    "\n",
    "    i. Sqrt()\n",
    "    ii. Power()\n",
    "    iii. Ceil()\n",
    "    iv. Substr()\n",
    "    v. Max()\n",
    "    vi. Min()\n",
    "    vii. Round()\n",
    "    viii. Avg()\n",
    "    ix. Count()\n",
    "    x. Exp()\n",
    "    xi. Mod()\n"
   ]
  },
  {
   "cell_type": "markdown",
   "metadata": {},
   "source": [
    "PRE REQUISITE\n"
   ]
  },
  {
   "cell_type": "code",
   "execution_count": 6,
   "metadata": {},
   "outputs": [],
   "source": [
    "run(\"CREATE TABLE IF NOT EXISTS INTEGERS(NUMBER INT)\")\n",
    "run(\"TRUNCATE INTEGERS\")\n",
    "run(\"INSERT INTO INTEGERS VALUES (1), (2), (3), (4), (5)\")\n",
    "connection.commit()\n"
   ]
  },
  {
   "cell_type": "markdown",
   "metadata": {},
   "source": [
    "QUERIES\n"
   ]
  },
  {
   "cell_type": "code",
   "execution_count": null,
   "metadata": {},
   "outputs": [],
   "source": [
    "run(\"SELECT SQRT(1024) AS SQRT\")\n",
    "disp()\n",
    "run(\"SELECT POWER(4, 2) AS POWER\")\n",
    "disp()\n",
    "run(\"SELECT CEIL(4.9) AS CEIL\")\n",
    "disp()\n",
    "run(\"SELECT SUBSTR('PRITAM KUNDU', 1, 6) AS SUBSTRING\")\n",
    "disp()\n",
    "run(\"SELECT MAX(NUMBER) AS MAXIMUM FROM INTEGERS\")\n",
    "disp()\n",
    "run(\"SELECT MIN(NUMBER) AS MINIMUM FROM INTEGERS\")\n",
    "disp()\n",
    "run(\"SELECT ROUND(9.98) AS ROUND\")\n",
    "disp()\n",
    "run(\"SELECT AVG(NUMBER) AS AVERAGE FROM INTEGERS\")\n",
    "disp()\n",
    "run(\"SELECT COUNT(*) AS `NUMBER OF INTEGERS` FROM INTEGERS\")\n",
    "disp()\n",
    "run(\"SELECT EXP(3) AS EXPONENT\")\n",
    "disp()\n",
    "run(\"SELECT MOD(7, 3) AS MODULUS\")\n",
    "disp()\n"
   ]
  },
  {
   "cell_type": "markdown",
   "metadata": {},
   "source": [
    "TABLE PREVIEW\n"
   ]
  },
  {
   "cell_type": "markdown",
   "metadata": {},
   "source": [
    "| SQRT |\n",
    "| :--- |\n",
    "| 32   |\n",
    "\n",
    "| POWER |\n",
    "| :---- |\n",
    "| 16    |\n"
   ]
  },
  {
   "cell_type": "markdown",
   "metadata": {},
   "source": [
    "##### 4. Solve the following queries\n",
    "\n",
    "    1. Find the ceiling and floor value of 14.887\n",
    "    2. Find out the round off of 17.49989\n",
    "    3. Calculate 8<sup>7</sup>\n"
   ]
  },
  {
   "cell_type": "code",
   "execution_count": 43,
   "metadata": {},
   "outputs": [
    {
     "name": "stdout",
     "output_type": "stream",
     "text": [
      "(15, 14)\n",
      "(Decimal('17'),)\n",
      "(2097152.0,)\n"
     ]
    }
   ],
   "source": [
    "run(\"SELECT CEIL(14.887), FLOOR(14.887)\")\n",
    "disp()\n",
    "run(\"SELECT ROUND(17.49989)\")\n",
    "disp()\n",
    "run(\"SELECT POW(8, 7)\")\n",
    "disp()\n"
   ]
  },
  {
   "cell_type": "markdown",
   "metadata": {},
   "source": [
    "TABLE PREVIEW\n"
   ]
  },
  {
   "cell_type": "markdown",
   "metadata": {},
   "source": [
    "| CEIL(14.887) | FLOOR(14.887) |\n",
    "| ------------ | ------------- |\n",
    "| 15           | 14            |\n",
    "\n",
    "| ROUND(17.49989) |\n",
    "| --------------- |\n",
    "| 17              |\n",
    "\n",
    "| POW(8, 7) |\n",
    "| --------- |\n",
    "| 2097152   |\n"
   ]
  },
  {
   "cell_type": "markdown",
   "metadata": {},
   "source": [
    "##### 5. Show the current date\n"
   ]
  },
  {
   "cell_type": "code",
   "execution_count": 45,
   "metadata": {},
   "outputs": [
    {
     "name": "stdout",
     "output_type": "stream",
     "text": [
      "(datetime.date(2022, 9, 13),)\n"
     ]
    }
   ],
   "source": [
    "run(\"SELECT CURDATE()\")\n",
    "disp()\n"
   ]
  },
  {
   "cell_type": "markdown",
   "metadata": {},
   "source": [
    "TABLE PREVIEW\n"
   ]
  },
  {
   "cell_type": "markdown",
   "metadata": {},
   "source": [
    "| CURDATE()  |\n",
    "| ---------- |\n",
    "| 2022-10-16 |\n"
   ]
  },
  {
   "cell_type": "markdown",
   "metadata": {},
   "source": [
    "##### 6. Find the total experience of the employees in weeks who works in Sales department\n"
   ]
  },
  {
   "cell_type": "code",
   "execution_count": null,
   "metadata": {},
   "outputs": [],
   "source": [
    "run(\n",
    "    \"\"\"\n",
    "    SELECT SUM(Experience) FROM Employees \n",
    "    WHERE Dept = 'Sales' GROUP BY WEEK\n",
    "\"\"\"\n",
    ")\n",
    "disp()\n"
   ]
  },
  {
   "cell_type": "markdown",
   "metadata": {},
   "source": [
    "TABLE PREVIEW\n"
   ]
  },
  {
   "cell_type": "markdown",
   "metadata": {},
   "source": [
    "| SUM(Experience) |\n",
    "| --------------: |\n",
    "|             100 |\n",
    "|              20 |\n",
    "|              40 |\n"
   ]
  },
  {
   "cell_type": "markdown",
   "metadata": {},
   "source": [
    "##### 7. Display the use of the following functions on date\n",
    "\n",
    "    1. Months_between\n",
    "    2. Add_months\n",
    "    3. Next_day\n",
    "    4. last_day\n",
    "    5. Round\n",
    "    6. Trunc\n",
    "    7. To_char\n"
   ]
  },
  {
   "cell_type": "code",
   "execution_count": 66,
   "metadata": {},
   "outputs": [
    {
     "name": "stdout",
     "output_type": "stream",
     "text": [
      "(2,)\n",
      "('2002-04-15',)\n",
      "(datetime.datetime(2022, 9, 14, 15, 19, 14),)\n",
      "(datetime.datetime(2022, 9, 12, 15, 19, 14),)\n",
      "('13th-September-2022',)\n"
     ]
    }
   ],
   "source": [
    "run(\"SELECT TIMESTAMPDIFF(month, '2021-05-18', '2021-07-29') AS MONTH_DIFF\")\n",
    "disp()\n",
    "run(\"SELECT DATE_ADD('2002-03-15', INTERVAL 1 MONTH) AS MONTH_ADD\")\n",
    "disp()\n",
    "run(\"SELECT DATE_ADD(NOW(), INTERVAL 1 DAY)\")\n",
    "disp()\n",
    "run(\"SELECT DATE_SUB(NOW(), INTERVAL 1 DAY)\")\n",
    "disp()\n",
    "# 5\n",
    "# 6\n",
    "run(\"SELECT DATE_FORMAT(NOW(), '%D-%M-%Y')\")\n",
    "disp()\n"
   ]
  },
  {
   "cell_type": "markdown",
   "metadata": {},
   "source": [
    "TABLE PREVIEW\n"
   ]
  },
  {
   "cell_type": "markdown",
   "metadata": {},
   "source": [
    "| MONTH_DIFF |\n",
    "| ---------- |\n",
    "| 2          |\n",
    "\n",
    "| MONTH_ADD  |\n",
    "| ---------- |\n",
    "| 2002-04-15 |\n"
   ]
  },
  {
   "cell_type": "markdown",
   "metadata": {},
   "source": [
    "##### 8. Show the employee details with a revised salary. The salary is incremented in the following way:\n",
    "\n",
    "    1. 10% for sales department\n",
    "    2. 20% for marketing department\n",
    "    3. No increment for others\n"
   ]
  },
  {
   "cell_type": "code",
   "execution_count": null,
   "metadata": {},
   "outputs": [],
   "source": [
    "run(\n",
    "    \"\"\"\n",
    "\n",
    "\"\"\"\n",
    ")\n",
    "disp()\n"
   ]
  },
  {
   "cell_type": "markdown",
   "metadata": {},
   "source": [
    "TABLE PREVIEW\n"
   ]
  },
  {
   "cell_type": "code",
   "execution_count": null,
   "metadata": {},
   "outputs": [],
   "source": [
    "\n"
   ]
  },
  {
   "cell_type": "markdown",
   "metadata": {},
   "source": [
    "##### 9. Determine the tax for each employee in production department based on the monthly salary. The tax rate are as per the following data:\n",
    "\n",
    "| Monthly Salary Range | Rate |\n",
    "| :------------------- | :--- |\n",
    "| 0-19,999             | 0%   |\n",
    "| 20,000-39,999        | 9%   |\n",
    "| 40,000-59,999        | 20%  |\n",
    "| 60,000-79,999        | 30%  |\n",
    "| 80,000 or more       | 45%  |\n"
   ]
  },
  {
   "cell_type": "code",
   "execution_count": null,
   "metadata": {},
   "outputs": [],
   "source": []
  },
  {
   "cell_type": "markdown",
   "metadata": {},
   "source": [
    "TABLE PREVIEW\n"
   ]
  },
  {
   "cell_type": "code",
   "execution_count": null,
   "metadata": {},
   "outputs": [],
   "source": [
    "\n"
   ]
  },
  {
   "cell_type": "markdown",
   "metadata": {},
   "source": [
    "#### 10. Find the Cartesian product between Employee and Department table.\n"
   ]
  },
  {
   "cell_type": "code",
   "execution_count": null,
   "metadata": {},
   "outputs": [],
   "source": [
    "run(\"SELECT * FROM employee JOIN department\")\n",
    "disp()\n"
   ]
  },
  {
   "cell_type": "markdown",
   "metadata": {},
   "source": [
    "TABLE PREVIEW\n"
   ]
  },
  {
   "cell_type": "markdown",
   "metadata": {},
   "source": [
    "| Emp_id | F_Name  | L_Name | Job_Type   | Salary | Comission | Dept       | Manager_id | DOJ        | d_name     | d_loc     | HOD_id |\n",
    "| ------ | ------- | ------ | ---------- | ------ | --------- | ---------- | ---------- | ---------- | ---------- | --------- | ------ |\n",
    "| 1      | Arun    | Khan   | Manager    | 90000  | NULL      | Production | NULL       | 1998-01-04 | R & D      | Marketing | 8      |\n",
    "| 1      | Arun    | Khan   | Manager    | 90000  | NULL      | Production | NULL       | 1998-01-04 | Marketing  | Kol       | 2      |\n",
    "| 1      | Arun    | Khan   | Manager    | 90000  | NULL      | Production | NULL       | 1998-01-04 | Production | Kol       | 1      |\n",
    "| 1      | Arun    | Khan   | Manager    | 90000  | NULL      | Production | NULL       | 1998-01-04 | Accounts   | Delhi     | 6      |\n",
    "| 1      | Arun    | Khan   | Manager    | 90000  | NULL      | Production | NULL       | 1998-01-04 | Sales      | Kol       | 4      |\n",
    "| 2      | Barun   | Kumar  | Manager    | 80000  | NULL      | Marketing  | NULL       | 1998-02-09 | R & D      | Marketing | 8      |\n",
    "| 2      | Barun   | Kumar  | Manager    | 80000  | NULL      | Marketing  | NULL       | 1998-02-09 | Marketing  | Kol       | 2      |\n",
    "| 2      | Barun   | Kumar  | Manager    | 80000  | NULL      | Marketing  | NULL       | 1998-02-09 | Production | Kol       | 1      |\n",
    "| 2      | Barun   | Kumar  | Manager    | 80000  | NULL      | Marketing  | NULL       | 1998-02-09 | Accounts   | Delhi     | 6      |\n",
    "| 2      | Barun   | Kumar  | Manager    | 80000  | NULL      | Marketing  | NULL       | 1998-02-09 | Sales      | Kol       | 4      |\n",
    "| 3      | Chitra  | Kapoor | Engineer   | 60000  | NULL      | Production | 1          | 1998-01-08 | R & D      | Marketing | 8      |\n",
    "| 3      | Chitra  | Kapoor | Engineer   | 60000  | NULL      | Production | 1          | 1998-01-08 | Marketing  | Kol       | 2      |\n",
    "| 3      | Chitra  | Kapoor | Engineer   | 60000  | NULL      | Production | 1          | 1998-01-08 | Production | Kol       | 1      |\n",
    "| 3      | Chitra  | Kapoor | Engineer   | 60000  | NULL      | Production | 1          | 1998-01-08 | Accounts   | Delhi     | 6      |\n",
    "| 3      | Chitra  | Kapoor | Engineer   | 60000  | NULL      | Production | 1          | 1998-01-08 | Sales      | Kol       | 4      |\n",
    "| 4      | Dheeraj | Mitra  | Accountant | 75000  | NULL      | Sales      | 4          | 2001-12-27 | R & D      | Marketing | 8      |\n",
    "| 4      | Dheeraj | Mitra  | Accountant | 75000  | NULL      | Sales      | 4          | 2001-12-27 | Marketing  | Kol       | 2      |\n",
    "| 4      | Dheeraj | Mitra  | Accountant | 75000  | NULL      | Sales      | 4          | 2001-12-27 | Production | Kol       | 1      |\n",
    "| 4      | Dheeraj | Mitra  | Accountant | 75000  | NULL      | Sales      | 4          | 2001-12-27 | Accounts   | Delhi     | 6      |\n",
    "| 4      | Dheeraj | Mitra  | Accountant | 75000  | NULL      | Sales      | 4          | 2001-12-27 | Sales      | Kol       | 4      |\n",
    "| 5      | Emma    | Dutt   | Engineer   | 55000  | NULL      | Production | 1          | 2002-03-20 | R & D      | Marketing | 8      |\n",
    "| 5      | Emma    | Dutt   | Engineer   | 55000  | NULL      | Production | 1          | 2002-03-20 | Marketing  | Kol       | 2      |\n",
    "| 5      | Emma    | Dutt   | Engineer   | 55000  | NULL      | Production | 1          | 2002-03-20 | Production | Kol       | 1      |\n",
    "| 5      | Emma    | Dutt   | Engineer   | 55000  | NULL      | Production | 1          | 2002-03-20 | Accounts   | Delhi     | 6      |\n",
    "| 5      | Emma    | Dutt   | Engineer   | 55000  | NULL      | Production | 1          | 2002-03-20 | Sales      | Kol       | 4      |\n",
    "| 6      | Floki   | Dutt   | Accountant | 70000  | NULL      | Accounts   | NULL       | 2000-07-16 | R & D      | Marketing | 8      |\n",
    "| 6      | Floki   | Dutt   | Accountant | 70000  | NULL      | Accounts   | NULL       | 2000-07-16 | Marketing  | Kol       | 2      |\n",
    "| 6      | Floki   | Dutt   | Accountant | 70000  | NULL      | Accounts   | NULL       | 2000-07-16 | Production | Kol       | 1      |\n",
    "| 6      | Floki   | Dutt   | Accountant | 70000  | NULL      | Accounts   | NULL       | 2000-07-16 | Accounts   | Delhi     | 6      |\n",
    "| 6      | Floki   | Dutt   | Accountant | 70000  | NULL      | Accounts   | NULL       | 2000-07-16 | Sales      | Kol       | 4      |\n"
   ]
  },
  {
   "cell_type": "markdown",
   "metadata": {},
   "source": [
    "#### 11. Show the employee names and the respective department location\n"
   ]
  },
  {
   "cell_type": "code",
   "execution_count": null,
   "metadata": {},
   "outputs": [],
   "source": [
    "run(\n",
    "    \"\"\"SELECT \n",
    "           CONCAT(f_name,' ' ,l_name) AS NAME, \n",
    "           d_loc FROM employee, department \n",
    "       WHERE Dept = d_name\n",
    "    \"\"\"\n",
    ")\n",
    "disp()\n"
   ]
  },
  {
   "cell_type": "markdown",
   "metadata": {},
   "source": [
    "TABLE PREVIEW\n"
   ]
  },
  {
   "cell_type": "markdown",
   "metadata": {},
   "source": [
    "| NAME          | d_loc |\n",
    "| ------------- | ----- |\n",
    "| Arun Khan     | Kol   |\n",
    "| Barun Kumar   | Kol   |\n",
    "| Chitra Kapoor | Kol   |\n",
    "| Dheeraj Mitra | Kol   |\n",
    "| Emma Dutt     | Kol   |\n",
    "| Floki Dutt    | Delhi |\n"
   ]
  },
  {
   "cell_type": "markdown",
   "metadata": {},
   "source": [
    "#### 12. Give an example of the following joins considering employee and department tables.\n",
    "\n",
    "    1. Natural join\n",
    "    2. Inner join\n",
    "    3. Left outer join\n",
    "    4. Right outer join\n",
    "    5. Full outer join\n"
   ]
  },
  {
   "cell_type": "code",
   "execution_count": null,
   "metadata": {},
   "outputs": [],
   "source": [
    "run(\n",
    "    \"SELECT * FROM Employee NATURAL JOIN (SELECT d_loc, HOD_id, d_name as Dept FROM Department) AS _\"\n",
    ")\n",
    "disp()\n"
   ]
  },
  {
   "cell_type": "markdown",
   "metadata": {},
   "source": [
    "TABLE PREVIEW\n"
   ]
  },
  {
   "cell_type": "markdown",
   "metadata": {},
   "source": [
    "| Dept       | Emp_id | F_Name  | L_Name | Job_Type   | Salary | Comission | Manager_id | DOJ        | d_loc | HOD_id |\n",
    "| ---------- | ------ | ------- | ------ | ---------- | ------ | --------- | ---------- | ---------- | ----- | ------ |\n",
    "| Production | 1      | Arun    | Khan   | Manager    | 90000  | NULL      | NULL       | 1998-01-04 | Kol   | 1      |\n",
    "| Marketing  | 2      | Barun   | Kumar  | Manager    | 80000  | NULL      | NULL       | 1998-02-09 | Kol   | 2      |\n",
    "| Production | 3      | Chitra  | Kapoor | Engineer   | 60000  | NULL      | 1          | 1998-01-08 | Kol   | 1      |\n",
    "| Sales      | 4      | Dheeraj | Mitra  | Accountant | 75000  | NULL      | 4          | 2001-12-27 | Kol   | 4      |\n",
    "| Production | 5      | Emma    | Dutt   | Engineer   | 55000  | NULL      | 1          | 2002-03-20 | Kol   | 1      |\n",
    "| Accounts   | 6      | Floki   | Dutt   | Accountant | 70000  | NULL      | NULL       | 2000-07-16 | Delhi | 6      |\n"
   ]
  },
  {
   "cell_type": "code",
   "execution_count": null,
   "metadata": {},
   "outputs": [],
   "source": [
    "run(\"SELECT * FROM Employee INNER JOIN Department ON Dept=D_name\")\n",
    "disp()\n"
   ]
  },
  {
   "cell_type": "markdown",
   "metadata": {},
   "source": [
    "| Emp_id | F_Name  | L_Name | Job_Type   | Salary | Comission | Dept       | Manager_id | DOJ        | d_name     | d_loc | HOD_id |\n",
    "| ------ | ------- | ------ | ---------- | ------ | --------- | ---------- | ---------- | ---------- | ---------- | ----- | ------ |\n",
    "| 1      | Arun    | Khan   | Manager    | 90000  | NULL      | Production | NULL       | 1998-01-04 | Production | Kol   | 1      |\n",
    "| 2      | Barun   | Kumar  | Manager    | 80000  | NULL      | Marketing  | NULL       | 1998-02-09 | Marketing  | Kol   | 2      |\n",
    "| 3      | Chitra  | Kapoor | Engineer   | 60000  | NULL      | Production | 1          | 1998-01-08 | Production | Kol   | 1      |\n",
    "| 4      | Dheeraj | Mitra  | Accountant | 75000  | NULL      | Sales      | 4          | 2001-12-27 | Sales      | Kol   | 4      |\n",
    "| 5      | Emma    | Dutt   | Engineer   | 55000  | NULL      | Production | 1          | 2002-03-20 | Production | Kol   | 1      |\n",
    "| 6      | Floki   | Dutt   | Accountant | 70000  | NULL      | Accounts   | NULL       | 2000-07-16 | Accounts   | Delhi | 6      |\n"
   ]
  },
  {
   "cell_type": "code",
   "execution_count": null,
   "metadata": {},
   "outputs": [],
   "source": [
    "run(\"SELECT * FROM Employee LEFT OUTER JOIN Department ON Dept=D_name\")\n",
    "disp()\n"
   ]
  },
  {
   "cell_type": "markdown",
   "metadata": {},
   "source": [
    "| Emp_id | F_Name  | L_Name | Job_Type   | Salary | Comission | Dept       | Manager_id | DOJ        | d_name     | d_loc | HOD_id |\n",
    "| ------ | ------- | ------ | ---------- | ------ | --------- | ---------- | ---------- | ---------- | ---------- | ----- | ------ |\n",
    "| 1      | Arun    | Khan   | Manager    | 90000  | NULL      | Production | NULL       | 1998-01-04 | Production | Kol   | 1      |\n",
    "| 2      | Barun   | Kumar  | Manager    | 80000  | NULL      | Marketing  | NULL       | 1998-02-09 | Marketing  | Kol   | 2      |\n",
    "| 3      | Chitra  | Kapoor | Engineer   | 60000  | NULL      | Production | 1          | 1998-01-08 | Production | Kol   | 1      |\n",
    "| 4      | Dheeraj | Mitra  | Accountant | 75000  | NULL      | Sales      | 4          | 2001-12-27 | Sales      | Kol   | 4      |\n",
    "| 5      | Emma    | Dutt   | Engineer   | 55000  | NULL      | Production | 1          | 2002-03-20 | Production | Kol   | 1      |\n",
    "| 6      | Floki   | Dutt   | Accountant | 70000  | NULL      | Accounts   | NULL       | 2000-07-16 | Accounts   | Delhi | 6      |\n"
   ]
  },
  {
   "cell_type": "code",
   "execution_count": null,
   "metadata": {},
   "outputs": [],
   "source": [
    "run(\"SELECT * FROM Employee RIGHT OUTER JOIN Department ON Dept=D_name\")\n",
    "disp()\n"
   ]
  },
  {
   "cell_type": "markdown",
   "metadata": {},
   "source": [
    "| Emp_id | F_Name  | L_Name | Job_Type   | Salary | Comission | Dept       | Manager_id | DOJ        | d_name     | d_loc     | HOD_id |\n",
    "| ------ | ------- | ------ | ---------- | ------ | --------- | ---------- | ---------- | ---------- | ---------- | --------- | ------ |\n",
    "| 4      | Dheeraj | Mitra  | Accountant | 75000  | NULL      | Sales      | 4          | 2001-12-27 | Sales      | Kol       | 4      |\n",
    "| 6      | Floki   | Dutt   | Accountant | 70000  | NULL      | Accounts   | NULL       | 2000-07-16 | Accounts   | Delhi     | 6      |\n",
    "| 5      | Emma    | Dutt   | Engineer   | 55000  | NULL      | Production | 1          | 2002-03-20 | Production | Kol       | 1      |\n",
    "| 3      | Chitra  | Kapoor | Engineer   | 60000  | NULL      | Production | 1          | 1998-01-08 | Production | Kol       | 1      |\n",
    "| 1      | Arun    | Khan   | Manager    | 90000  | NULL      | Production | NULL       | 1998-01-04 | Production | Kol       | 1      |\n",
    "| 2      | Barun   | Kumar  | Manager    | 80000  | NULL      | Marketing  | NULL       | 1998-02-09 | Marketing  | Kol       | 2      |\n",
    "| NULL   | NULL    | NULL   | NULL       | NULL   | NULL      | NULL       | NULL       | NULL       | R & D      | Marketing | 8      |\n"
   ]
  },
  {
   "cell_type": "code",
   "execution_count": null,
   "metadata": {},
   "outputs": [],
   "source": [
    "run(\"SELECT * FROM Employee FULL JOIN Department ON Dept=D_name\")\n",
    "disp()\n"
   ]
  },
  {
   "cell_type": "markdown",
   "metadata": {},
   "source": [
    "| Emp_id | F_Name  | L_Name | Job_Type   | Salary | Comission | Dept       | Manager_id | DOJ        | d_name     | d_loc | HOD_id |\n",
    "| ------ | ------- | ------ | ---------- | ------ | --------- | ---------- | ---------- | ---------- | ---------- | ----- | ------ |\n",
    "| 1      | Arun    | Khan   | Manager    | 90000  | NULL      | Production | NULL       | 1998-01-04 | Production | Kol   | 1      |\n",
    "| 2      | Barun   | Kumar  | Manager    | 80000  | NULL      | Marketing  | NULL       | 1998-02-09 | Marketing  | Kol   | 2      |\n",
    "| 3      | Chitra  | Kapoor | Engineer   | 60000  | NULL      | Production | 1          | 1998-01-08 | Production | Kol   | 1      |\n",
    "| 4      | Dheeraj | Mitra  | Accountant | 75000  | NULL      | Sales      | 4          | 2001-12-27 | Sales      | Kol   | 4      |\n",
    "| 5      | Emma    | Dutt   | Engineer   | 55000  | NULL      | Production | 1          | 2002-03-20 | Production | Kol   | 1      |\n",
    "| 6      | Floki   | Dutt   | Accountant | 70000  | NULL      | Accounts   | NULL       | 2000-07-16 | Accounts   | Delhi | 6      |\n"
   ]
  },
  {
   "cell_type": "markdown",
   "metadata": {},
   "source": [
    "#### 13. Write a query to find the addresses (location_id, street_address, city, state_province, country_name) of all the departments. USE NATURAL JOIN\n"
   ]
  },
  {
   "cell_type": "code",
   "execution_count": null,
   "metadata": {},
   "outputs": [],
   "source": [
    "run(\n",
    "    \"\"\"CREATE TABLE locations(\n",
    "           location_id INT(4) PRIMARY KEY,\n",
    "           street_address VARCHAR(100),\n",
    "           postal_code VARCHAR(20),\n",
    "           city VARCHAR(30),\n",
    "           state_province VARCHAR(30),\n",
    "           country_id VARCHAR(2),\n",
    "           FOREIGN KEY (country_id) REFERENCES countries(country_id)\n",
    "      )\n",
    "\"\"\"\n",
    ")\n",
    "\n",
    "run(\n",
    "    \"\"\"CREATE TABLE countries(\n",
    "           country_id VARCHAR(2) PRIMARY KEY,\n",
    "           country_name VARCHAR(20),\n",
    "           region_id INT(1)\n",
    "    )\n",
    "\"\"\"\n",
    ")\n",
    "\n",
    "run(\n",
    "    \"\"\"\n",
    "    INSERT INTO countries VALUES\n",
    "        ('AR', 'Argentina', 2),\n",
    "        ('AU', 'Australia', 3),\n",
    "        ('BE', 'Belgium', 3),\n",
    "        ('BR', 'Brazil', 3),\n",
    "        ('CA', 'Canada', 3)\n",
    "\"\"\"\n",
    ")\n",
    "\n",
    "run(\n",
    "    \"\"\"\n",
    "    INSERT INTO locations VALUES\n",
    "        (1000, '1297 Via Cola di Rie', 989, 'Roma', NULL, 'BE'),\n",
    "        (1100, '93091 Calle della Te', 10934, 'Venice', NULL, 'BE')\n",
    "\"\"\"\n",
    ")\n"
   ]
  },
  {
   "cell_type": "code",
   "execution_count": null,
   "metadata": {},
   "outputs": [],
   "source": [
    "run(\n",
    "    \"\"\"SELECT\n",
    "           location_id, \n",
    "           street_address, \n",
    "           city, \n",
    "           state_province, \n",
    "           country_name \n",
    "      FROM countries NATURAL JOIN locations\n",
    "\"\"\"\n",
    ")\n"
   ]
  },
  {
   "cell_type": "markdown",
   "metadata": {},
   "source": [
    "TABLE PREVIEW\n"
   ]
  },
  {
   "cell_type": "markdown",
   "metadata": {},
   "source": [
    "| location_id | street_address       | city   | state_province | country_name |\n",
    "| ----------- | -------------------- | ------ | -------------- | ------------ |\n",
    "| 1000        | 1297 Via Cola di Rie | Roma   | NULL           | Belgium      |\n",
    "| 1100        | 93091 Calle della Te | Venice | NULL           | Belgium      |\n"
   ]
  },
  {
   "cell_type": "markdown",
   "metadata": {},
   "source": [
    "#### 14. Write a query to find the name (first name, last_name), department ID of all the employees.\n"
   ]
  },
  {
   "cell_type": "code",
   "execution_count": null,
   "metadata": {},
   "outputs": [],
   "source": [
    "run(\n",
    "    \"\"\"SELECT\n",
    "           CONCAT(firstName, lastName) AS Name,\n",
    "           department_ID\n",
    "      FROM employees NATURAL JOIN departments\n",
    "\"\"\"\n",
    ")\n"
   ]
  },
  {
   "cell_type": "markdown",
   "metadata": {},
   "source": [
    "TABLE PREVIEW\n"
   ]
  },
  {
   "cell_type": "markdown",
   "metadata": {},
   "source": [
    "| Name          | Department_ID |\n",
    "| ------------- | ------------- |\n",
    "| Steven King   | 10            |\n",
    "| Nenna Kochhar | 20            |\n"
   ]
  }
 ],
 "metadata": {
  "kernelspec": {
   "display_name": "Python 3.10.6 64-bit",
   "language": "python",
   "name": "python3"
  },
  "language_info": {
   "codemirror_mode": {
    "name": "ipython",
    "version": 3
   },
   "file_extension": ".py",
   "mimetype": "text/x-python",
   "name": "python",
   "nbconvert_exporter": "python",
   "pygments_lexer": "ipython3",
   "version": "3.10.6"
  },
  "orig_nbformat": 4,
  "vscode": {
   "interpreter": {
    "hash": "7cc880fb414a6190fbce021e54b9550a41e00b0ed8e95a947d98634e734d910a"
   }
  }
 },
 "nbformat": 4,
 "nbformat_minor": 2
}
