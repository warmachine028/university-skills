{
 "cells": [
  {
   "cell_type": "code",
   "execution_count": 110,
   "metadata": {},
   "outputs": [],
   "source": [
    "import pandas as pd\n",
    "\n",
    "people = { # <- Each of the dictionary represents a dataFrame\n",
    "    \"firstName\": [\"Corey\", \"Pritam\", \"Jane\", \"John\"], # <- each of the key represents a column\n",
    "    \"lastName\": [\"Chaufer\", \"Kundu\", \"Doe\", \"Doe\"], # each of the values represent a row\n",
    "    \"email\": [\"CoreyMSchaufer@gmail.com\", \"pritamkundu771@gmail.com\", \"JaneDoe@email.com\", \"JohnDoe@email.com\"]\n",
    "}\n",
    "df = pd.DataFrame(people)\n"
   ]
  },
  {
   "cell_type": "markdown",
   "metadata": {},
   "source": [
    "Filter / Mask:\n",
    "\n",
    "-   A filter returns a Series of Bool values.\n",
    "-   When a mask applied to our dataFrame,\n",
    "-   We get all of the values corresponding to True and filter out the Falsy values.\n",
    "-   A mask acts as a SQL query equivalent for our dataFrame \n",
    "\n",
    "⚠️ Rookie Mistake: Avoid using filter as a variable name as `filter()` is a builtin function in python\n",
    "Select data having lastName as Doe\n"
   ]
  },
  {
   "cell_type": "code",
   "execution_count": 111,
   "metadata": {},
   "outputs": [
    {
     "data": {
      "text/html": [
       "<div>\n",
       "<style scoped>\n",
       "    .dataframe tbody tr th:only-of-type {\n",
       "        vertical-align: middle;\n",
       "    }\n",
       "\n",
       "    .dataframe tbody tr th {\n",
       "        vertical-align: top;\n",
       "    }\n",
       "\n",
       "    .dataframe thead th {\n",
       "        text-align: right;\n",
       "    }\n",
       "</style>\n",
       "<table border=\"1\" class=\"dataframe\">\n",
       "  <thead>\n",
       "    <tr style=\"text-align: right;\">\n",
       "      <th></th>\n",
       "      <th>firstName</th>\n",
       "      <th>lastName</th>\n",
       "      <th>email</th>\n",
       "    </tr>\n",
       "  </thead>\n",
       "  <tbody>\n",
       "    <tr>\n",
       "      <th>2</th>\n",
       "      <td>Jane</td>\n",
       "      <td>Doe</td>\n",
       "      <td>JaneDoe@email.com</td>\n",
       "    </tr>\n",
       "    <tr>\n",
       "      <th>3</th>\n",
       "      <td>John</td>\n",
       "      <td>Doe</td>\n",
       "      <td>JohnDoe@email.com</td>\n",
       "    </tr>\n",
       "  </tbody>\n",
       "</table>\n",
       "</div>"
      ],
      "text/plain": [
       "  firstName lastName              email\n",
       "2      Jane      Doe  JaneDoe@email.com\n",
       "3      John      Doe  JohnDoe@email.com"
      ]
     },
     "execution_count": 111,
     "metadata": {},
     "output_type": "execute_result"
    }
   ],
   "source": [
    "filter_ = df['lastName'] == 'Doe' # <- known as filter map\n",
    "df[filter_] # <- Appluing the filter in the dataFrame"
   ]
  },
  {
   "cell_type": "markdown",
   "metadata": {},
   "source": [
    "Another method is to use the index locator to filter out the values. Will give the same result.  \n",
    "✔️ ADVANTAGE:  \n",
    "We will be able to grab a certain specific column instead of the whole dataFrame"
   ]
  },
  {
   "cell_type": "code",
   "execution_count": 112,
   "metadata": {},
   "outputs": [
    {
     "data": {
      "text/plain": [
       "2    JaneDoe@email.com\n",
       "3    JohnDoe@email.com\n",
       "Name: email, dtype: object"
      ]
     },
     "execution_count": 112,
     "metadata": {},
     "output_type": "execute_result"
    }
   ],
   "source": [
    "df.loc[filter_, \"email\"]"
   ]
  },
  {
   "cell_type": "markdown",
   "metadata": {},
   "source": [
    "Comparision operators:  \n",
    "- & -> AND  \n",
    "- | -> OR\n",
    "- ~ -> Negation"
   ]
  },
  {
   "cell_type": "code",
   "execution_count": 113,
   "metadata": {},
   "outputs": [
    {
     "data": {
      "text/html": [
       "<div>\n",
       "<style scoped>\n",
       "    .dataframe tbody tr th:only-of-type {\n",
       "        vertical-align: middle;\n",
       "    }\n",
       "\n",
       "    .dataframe tbody tr th {\n",
       "        vertical-align: top;\n",
       "    }\n",
       "\n",
       "    .dataframe thead th {\n",
       "        text-align: right;\n",
       "    }\n",
       "</style>\n",
       "<table border=\"1\" class=\"dataframe\">\n",
       "  <thead>\n",
       "    <tr style=\"text-align: right;\">\n",
       "      <th></th>\n",
       "      <th>firstName</th>\n",
       "      <th>lastName</th>\n",
       "      <th>email</th>\n",
       "    </tr>\n",
       "  </thead>\n",
       "  <tbody>\n",
       "    <tr>\n",
       "      <th>3</th>\n",
       "      <td>John</td>\n",
       "      <td>Doe</td>\n",
       "      <td>JohnDoe@email.com</td>\n",
       "    </tr>\n",
       "  </tbody>\n",
       "</table>\n",
       "</div>"
      ],
      "text/plain": [
       "  firstName lastName              email\n",
       "3      John      Doe  JohnDoe@email.com"
      ]
     },
     "execution_count": 113,
     "metadata": {},
     "output_type": "execute_result"
    }
   ],
   "source": [
    "# EXAMPLE 1: SELECT * FROM df WHERE lastName == Doe and firstName == John\n",
    "filter_ = (df['lastName'] == 'Doe') & (df['firstName'] == 'John')\n",
    "df.loc[filter_]"
   ]
  },
  {
   "cell_type": "code",
   "execution_count": 114,
   "metadata": {},
   "outputs": [
    {
     "data": {
      "text/html": [
       "<div>\n",
       "<style scoped>\n",
       "    .dataframe tbody tr th:only-of-type {\n",
       "        vertical-align: middle;\n",
       "    }\n",
       "\n",
       "    .dataframe tbody tr th {\n",
       "        vertical-align: top;\n",
       "    }\n",
       "\n",
       "    .dataframe thead th {\n",
       "        text-align: right;\n",
       "    }\n",
       "</style>\n",
       "<table border=\"1\" class=\"dataframe\">\n",
       "  <thead>\n",
       "    <tr style=\"text-align: right;\">\n",
       "      <th></th>\n",
       "      <th>firstName</th>\n",
       "      <th>lastName</th>\n",
       "      <th>email</th>\n",
       "    </tr>\n",
       "  </thead>\n",
       "  <tbody>\n",
       "    <tr>\n",
       "      <th>0</th>\n",
       "      <td>Corey</td>\n",
       "      <td>Chaufer</td>\n",
       "      <td>CoreyMSchaufer@gmail.com</td>\n",
       "    </tr>\n",
       "    <tr>\n",
       "      <th>3</th>\n",
       "      <td>John</td>\n",
       "      <td>Doe</td>\n",
       "      <td>JohnDoe@email.com</td>\n",
       "    </tr>\n",
       "  </tbody>\n",
       "</table>\n",
       "</div>"
      ],
      "text/plain": [
       "  firstName lastName                     email\n",
       "0     Corey  Chaufer  CoreyMSchaufer@gmail.com\n",
       "3      John      Doe         JohnDoe@email.com"
      ]
     },
     "execution_count": 114,
     "metadata": {},
     "output_type": "execute_result"
    }
   ],
   "source": [
    "# EXAMPLE 2: SELECT * FROM df WHERE lastName == Chaufer or lastName == John\n",
    "filter_ = (df['lastName'] == 'Chaufer') | (df['firstName'] == 'John')\n",
    "df.loc[filter_]"
   ]
  },
  {
   "cell_type": "code",
   "execution_count": 115,
   "metadata": {},
   "outputs": [
    {
     "data": {
      "text/html": [
       "<div>\n",
       "<style scoped>\n",
       "    .dataframe tbody tr th:only-of-type {\n",
       "        vertical-align: middle;\n",
       "    }\n",
       "\n",
       "    .dataframe tbody tr th {\n",
       "        vertical-align: top;\n",
       "    }\n",
       "\n",
       "    .dataframe thead th {\n",
       "        text-align: right;\n",
       "    }\n",
       "</style>\n",
       "<table border=\"1\" class=\"dataframe\">\n",
       "  <thead>\n",
       "    <tr style=\"text-align: right;\">\n",
       "      <th></th>\n",
       "      <th>firstName</th>\n",
       "      <th>lastName</th>\n",
       "      <th>email</th>\n",
       "    </tr>\n",
       "  </thead>\n",
       "  <tbody>\n",
       "    <tr>\n",
       "      <th>1</th>\n",
       "      <td>Pritam</td>\n",
       "      <td>Kundu</td>\n",
       "      <td>pritamkundu771@gmail.com</td>\n",
       "    </tr>\n",
       "    <tr>\n",
       "      <th>2</th>\n",
       "      <td>Jane</td>\n",
       "      <td>Doe</td>\n",
       "      <td>JaneDoe@email.com</td>\n",
       "    </tr>\n",
       "  </tbody>\n",
       "</table>\n",
       "</div>"
      ],
      "text/plain": [
       "  firstName lastName                     email\n",
       "1    Pritam    Kundu  pritamkundu771@gmail.com\n",
       "2      Jane      Doe         JaneDoe@email.com"
      ]
     },
     "execution_count": 115,
     "metadata": {},
     "output_type": "execute_result"
    }
   ],
   "source": [
    "# EXAMPLE 3: SELECT * FROM df WHERE not (lastName == Chaufer or lastName == John)\n",
    "filter_ = ~((df['lastName'] == 'Chaufer') | (df['firstName'] == 'John'))\n",
    "df.loc[filter_]"
   ]
  },
  {
   "cell_type": "markdown",
   "metadata": {},
   "source": [
    "Constructing a filter on a real-life data and displaying it"
   ]
  },
  {
   "cell_type": "code",
   "execution_count": 116,
   "metadata": {},
   "outputs": [
    {
     "data": {
      "text/plain": [
       "0        False\n",
       "1        False\n",
       "2        False\n",
       "3        False\n",
       "4        False\n",
       "         ...  \n",
       "83434    False\n",
       "83435    False\n",
       "83436    False\n",
       "83437     True\n",
       "83438    False\n",
       "Length: 83439, dtype: bool"
      ]
     },
     "execution_count": 116,
     "metadata": {},
     "output_type": "execute_result"
    }
   ],
   "source": [
    "df = pd.read_csv(r\"data/survey_results_public.csv\")\n",
    "countries = [\"United States\", \"India\", \"United Kingdom\", \"Germany\", \"Canada\"]\n",
    "high_salary = (df[\"CompTotal\"] > 70_000) & (df['Country'].isin(countries))\n",
    "high_salary # Displaying the filter\n"
   ]
  },
  {
   "cell_type": "markdown",
   "metadata": {},
   "source": [
    "Displaying the result of the filter on the dataFrame"
   ]
  },
  {
   "cell_type": "code",
   "execution_count": 117,
   "metadata": {},
   "outputs": [
    {
     "data": {
      "text/html": [
       "<div>\n",
       "<style scoped>\n",
       "    .dataframe tbody tr th:only-of-type {\n",
       "        vertical-align: middle;\n",
       "    }\n",
       "\n",
       "    .dataframe tbody tr th {\n",
       "        vertical-align: top;\n",
       "    }\n",
       "\n",
       "    .dataframe thead th {\n",
       "        text-align: right;\n",
       "    }\n",
       "</style>\n",
       "<table border=\"1\" class=\"dataframe\">\n",
       "  <thead>\n",
       "    <tr style=\"text-align: right;\">\n",
       "      <th></th>\n",
       "      <th>Country</th>\n",
       "      <th>LanguageHaveWorkedWith</th>\n",
       "      <th>ConvertedCompYearly</th>\n",
       "    </tr>\n",
       "  </thead>\n",
       "  <tbody>\n",
       "    <tr>\n",
       "      <th>12</th>\n",
       "      <td>Germany</td>\n",
       "      <td>C;C++;Java;Perl;Ruby</td>\n",
       "      <td>77290.0</td>\n",
       "    </tr>\n",
       "    <tr>\n",
       "      <th>24</th>\n",
       "      <td>Germany</td>\n",
       "      <td>C++;HTML/CSS;Java;JavaScript;Kotlin;Node.js;Ty...</td>\n",
       "      <td>77831.0</td>\n",
       "    </tr>\n",
       "    <tr>\n",
       "      <th>67</th>\n",
       "      <td>Canada</td>\n",
       "      <td>C#;VBA</td>\n",
       "      <td>71850.0</td>\n",
       "    </tr>\n",
       "    <tr>\n",
       "      <th>77</th>\n",
       "      <td>Canada</td>\n",
       "      <td>HTML/CSS;Python;R</td>\n",
       "      <td>151263.0</td>\n",
       "    </tr>\n",
       "    <tr>\n",
       "      <th>86</th>\n",
       "      <td>Canada</td>\n",
       "      <td>C#;SQL;TypeScript</td>\n",
       "      <td>95295.0</td>\n",
       "    </tr>\n",
       "    <tr>\n",
       "      <th>...</th>\n",
       "      <td>...</td>\n",
       "      <td>...</td>\n",
       "      <td>...</td>\n",
       "    </tr>\n",
       "    <tr>\n",
       "      <th>83399</th>\n",
       "      <td>India</td>\n",
       "      <td>HTML/CSS;JavaScript;TypeScript</td>\n",
       "      <td>27923.0</td>\n",
       "    </tr>\n",
       "    <tr>\n",
       "      <th>83411</th>\n",
       "      <td>India</td>\n",
       "      <td>Java;JavaScript;SQL</td>\n",
       "      <td>48866.0</td>\n",
       "    </tr>\n",
       "    <tr>\n",
       "      <th>83424</th>\n",
       "      <td>Germany</td>\n",
       "      <td>Bash/Shell;C;Go;Java;JavaScript;Perl;SQL</td>\n",
       "      <td>129718.0</td>\n",
       "    </tr>\n",
       "    <tr>\n",
       "      <th>83432</th>\n",
       "      <td>Canada</td>\n",
       "      <td>Ruby</td>\n",
       "      <td>80169.0</td>\n",
       "    </tr>\n",
       "    <tr>\n",
       "      <th>83437</th>\n",
       "      <td>Canada</td>\n",
       "      <td>Bash/Shell;JavaScript;Node.js;Python</td>\n",
       "      <td>816816.0</td>\n",
       "    </tr>\n",
       "  </tbody>\n",
       "</table>\n",
       "<p>4952 rows × 3 columns</p>\n",
       "</div>"
      ],
      "text/plain": [
       "       Country                             LanguageHaveWorkedWith  \\\n",
       "12     Germany                               C;C++;Java;Perl;Ruby   \n",
       "24     Germany  C++;HTML/CSS;Java;JavaScript;Kotlin;Node.js;Ty...   \n",
       "67      Canada                                             C#;VBA   \n",
       "77      Canada                                  HTML/CSS;Python;R   \n",
       "86      Canada                                  C#;SQL;TypeScript   \n",
       "...        ...                                                ...   \n",
       "83399    India                     HTML/CSS;JavaScript;TypeScript   \n",
       "83411    India                                Java;JavaScript;SQL   \n",
       "83424  Germany           Bash/Shell;C;Go;Java;JavaScript;Perl;SQL   \n",
       "83432   Canada                                               Ruby   \n",
       "83437   Canada               Bash/Shell;JavaScript;Node.js;Python   \n",
       "\n",
       "       ConvertedCompYearly  \n",
       "12                 77290.0  \n",
       "24                 77831.0  \n",
       "67                 71850.0  \n",
       "77                151263.0  \n",
       "86                 95295.0  \n",
       "...                    ...  \n",
       "83399              27923.0  \n",
       "83411              48866.0  \n",
       "83424             129718.0  \n",
       "83432              80169.0  \n",
       "83437             816816.0  \n",
       "\n",
       "[4952 rows x 3 columns]"
      ]
     },
     "execution_count": 117,
     "metadata": {},
     "output_type": "execute_result"
    }
   ],
   "source": [
    "df.loc[high_salary, [\"Country\", \"LanguageHaveWorkedWith\", \"ConvertedCompYearly\"]]"
   ]
  },
  {
   "cell_type": "code",
   "execution_count": 118,
   "metadata": {},
   "outputs": [
    {
     "data": {
      "text/html": [
       "<div>\n",
       "<style scoped>\n",
       "    .dataframe tbody tr th:only-of-type {\n",
       "        vertical-align: middle;\n",
       "    }\n",
       "\n",
       "    .dataframe tbody tr th {\n",
       "        vertical-align: top;\n",
       "    }\n",
       "\n",
       "    .dataframe thead th {\n",
       "        text-align: right;\n",
       "    }\n",
       "</style>\n",
       "<table border=\"1\" class=\"dataframe\">\n",
       "  <thead>\n",
       "    <tr style=\"text-align: right;\">\n",
       "      <th></th>\n",
       "      <th>Country</th>\n",
       "      <th>LanguageHaveWorkedWith</th>\n",
       "    </tr>\n",
       "  </thead>\n",
       "  <tbody>\n",
       "    <tr>\n",
       "      <th>1</th>\n",
       "      <td>Netherlands</td>\n",
       "      <td>JavaScript;Python</td>\n",
       "    </tr>\n",
       "    <tr>\n",
       "      <th>2</th>\n",
       "      <td>Russian Federation</td>\n",
       "      <td>Assembly;C;Python;R;Rust</td>\n",
       "    </tr>\n",
       "    <tr>\n",
       "      <th>4</th>\n",
       "      <td>United Kingdom of Great Britain and Northern I...</td>\n",
       "      <td>Bash/Shell;HTML/CSS;Python;SQL</td>\n",
       "    </tr>\n",
       "    <tr>\n",
       "      <th>5</th>\n",
       "      <td>United States of America</td>\n",
       "      <td>C;C#;C++;HTML/CSS;Java;JavaScript;Node.js;Powe...</td>\n",
       "    </tr>\n",
       "    <tr>\n",
       "      <th>9</th>\n",
       "      <td>Sweden</td>\n",
       "      <td>C++;Python</td>\n",
       "    </tr>\n",
       "    <tr>\n",
       "      <th>...</th>\n",
       "      <td>...</td>\n",
       "      <td>...</td>\n",
       "    </tr>\n",
       "    <tr>\n",
       "      <th>83429</th>\n",
       "      <td>United States of America</td>\n",
       "      <td>HTML/CSS;PHP;PowerShell;Python;SQL;VBA</td>\n",
       "    </tr>\n",
       "    <tr>\n",
       "      <th>83430</th>\n",
       "      <td>United States of America</td>\n",
       "      <td>APL;Clojure;LISP;Python;Ruby;SQL;TypeScript</td>\n",
       "    </tr>\n",
       "    <tr>\n",
       "      <th>83431</th>\n",
       "      <td>Pakistan</td>\n",
       "      <td>C#;Dart;HTML/CSS;Java;JavaScript;Kotlin;Node.j...</td>\n",
       "    </tr>\n",
       "    <tr>\n",
       "      <th>83436</th>\n",
       "      <td>United States of America</td>\n",
       "      <td>Groovy;Java;Python</td>\n",
       "    </tr>\n",
       "    <tr>\n",
       "      <th>83437</th>\n",
       "      <td>Canada</td>\n",
       "      <td>Bash/Shell;JavaScript;Node.js;Python</td>\n",
       "    </tr>\n",
       "  </tbody>\n",
       "</table>\n",
       "<p>39792 rows × 2 columns</p>\n",
       "</div>"
      ],
      "text/plain": [
       "                                                 Country  \\\n",
       "1                                            Netherlands   \n",
       "2                                     Russian Federation   \n",
       "4      United Kingdom of Great Britain and Northern I...   \n",
       "5                               United States of America   \n",
       "9                                                 Sweden   \n",
       "...                                                  ...   \n",
       "83429                           United States of America   \n",
       "83430                           United States of America   \n",
       "83431                                           Pakistan   \n",
       "83436                           United States of America   \n",
       "83437                                             Canada   \n",
       "\n",
       "                                  LanguageHaveWorkedWith  \n",
       "1                                      JavaScript;Python  \n",
       "2                               Assembly;C;Python;R;Rust  \n",
       "4                         Bash/Shell;HTML/CSS;Python;SQL  \n",
       "5      C;C#;C++;HTML/CSS;Java;JavaScript;Node.js;Powe...  \n",
       "9                                             C++;Python  \n",
       "...                                                  ...  \n",
       "83429             HTML/CSS;PHP;PowerShell;Python;SQL;VBA  \n",
       "83430        APL;Clojure;LISP;Python;Ruby;SQL;TypeScript  \n",
       "83431  C#;Dart;HTML/CSS;Java;JavaScript;Kotlin;Node.j...  \n",
       "83436                                 Groovy;Java;Python  \n",
       "83437               Bash/Shell;JavaScript;Node.js;Python  \n",
       "\n",
       "[39792 rows x 2 columns]"
      ]
     },
     "execution_count": 118,
     "metadata": {},
     "output_type": "execute_result"
    }
   ],
   "source": [
    "# Filtering all the data where LanguageWorkedWith has Python in it and do nothing if NaN\n",
    "filter_ = df[\"LanguageHaveWorkedWith\"].str.contains(\"Python\", na=False)\n",
    "#                👆                👆    👆       👆        👆\n",
    "# Selecting by Lang..With | convert to |  str   | Checking | Do nothing\n",
    "#                               str    | method |   value  | if NaN\n",
    "\n",
    "df.loc[filter_, [\"Country\", \"LanguageHaveWorkedWith\"]]\n"
   ]
  }
 ],
 "metadata": {
  "interpreter": {
   "hash": "78a4aec9bc3e26b127afac5c906016c02cfe49ae24930a1d4db4a58c190dcf89"
  },
  "kernelspec": {
   "display_name": "Python 3.10.2 64-bit",
   "language": "python",
   "name": "python3"
  },
  "language_info": {
   "codemirror_mode": {
    "name": "ipython",
    "version": 3
   },
   "file_extension": ".py",
   "mimetype": "text/x-python",
   "name": "python",
   "nbconvert_exporter": "python",
   "pygments_lexer": "ipython3",
   "version": "3.10.2"
  },
  "orig_nbformat": 4
 },
 "nbformat": 4,
 "nbformat_minor": 2
}
