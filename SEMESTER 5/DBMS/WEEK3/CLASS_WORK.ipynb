{
 "cells": [
  {
   "cell_type": "markdown",
   "metadata": {},
   "source": [
    "### Class Work 3 (29th August 2022, Monday)"
   ]
  },
  {
   "cell_type": "markdown",
   "metadata": {},
   "source": [
    "#### Initializing Connection\n"
   ]
  },
  {
   "cell_type": "code",
   "execution_count": 2,
   "metadata": {},
   "outputs": [],
   "source": [
    "import mysql.connector as sqltor\n",
    "\n",
    "connection = sqltor.connect(host=\"localhost\", user=\"root\", password=\"mysqlpasswd\")\n",
    "cursor = connection.cursor()\n",
    "cursor.execute(\"CREATE DATABASE IF NOT EXISTS week3\")\n",
    "cursor.execute(\"USE week3\")\n"
   ]
  },
  {
   "cell_type": "markdown",
   "metadata": {},
   "source": [
    "#### Adding Helper functions\n"
   ]
  },
  {
   "cell_type": "code",
   "execution_count": 3,
   "metadata": {},
   "outputs": [],
   "source": [
    "def disp():\n",
    "    print(*[line for line in cursor], sep=\"\\n\")\n",
    "\n",
    "\n",
    "def run(query: str):\n",
    "    cursor.execute(query)\n"
   ]
  },
  {
   "cell_type": "markdown",
   "metadata": {},
   "source": [
    "#### Testing Tables and Datasets\n"
   ]
  },
  {
   "cell_type": "code",
   "execution_count": 4,
   "metadata": {},
   "outputs": [
    {
     "name": "stdout",
     "output_type": "stream",
     "text": [
      "('information_schema',)\n",
      "('mysql',)\n",
      "('performance_schema',)\n",
      "('sys',)\n",
      "('week1',)\n",
      "('week2',)\n",
      "('week3',)\n",
      "\n"
     ]
    }
   ],
   "source": [
    "run(\"SHOW DATABASES\")\n",
    "disp()\n",
    "run(\"SHOW TABLES\")\n",
    "disp()\n",
    "# exit()\n"
   ]
  },
  {
   "cell_type": "markdown",
   "metadata": {},
   "source": [
    "| Database           |\n",
    "| ------------------ |\n",
    "| information_schema |\n",
    "| mysql              |\n",
    "| performance_schema |\n",
    "| sys                |\n",
    "| week1              |\n",
    "| week2              |\n",
    "| week3              |\n"
   ]
  },
  {
   "cell_type": "markdown",
   "metadata": {},
   "source": [
    "#### Queries\n"
   ]
  },
  {
   "cell_type": "markdown",
   "metadata": {},
   "source": [
    "##### 1. Create the following **Branch table** with the record given below. The underline column is the <u>primary key</u>.\n"
   ]
  },
  {
   "cell_type": "code",
   "execution_count": 8,
   "metadata": {},
   "outputs": [],
   "source": [
    "run(\n",
    "    \"\"\"CREATE TABLE Branch (\n",
    "\t\t\t\tbname VARCHAR(10) PRIMARY KEY,\n",
    "\t\t\t\tbcity VARCHAR(5),\n",
    "\t\t\t\tassts INT(3)\n",
    "\t\t\t)\n",
    "\"\"\"\n",
    ")\n"
   ]
  },
  {
   "cell_type": "markdown",
   "metadata": {},
   "source": [
    "| Field | Type        | Null | Key | Default | Extra |\n",
    "| ----- | ----------- | ---- | --- | ------- | ----: |\n",
    "| bname | varchar(10) | NO   | PRI | NULL    |       |\n",
    "| bcity | varchar(5)  | YES  |     | NULL    |       |\n",
    "| assts | int         | YES  |     | NULL    |       |\n"
   ]
  },
  {
   "cell_type": "markdown",
   "metadata": {},
   "source": [
    "ii. Inserting the values\n"
   ]
  },
  {
   "cell_type": "code",
   "execution_count": 9,
   "metadata": {},
   "outputs": [],
   "source": [
    "run(\n",
    "    \"\"\"INSERT INTO Branch VALUES\n",
    "            ('pu', 'Pton', 10),\n",
    "            ('nyu', 'nyc', 20),\n",
    "            ('time sq', 'nyc', 30)\n",
    "\"\"\"\n",
    ")\n",
    "connection.commit()\n"
   ]
  },
  {
   "cell_type": "markdown",
   "metadata": {},
   "source": [
    "| <u>bname</u> | bcity | assts |\n",
    "| ------------ | ----- | ----: |\n",
    "| nyu          | nyc   |    20 |\n",
    "| pu           | Pton  |    10 |\n",
    "| time sq      | nyc   |    30 |\n"
   ]
  },
  {
   "cell_type": "markdown",
   "metadata": {},
   "source": [
    "##### 2. Create the following **Customer Table** with the records given below. Ther underline column is the <u>primary key</u> and <u>bname will be the foreign key</u>.\n"
   ]
  },
  {
   "cell_type": "code",
   "execution_count": 10,
   "metadata": {},
   "outputs": [],
   "source": [
    "run(\n",
    "    \"\"\"CREATE TABLE Account (\n",
    "            bname VARCHAR(5), \n",
    "            acctn INT(3) PRIMARY KEY,\n",
    "            bal INT(4),\n",
    "            FOREIGN KEY (bname) REFERENCES Branch(bname)\n",
    "        )\n",
    "\"\"\"\n",
    ")\n"
   ]
  },
  {
   "cell_type": "markdown",
   "metadata": {},
   "source": [
    "| Field | Type       | Null | Key | Default | Extra |\n",
    "| ----- | ---------- | ---- | --- | ------- | ----- |\n",
    "| bname | varchar(5) | YES  | MUL | NULL    |       |\n",
    "| acctn | int        | NO   | PRI | NULL    |       |\n",
    "| bal   | int        | YES  |     | NULL    |       |\n"
   ]
  },
  {
   "cell_type": "markdown",
   "metadata": {},
   "source": [
    "ii. Inserting values\n"
   ]
  },
  {
   "cell_type": "code",
   "execution_count": 11,
   "metadata": {},
   "outputs": [],
   "source": [
    "run(\n",
    "    \"\"\"INSERT INTO Account VALUES\n",
    "            ('pu', 33, 356),\n",
    "            ('nyu', 45, 500)\n",
    "\"\"\"\n",
    ")\n",
    "connection.commit()\n"
   ]
  },
  {
   "cell_type": "markdown",
   "metadata": {},
   "source": [
    "| bname | <u>acctn</u> | bal |\n",
    "| ----- | ------------ | --- |\n",
    "| pu    | 33           | 356 |\n",
    "| nyu   | 45           | 500 |\n"
   ]
  },
  {
   "cell_type": "markdown",
   "metadata": {},
   "source": [
    "##### 3. Find Names of branches which have a balance greater than 500\n"
   ]
  },
  {
   "cell_type": "code",
   "execution_count": 12,
   "metadata": {},
   "outputs": [
    {
     "name": "stdout",
     "output_type": "stream",
     "text": [
      "\n"
     ]
    }
   ],
   "source": [
    "run(\n",
    "    \"\"\"\n",
    "        SELECT bname AS 'BRANCH NAME' FROM Account\n",
    "        WHERE bal > 500\n",
    "\"\"\"\n",
    ")\n",
    "\n",
    "disp()\n"
   ]
  },
  {
   "cell_type": "markdown",
   "metadata": {},
   "source": [
    "| BRANCH NAME |\n",
    "| ----------- |\n"
   ]
  },
  {
   "cell_type": "markdown",
   "metadata": {},
   "source": [
    "##### 4. Create the Following **Customer Table** with the record given below. Make the <u>actn as foreign key</u>.\n"
   ]
  },
  {
   "cell_type": "code",
   "execution_count": 22,
   "metadata": {},
   "outputs": [],
   "source": [
    "run(\n",
    "    \"\"\"\n",
    "        CREATE TABLE Customer(\n",
    "            Cust_id INT(3),\n",
    "            acctn INT(3),\n",
    "            Cust_name VARCHAR(20),\n",
    "            FOREIGN KEY (acctn) REFERENCES Account(acctn)\n",
    "        )   \n",
    "\"\"\"\n",
    ")\n"
   ]
  },
  {
   "cell_type": "markdown",
   "metadata": {},
   "source": [
    "| Field     | Type        | Null | Key | Default | Extra |\n",
    "| --------- | ----------- | ---- | --- | ------- | ----- |\n",
    "| Cust_id   | int         | YES  |     | NULL    |       |\n",
    "| acctn     | int         | YES  | MUL | NULL    |       |\n",
    "| Cust_name | varchar(20) | YES  |     | NULL    |       |\n"
   ]
  },
  {
   "cell_type": "markdown",
   "metadata": {},
   "source": [
    "ii. Inserting Values\n"
   ]
  },
  {
   "cell_type": "code",
   "execution_count": 23,
   "metadata": {},
   "outputs": [],
   "source": [
    "run(\"INSERT INTO Account VALUES ('pu', 60, 600)\")\n",
    "run(\n",
    "    \"\"\"\n",
    "        INSERT INTO Customer VALUES \n",
    "            (22, 33, 'Suresh'),\n",
    "            (25, 45, 'Amit'),\n",
    "            (30, 60, 'Ayantika')\n",
    "\"\"\"\n",
    ")\n",
    "connection.commit()\n"
   ]
  },
  {
   "cell_type": "markdown",
   "metadata": {},
   "source": [
    "| Cust_id | acctn | Cust_name |\n",
    "| :-----: | :---: | :-------: |\n",
    "|   22    |  33   |  Suresh   |\n",
    "|   25    |  45   |   Amit    |\n",
    "|   30    |  60   | Ayantika  |\n"
   ]
  },
  {
   "cell_type": "markdown",
   "metadata": {},
   "source": [
    "##### 5. Alter the Customer table to insert primary key for Cust_id\n"
   ]
  },
  {
   "cell_type": "code",
   "execution_count": 24,
   "metadata": {},
   "outputs": [],
   "source": [
    "run(\"ALTER TABLE Customer ADD PRIMARY KEY(Cust_id)\")\n"
   ]
  },
  {
   "cell_type": "markdown",
   "metadata": {},
   "source": [
    "| Field     | Type        | Null | Key | Default | Extra |\n",
    "| --------- | ----------- | ---- | --- | ------- | ----- |\n",
    "| Cust_id   | int         | NO   | PRI | NULL    |       |\n",
    "| acctn     | int         | YES  | MUL | NULL    |       |\n",
    "| Cust_name | varchar(20) | YES  |     | NULL    |       |\n"
   ]
  },
  {
   "cell_type": "markdown",
   "metadata": {},
   "source": [
    "##### 6. Display acctn and Cust_name for cust_id 22.\n"
   ]
  },
  {
   "cell_type": "code",
   "execution_count": 27,
   "metadata": {},
   "outputs": [
    {
     "name": "stdout",
     "output_type": "stream",
     "text": [
      "(33, 'Suresh')\n"
     ]
    }
   ],
   "source": [
    "run(\"SELECT acctn, Cust_name FROM Customer WHERE Cust_id = 22\")\n",
    "disp()\n"
   ]
  },
  {
   "cell_type": "markdown",
   "metadata": {},
   "source": [
    "| acctn | Cust_name |\n",
    "| ----- | --------- |\n",
    "| 33    | Suresh    |\n"
   ]
  },
  {
   "cell_type": "markdown",
   "metadata": {},
   "source": [
    "##### 7. Display those branch name(bname) which is located in nyc\n"
   ]
  },
  {
   "cell_type": "code",
   "execution_count": 31,
   "metadata": {},
   "outputs": [
    {
     "name": "stdout",
     "output_type": "stream",
     "text": [
      "\n"
     ]
    }
   ],
   "source": [
    "run(\"SELECT bname FROM Branch where bname = 'nyc'\")\n",
    "disp()\n"
   ]
  },
  {
   "cell_type": "markdown",
   "metadata": {},
   "source": [
    "| bname |\n",
    "| ----- |\n"
   ]
  },
  {
   "cell_type": "markdown",
   "metadata": {},
   "source": [
    "##### 8. Display all the tables.\n"
   ]
  },
  {
   "cell_type": "code",
   "execution_count": 42,
   "metadata": {},
   "outputs": [
    {
     "name": "stdout",
     "output_type": "stream",
     "text": [
      "\n"
     ]
    }
   ],
   "source": [
    "run(\n",
    "    \"\"\"\n",
    "    SELECT table_name AS TABLES \n",
    "    FROM information_schema.tables \n",
    "    WHERE table_schema = 'week3'\n",
    "\"\"\"\n",
    ")\n",
    "\n",
    "disp()\n"
   ]
  },
  {
   "cell_type": "markdown",
   "metadata": {},
   "source": [
    "| TABLES   |\n",
    "| -------- |\n",
    "| account  |\n",
    "| branch   |\n",
    "| customer |\n"
   ]
  }
 ],
 "metadata": {
  "kernelspec": {
   "display_name": "Python 3.10.6 64-bit",
   "language": "python",
   "name": "python3"
  },
  "language_info": {
   "codemirror_mode": {
    "name": "ipython",
    "version": 3
   },
   "file_extension": ".py",
   "mimetype": "text/x-python",
   "name": "python",
   "nbconvert_exporter": "python",
   "pygments_lexer": "ipython3",
   "version": "3.10.6"
  },
  "orig_nbformat": 4,
  "vscode": {
   "interpreter": {
    "hash": "7cc880fb414a6190fbce021e54b9550a41e00b0ed8e95a947d98634e734d910a"
   }
  }
 },
 "nbformat": 4,
 "nbformat_minor": 2
}
