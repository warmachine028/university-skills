{
 "cells": [
  {
   "cell_type": "markdown",
   "metadata": {},
   "source": [
    "### AIML: Semi Supervised Learning - Label propagation and Spreading (20th April 2022, Wednesday)"
   ]
  },
  {
   "cell_type": "code",
   "execution_count": 1,
   "metadata": {},
   "outputs": [],
   "source": [
    "from sklearn.datasets import load_digits\n",
    "\n",
    "digits = load_digits()"
   ]
  },
  {
   "cell_type": "markdown",
   "metadata": {},
   "source": [
    "Shape of the dataset and targret"
   ]
  },
  {
   "cell_type": "code",
   "execution_count": 2,
   "metadata": {},
   "outputs": [
    {
     "name": "stdout",
     "output_type": "stream",
     "text": [
      "digits.data.shape=(1797, 64)\n"
     ]
    },
    {
     "data": {
      "text/plain": [
       "array([0, 1, 2, ..., 8, 9, 8])"
      ]
     },
     "execution_count": 2,
     "metadata": {},
     "output_type": "execute_result"
    }
   ],
   "source": [
    "print(f\"{digits.data.shape=}\")\n",
    "digits.target"
   ]
  },
  {
   "cell_type": "code",
   "execution_count": 3,
   "metadata": {},
   "outputs": [
    {
     "name": "stdout",
     "output_type": "stream",
     "text": [
      "7\n"
     ]
    },
    {
     "data": {
      "text/plain": [
       "<matplotlib.image.AxesImage at 0x22424c71780>"
      ]
     },
     "execution_count": 3,
     "metadata": {},
     "output_type": "execute_result"
    },
    {
     "data": {
      "image/png": "[encoded data removed]",
      "text/plain": [
       "<Figure size 432x288 with 1 Axes>"
      ]
     },
     "metadata": {
      "needs_background": "light"
     },
     "output_type": "display_data"
    }
   ],
   "source": [
    "import matplotlib.pyplot as plt\n",
    "import numpy as np\n",
    "\n",
    "image_data = digits.data[300]\n",
    "print(digits.target[300])\n",
    "image = np.reshape(image_data, (8, 8))\n",
    "plt.imshow(image, cmap=\"BuGn\")  # <- cmap = colormap"
   ]
  },
  {
   "cell_type": "markdown",
   "metadata": {},
   "source": [
    "Splitting the dataSet"
   ]
  },
  {
   "cell_type": "code",
   "execution_count": 4,
   "metadata": {},
   "outputs": [],
   "source": [
    "from sklearn.model_selection import train_test_split as tts\n",
    "\n",
    "x_train, x_test, y_train, y_test = tts(\n",
    "    digits.data, digits.target, test_size=.2,\n",
    ")\n"
   ]
  },
  {
   "cell_type": "code",
   "execution_count": 5,
   "metadata": {},
   "outputs": [
    {
     "data": {
      "text/plain": [
       "((1437, 64), (360, 64))"
      ]
     },
     "execution_count": 5,
     "metadata": {},
     "output_type": "execute_result"
    }
   ],
   "source": [
    "x_train.shape, x_test.shape"
   ]
  },
  {
   "cell_type": "markdown",
   "metadata": {},
   "source": [
    "Target Value"
   ]
  },
  {
   "cell_type": "code",
   "execution_count": 6,
   "metadata": {},
   "outputs": [
    {
     "name": "stdout",
     "output_type": "stream",
     "text": [
      "[5 2 7 ... 0 3 9]\n"
     ]
    }
   ],
   "source": [
    "print(y_train)"
   ]
  },
  {
   "cell_type": "markdown",
   "metadata": {},
   "source": [
    "Taking first 300 values as Labled"
   ]
  },
  {
   "cell_type": "code",
   "execution_count": 7,
   "metadata": {},
   "outputs": [],
   "source": [
    "x_labled, y_labled = x_train[:300], y_train[:300]"
   ]
  },
  {
   "cell_type": "markdown",
   "metadata": {},
   "source": [
    "Remove the labels for non labled indices in training dataset  \n",
    "Setting Labels of rest 300 data as -1\n"
   ]
  },
  {
   "cell_type": "code",
   "execution_count": 8,
   "metadata": {},
   "outputs": [],
   "source": [
    "# y_train consists of 1436 Labels\n",
    "y_train_unlabled = np.copy(y_train)\n",
    "y_train_unlabled[300:] = -1\n"
   ]
  },
  {
   "cell_type": "markdown",
   "metadata": {},
   "source": [
    "Import the model from skLearn to predict the labels of unlabled dataset"
   ]
  },
  {
   "cell_type": "code",
   "execution_count": 9,
   "metadata": {},
   "outputs": [
    {
     "data": {
      "text/plain": [
       "0.9777777777777777"
      ]
     },
     "execution_count": 9,
     "metadata": {},
     "output_type": "execute_result"
    }
   ],
   "source": [
    "from sklearn.semi_supervised import LabelPropagation\n",
    "\n",
    "model = LabelPropagation(gamma=.7)    # Initializing the model\n",
    "model.fit(x_train, y_train_unlabled)  # training the model with unlabled data\n",
    "model.score(x_test, y_test)           # getting prediction on test data\n"
   ]
  },
  {
   "cell_type": "markdown",
   "metadata": {},
   "source": [
    "Check the labels assigned by the model "
   ]
  },
  {
   "cell_type": "code",
   "execution_count": 17,
   "metadata": {},
   "outputs": [],
   "source": [
    "# Capture labels set by Label Propagation on the set of non labled data\n",
    "y_labled_predicted = model.transduction_[300:]\n"
   ]
  },
  {
   "cell_type": "code",
   "execution_count": 29,
   "metadata": {},
   "outputs": [
    {
     "name": "stdout",
     "output_type": "stream",
     "text": [
      "[[122   0   0   0   0   0   0   0   0   0]\n",
      " [  0 102   0   0   2   0   0   0   1   0]\n",
      " [  0   1 111   0   0   0   0   0   0   0]\n",
      " [  0   0   0 122   0   0   0   0   0   1]\n",
      " [  0   1   0   0 113   0   0   0   0   3]\n",
      " [  0   0   0   0   0 115   1   0   0   1]\n",
      " [  1   1   0   0   0   3 104   0   0   0]\n",
      " [  0   0   0   0   0   0   0 109   0   1]\n",
      " [  0  11   2   0   0   1   2   1  97   1]\n",
      " [  0   0   0   2   0   3   0   0   1 101]]\n"
     ]
    }
   ],
   "source": [
    "from sklearn.metrics import confusion_matrix\n",
    "\n",
    "matrix = confusion_matrix(\n",
    "    y_train[300:],          # Actual labels of Unlabled data values\n",
    "    y_labled_predicted,               # Model Predicted labels of data values\n",
    "    labels=model.classes_\n",
    ")\n",
    "print(matrix)"
   ]
  },
  {
   "cell_type": "code",
   "execution_count": 34,
   "metadata": {},
   "outputs": [
    {
     "data": {
      "text/plain": [
       "0.9861111111111112"
      ]
     },
     "execution_count": 34,
     "metadata": {},
     "output_type": "execute_result"
    }
   ],
   "source": [
    "from sklearn.semi_supervised import LabelSpreading\n",
    "\n",
    "model2 = LabelSpreading(gamma=.3)\n",
    "model2.fit(x_train, y_train_unlabled)\n",
    "model2.score(x_test, y_test)\n"
   ]
  },
  {
   "cell_type": "code",
   "execution_count": 38,
   "metadata": {},
   "outputs": [
    {
     "name": "stdout",
     "output_type": "stream",
     "text": [
      "[0 0 1 ... 0 3 9]\n"
     ]
    }
   ],
   "source": [
    "y_labled_predicted2 = model2.transduction_[300:]\n",
    "print(y_labled_predicted2)"
   ]
  },
  {
   "cell_type": "code",
   "execution_count": 39,
   "metadata": {},
   "outputs": [
    {
     "name": "stdout",
     "output_type": "stream",
     "text": [
      "[[122   0   0   0   0   0   0   0   0   0]\n",
      " [  0 105   0   0   0   0   0   0   0   0]\n",
      " [  0   0 112   0   0   0   0   0   0   0]\n",
      " [  0   0   0 123   0   0   0   0   0   0]\n",
      " [  0   0   0   0 114   0   0   0   0   3]\n",
      " [  0   0   0   0   0 116   0   0   0   1]\n",
      " [  0   1   0   0   0   4 104   0   0   0]\n",
      " [  0   0   0   0   0   0   0 109   0   1]\n",
      " [  0   4   0   0   0   0   2   0 109   0]\n",
      " [  0   0   0   2   0   3   0   0   1 101]]\n"
     ]
    }
   ],
   "source": [
    "matrix2 = confusion_matrix(\n",
    "    y_train[300:],\n",
    "    y_labled_predicted2,\n",
    "    labels=model2.classes_\n",
    ")\n",
    "print(matrix2)"
   ]
  }
 ],
 "metadata": {
  "interpreter": {
   "hash": "78a4aec9bc3e26b127afac5c906016c02cfe49ae24930a1d4db4a58c190dcf89"
  },
  "kernelspec": {
   "display_name": "Python 3.10.4 64-bit",
   "language": "python",
   "name": "python3"
  },
  "language_info": {
   "codemirror_mode": {
    "name": "ipython",
    "version": 3
   },
   "file_extension": ".py",
   "mimetype": "text/x-python",
   "name": "python",
   "nbconvert_exporter": "python",
   "pygments_lexer": "ipython3",
   "version": "3.10.4"
  },
  "orig_nbformat": 4
 },
 "nbformat": 4,
 "nbformat_minor": 2
}
