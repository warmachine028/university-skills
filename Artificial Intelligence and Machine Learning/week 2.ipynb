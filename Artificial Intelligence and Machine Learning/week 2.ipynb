{
 "cells": [
  {
   "cell_type": "markdown",
   "metadata": {},
   "source": [
    "### AIML: Introduction: pandas (24th February 2022, Thursday)\n",
    "\n",
    "Importing pandas"
   ]
  },
  {
   "cell_type": "code",
   "execution_count": 48,
   "metadata": {},
   "outputs": [],
   "source": [
    "# 1a. Use pandas to create a student marksheet with studentID, Name and marks obtained in 6 subjects.\n",
    "import pandas as pd\n"
   ]
  },
  {
   "cell_type": "markdown",
   "metadata": {},
   "source": [
    "Adding Headers into the DataFrame"
   ]
  },
  {
   "cell_type": "code",
   "execution_count": 49,
   "metadata": {},
   "outputs": [
    {
     "name": "stdout",
     "output_type": "stream",
     "text": [
      "Empty DataFrame\n",
      "Columns: [Student ID, Name, Marks1, Marks2, Marks3, Marks4, Marks5, Marks6]\n",
      "Index: []\n"
     ]
    }
   ],
   "source": [
    "col_names = [ \"Student ID\", \"Name\", \"Marks1\", \"Marks2\", \"Marks3\", \"Marks4\", \"Marks5\", \"Marks6\"]\n",
    "df = pd.DataFrame(columns=col_names) # Setting the columns\n",
    "print(df)"
   ]
  },
  {
   "cell_type": "markdown",
   "metadata": {},
   "source": [
    "Adding a column to the dataFrame"
   ]
  },
  {
   "cell_type": "code",
   "execution_count": 50,
   "metadata": {},
   "outputs": [
    {
     "name": "stderr",
     "output_type": "stream",
     "text": [
      "C:\\Users\\Kryptonite\\AppData\\Local\\Temp\\ipykernel_10556\\1278917912.py:12: FutureWarning: The frame.append method is deprecated and will be removed from pandas in a future version. Use pandas.concat instead.\n",
      "  df = df.append(stud1, ignore_index=True) # avoid using this append method as its depricating\n"
     ]
    }
   ],
   "source": [
    "stud1 = {\n",
    "    'Student ID' : 2,\n",
    "    \"Name\" : \"Pritam Kundu\", \n",
    "    \"Marks1\": 67, \n",
    "    \"Marks2\": 67,\n",
    "    \"Marks3\": 67,\n",
    "    \"Marks4\": 67,\n",
    "    \"Marks5\": 67,\n",
    "    \"Marks6\": 67\n",
    "}\n",
    "\n",
    "df = df.append(stud1, ignore_index=True) # avoid using this append method as its depricating\n",
    "# ignore_index -> required as there is no row indices by default"
   ]
  },
  {
   "cell_type": "markdown",
   "metadata": {},
   "source": [
    "Generating a new dataFrame and Concatenating it to the same datFrame"
   ]
  },
  {
   "cell_type": "code",
   "execution_count": 51,
   "metadata": {},
   "outputs": [],
   "source": [
    "df2 = pd.DataFrame(\n",
    "    {'Student ID' : 5,\n",
    "    \"Name\" : [\"Jane Doe\"],  # <- Cant pass alues without [] as it would be scaler\n",
    "    \"Marks1\": 67, \n",
    "    \"Marks2\": 69,\n",
    "    \"Marks3\": 61,\n",
    "    \"Marks4\": 63,\n",
    "    \"Marks5\": 65,\n",
    "    \"Marks6\": 66}\n",
    ")\n",
    "df = pd.concat([df, df2], axis=0, ignore_index=True)\n",
    "#  -> axis=0 => we want to concatenate row-wise"
   ]
  },
  {
   "cell_type": "markdown",
   "metadata": {},
   "source": [
    "loc -> location indexer  \n",
    "Simplest way to assign values to a dataFrame"
   ]
  },
  {
   "cell_type": "code",
   "execution_count": 52,
   "metadata": {},
   "outputs": [],
   "source": [
    "df.loc[2] = [3, \"Taki\", 65, 45, 12, 90, 89, 78]\n",
    "df.loc[-1] = [4, \"Mitsuha\", 69, 41, 12, 40, 100, 78]"
   ]
  },
  {
   "cell_type": "code",
   "execution_count": 53,
   "metadata": {},
   "outputs": [
    {
     "data": {
      "text/html": [
       "<div>\n",
       "<style scoped>\n",
       "    .dataframe tbody tr th:only-of-type {\n",
       "        vertical-align: middle;\n",
       "    }\n",
       "\n",
       "    .dataframe tbody tr th {\n",
       "        vertical-align: top;\n",
       "    }\n",
       "\n",
       "    .dataframe thead th {\n",
       "        text-align: right;\n",
       "    }\n",
       "</style>\n",
       "<table border=\"1\" class=\"dataframe\">\n",
       "  <thead>\n",
       "    <tr style=\"text-align: right;\">\n",
       "      <th></th>\n",
       "      <th>Student ID</th>\n",
       "      <th>Name</th>\n",
       "      <th>Marks1</th>\n",
       "      <th>Marks2</th>\n",
       "      <th>Marks3</th>\n",
       "      <th>Marks4</th>\n",
       "      <th>Marks5</th>\n",
       "      <th>Marks6</th>\n",
       "    </tr>\n",
       "  </thead>\n",
       "  <tbody>\n",
       "    <tr>\n",
       "      <th>0</th>\n",
       "      <td>2</td>\n",
       "      <td>Pritam Kundu</td>\n",
       "      <td>67</td>\n",
       "      <td>67</td>\n",
       "      <td>67</td>\n",
       "      <td>67</td>\n",
       "      <td>67</td>\n",
       "      <td>67</td>\n",
       "    </tr>\n",
       "    <tr>\n",
       "      <th>1</th>\n",
       "      <td>5</td>\n",
       "      <td>Jane Doe</td>\n",
       "      <td>67</td>\n",
       "      <td>69</td>\n",
       "      <td>61</td>\n",
       "      <td>63</td>\n",
       "      <td>65</td>\n",
       "      <td>66</td>\n",
       "    </tr>\n",
       "    <tr>\n",
       "      <th>2</th>\n",
       "      <td>3</td>\n",
       "      <td>Taki</td>\n",
       "      <td>65</td>\n",
       "      <td>45</td>\n",
       "      <td>12</td>\n",
       "      <td>90</td>\n",
       "      <td>89</td>\n",
       "      <td>78</td>\n",
       "    </tr>\n",
       "    <tr>\n",
       "      <th>-1</th>\n",
       "      <td>4</td>\n",
       "      <td>Mitsuha</td>\n",
       "      <td>69</td>\n",
       "      <td>41</td>\n",
       "      <td>12</td>\n",
       "      <td>40</td>\n",
       "      <td>100</td>\n",
       "      <td>78</td>\n",
       "    </tr>\n",
       "  </tbody>\n",
       "</table>\n",
       "</div>"
      ],
      "text/plain": [
       "   Student ID          Name Marks1 Marks2 Marks3 Marks4 Marks5 Marks6\n",
       " 0          2  Pritam Kundu     67     67     67     67     67     67\n",
       " 1          5      Jane Doe     67     69     61     63     65     66\n",
       " 2          3          Taki     65     45     12     90     89     78\n",
       "-1          4       Mitsuha     69     41     12     40    100     78"
      ]
     },
     "execution_count": 53,
     "metadata": {},
     "output_type": "execute_result"
    }
   ],
   "source": [
    "df"
   ]
  },
  {
   "cell_type": "code",
   "execution_count": 54,
   "metadata": {},
   "outputs": [
    {
     "data": {
      "text/html": [
       "<div>\n",
       "<style scoped>\n",
       "    .dataframe tbody tr th:only-of-type {\n",
       "        vertical-align: middle;\n",
       "    }\n",
       "\n",
       "    .dataframe tbody tr th {\n",
       "        vertical-align: top;\n",
       "    }\n",
       "\n",
       "    .dataframe thead th {\n",
       "        text-align: right;\n",
       "    }\n",
       "</style>\n",
       "<table border=\"1\" class=\"dataframe\">\n",
       "  <thead>\n",
       "    <tr style=\"text-align: right;\">\n",
       "      <th></th>\n",
       "      <th>Student ID</th>\n",
       "      <th>Name</th>\n",
       "      <th>Marks1</th>\n",
       "      <th>Marks2</th>\n",
       "      <th>Marks3</th>\n",
       "      <th>Marks4</th>\n",
       "      <th>Marks5</th>\n",
       "      <th>Marks6</th>\n",
       "    </tr>\n",
       "  </thead>\n",
       "  <tbody>\n",
       "    <tr>\n",
       "      <th>0</th>\n",
       "      <td>4</td>\n",
       "      <td>Mitsuha</td>\n",
       "      <td>69</td>\n",
       "      <td>41</td>\n",
       "      <td>12</td>\n",
       "      <td>40</td>\n",
       "      <td>100</td>\n",
       "      <td>78</td>\n",
       "    </tr>\n",
       "    <tr>\n",
       "      <th>1</th>\n",
       "      <td>2</td>\n",
       "      <td>Pritam Kundu</td>\n",
       "      <td>67</td>\n",
       "      <td>67</td>\n",
       "      <td>67</td>\n",
       "      <td>67</td>\n",
       "      <td>67</td>\n",
       "      <td>67</td>\n",
       "    </tr>\n",
       "    <tr>\n",
       "      <th>2</th>\n",
       "      <td>5</td>\n",
       "      <td>Jane Doe</td>\n",
       "      <td>67</td>\n",
       "      <td>69</td>\n",
       "      <td>61</td>\n",
       "      <td>63</td>\n",
       "      <td>65</td>\n",
       "      <td>66</td>\n",
       "    </tr>\n",
       "    <tr>\n",
       "      <th>3</th>\n",
       "      <td>3</td>\n",
       "      <td>Taki</td>\n",
       "      <td>65</td>\n",
       "      <td>45</td>\n",
       "      <td>12</td>\n",
       "      <td>90</td>\n",
       "      <td>89</td>\n",
       "      <td>78</td>\n",
       "    </tr>\n",
       "  </tbody>\n",
       "</table>\n",
       "</div>"
      ],
      "text/plain": [
       "  Student ID          Name Marks1 Marks2 Marks3 Marks4 Marks5 Marks6\n",
       "0          4       Mitsuha     69     41     12     40    100     78\n",
       "1          2  Pritam Kundu     67     67     67     67     67     67\n",
       "2          5      Jane Doe     67     69     61     63     65     66\n",
       "3          3          Taki     65     45     12     90     89     78"
      ]
     },
     "execution_count": 54,
     "metadata": {},
     "output_type": "execute_result"
    }
   ],
   "source": [
    "# Rectifying Indices\n",
    "df.index += 1\n",
    "df.sort_index()"
   ]
  },
  {
   "cell_type": "code",
   "execution_count": 55,
   "metadata": {},
   "outputs": [],
   "source": [
    "# 1b. Use pandas to get the names and ID of the students with highest % of marks.\n",
    "\n",
    "df['Aggregate']  = df.iloc[:, 2:].sum(axis=1).astype(int)\n",
    "df['Percentage'] = (df['Aggregate'] / 6).round(2)\n",
    "\n"
   ]
  },
  {
   "cell_type": "markdown",
   "metadata": {},
   "source": [
    "Sorting by Highest percentage"
   ]
  },
  {
   "cell_type": "code",
   "execution_count": 56,
   "metadata": {},
   "outputs": [
    {
     "data": {
      "text/html": [
       "<div>\n",
       "<style scoped>\n",
       "    .dataframe tbody tr th:only-of-type {\n",
       "        vertical-align: middle;\n",
       "    }\n",
       "\n",
       "    .dataframe tbody tr th {\n",
       "        vertical-align: top;\n",
       "    }\n",
       "\n",
       "    .dataframe thead th {\n",
       "        text-align: right;\n",
       "    }\n",
       "</style>\n",
       "<table border=\"1\" class=\"dataframe\">\n",
       "  <thead>\n",
       "    <tr style=\"text-align: right;\">\n",
       "      <th></th>\n",
       "      <th>Student ID</th>\n",
       "      <th>Name</th>\n",
       "      <th>Marks1</th>\n",
       "      <th>Marks2</th>\n",
       "      <th>Marks3</th>\n",
       "      <th>Marks4</th>\n",
       "      <th>Marks5</th>\n",
       "      <th>Marks6</th>\n",
       "      <th>Aggregate</th>\n",
       "      <th>Percentage</th>\n",
       "    </tr>\n",
       "  </thead>\n",
       "  <tbody>\n",
       "    <tr>\n",
       "      <th>1</th>\n",
       "      <td>2</td>\n",
       "      <td>Pritam Kundu</td>\n",
       "      <td>67</td>\n",
       "      <td>67</td>\n",
       "      <td>67</td>\n",
       "      <td>67</td>\n",
       "      <td>67</td>\n",
       "      <td>67</td>\n",
       "      <td>402</td>\n",
       "      <td>67.00</td>\n",
       "    </tr>\n",
       "    <tr>\n",
       "      <th>2</th>\n",
       "      <td>5</td>\n",
       "      <td>Jane Doe</td>\n",
       "      <td>67</td>\n",
       "      <td>69</td>\n",
       "      <td>61</td>\n",
       "      <td>63</td>\n",
       "      <td>65</td>\n",
       "      <td>66</td>\n",
       "      <td>391</td>\n",
       "      <td>65.17</td>\n",
       "    </tr>\n",
       "    <tr>\n",
       "      <th>3</th>\n",
       "      <td>3</td>\n",
       "      <td>Taki</td>\n",
       "      <td>65</td>\n",
       "      <td>45</td>\n",
       "      <td>12</td>\n",
       "      <td>90</td>\n",
       "      <td>89</td>\n",
       "      <td>78</td>\n",
       "      <td>379</td>\n",
       "      <td>63.17</td>\n",
       "    </tr>\n",
       "    <tr>\n",
       "      <th>0</th>\n",
       "      <td>4</td>\n",
       "      <td>Mitsuha</td>\n",
       "      <td>69</td>\n",
       "      <td>41</td>\n",
       "      <td>12</td>\n",
       "      <td>40</td>\n",
       "      <td>100</td>\n",
       "      <td>78</td>\n",
       "      <td>340</td>\n",
       "      <td>56.67</td>\n",
       "    </tr>\n",
       "  </tbody>\n",
       "</table>\n",
       "</div>"
      ],
      "text/plain": [
       "  Student ID          Name Marks1 Marks2 Marks3 Marks4 Marks5 Marks6  \\\n",
       "1          2  Pritam Kundu     67     67     67     67     67     67   \n",
       "2          5      Jane Doe     67     69     61     63     65     66   \n",
       "3          3          Taki     65     45     12     90     89     78   \n",
       "0          4       Mitsuha     69     41     12     40    100     78   \n",
       "\n",
       "   Aggregate  Percentage  \n",
       "1        402       67.00  \n",
       "2        391       65.17  \n",
       "3        379       63.17  \n",
       "0        340       56.67  "
      ]
     },
     "execution_count": 56,
     "metadata": {},
     "output_type": "execute_result"
    }
   ],
   "source": [
    "df.sort_values('Percentage', ascending=False)"
   ]
  },
  {
   "cell_type": "code",
   "execution_count": 57,
   "metadata": {},
   "outputs": [
    {
     "data": {
      "text/html": [
       "<div>\n",
       "<style scoped>\n",
       "    .dataframe tbody tr th:only-of-type {\n",
       "        vertical-align: middle;\n",
       "    }\n",
       "\n",
       "    .dataframe tbody tr th {\n",
       "        vertical-align: top;\n",
       "    }\n",
       "\n",
       "    .dataframe thead th {\n",
       "        text-align: right;\n",
       "    }\n",
       "</style>\n",
       "<table border=\"1\" class=\"dataframe\">\n",
       "  <thead>\n",
       "    <tr style=\"text-align: right;\">\n",
       "      <th></th>\n",
       "      <th>Student ID</th>\n",
       "      <th>Name</th>\n",
       "    </tr>\n",
       "  </thead>\n",
       "  <tbody>\n",
       "    <tr>\n",
       "      <th>1</th>\n",
       "      <td>2</td>\n",
       "      <td>Pritam Kundu</td>\n",
       "    </tr>\n",
       "  </tbody>\n",
       "</table>\n",
       "</div>"
      ],
      "text/plain": [
       "  Student ID          Name\n",
       "1          2  Pritam Kundu"
      ]
     },
     "execution_count": 57,
     "metadata": {},
     "output_type": "execute_result"
    }
   ],
   "source": [
    "df[df['Percentage'] == df['Percentage'].max()][['Student ID', 'Name']]\n"
   ]
  },
  {
   "cell_type": "code",
   "execution_count": 58,
   "metadata": {},
   "outputs": [
    {
     "data": {
      "text/html": [
       "<div>\n",
       "<style scoped>\n",
       "    .dataframe tbody tr th:only-of-type {\n",
       "        vertical-align: middle;\n",
       "    }\n",
       "\n",
       "    .dataframe tbody tr th {\n",
       "        vertical-align: top;\n",
       "    }\n",
       "\n",
       "    .dataframe thead th {\n",
       "        text-align: right;\n",
       "    }\n",
       "</style>\n",
       "<table border=\"1\" class=\"dataframe\">\n",
       "  <thead>\n",
       "    <tr style=\"text-align: right;\">\n",
       "      <th></th>\n",
       "      <th>Student ID</th>\n",
       "      <th>Name</th>\n",
       "      <th>Marks1</th>\n",
       "      <th>Marks2</th>\n",
       "      <th>Marks3</th>\n",
       "      <th>Marks4</th>\n",
       "      <th>Marks5</th>\n",
       "      <th>Marks6</th>\n",
       "      <th>Aggregate</th>\n",
       "      <th>Percentage</th>\n",
       "    </tr>\n",
       "  </thead>\n",
       "  <tbody>\n",
       "    <tr>\n",
       "      <th>0</th>\n",
       "      <td>4</td>\n",
       "      <td>Mitsuha</td>\n",
       "      <td>69</td>\n",
       "      <td>41</td>\n",
       "      <td>12</td>\n",
       "      <td>40</td>\n",
       "      <td>100</td>\n",
       "      <td>78</td>\n",
       "      <td>340</td>\n",
       "      <td>56.67</td>\n",
       "    </tr>\n",
       "  </tbody>\n",
       "</table>\n",
       "</div>"
      ],
      "text/plain": [
       "  Student ID     Name Marks1 Marks2 Marks3 Marks4 Marks5 Marks6  Aggregate  \\\n",
       "0          4  Mitsuha     69     41     12     40    100     78        340   \n",
       "\n",
       "   Percentage  \n",
       "0       56.67  "
      ]
     },
     "execution_count": 58,
     "metadata": {},
     "output_type": "execute_result"
    }
   ],
   "source": [
    "# 1c. Use pandas to identify the student who got lowest marks in more than 2 subjects.\n",
    "\n",
    "df[df['Percentage'] == df['Percentage'].min()]"
   ]
  },
  {
   "cell_type": "code",
   "execution_count": 59,
   "metadata": {},
   "outputs": [],
   "source": [
    "# 1d. Convert the dataFrame to csv file\n",
    "\n",
    "df.to_csv(\"file.csv\")"
   ]
  }
 ],
 "metadata": {
  "interpreter": {
   "hash": "7cc880fb414a6190fbce021e54b9550a41e00b0ed8e95a947d98634e734d910a"
  },
  "kernelspec": {
   "display_name": "Python 3.10.4 64-bit",
   "language": "python",
   "name": "python3"
  },
  "language_info": {
   "codemirror_mode": {
    "name": "ipython",
    "version": 3
   },
   "file_extension": ".py",
   "mimetype": "text/x-python",
   "name": "python",
   "nbconvert_exporter": "python",
   "pygments_lexer": "ipython3",
   "version": "3.10.4"
  },
  "orig_nbformat": 4
 },
 "nbformat": 4,
 "nbformat_minor": 2
}
