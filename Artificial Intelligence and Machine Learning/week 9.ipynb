{
 "cells": [
  {
   "cell_type": "markdown",
   "metadata": {},
   "source": [
    "### AIML: REVISION Practice - (27th April 2022, Wednesday)"
   ]
  },
  {
   "cell_type": "markdown",
   "metadata": {},
   "source": [
    "#### Problem:\n",
    "1. Load the Breast Cancer Dataset.   \n",
    "2. Perform supervised learning using following Classification Algorithms:  \n",
    "   1. Logistic Regression\n",
    "   2. Decision Tree\n",
    "   3. Random Forest\n",
    "   4. Multi Layer Perceptron\n",
    "\n",
    "3. For each algorithm, check the classifier performance (in terms of accuracy) for 3 different train: test split ratios:\n",
    "   1. 70:30\n",
    "   2. 75:25\n",
    "   3. 80:20\n",
    "\n",
    "4. For each classifier and for the 3 split ratios, illustrate the performance using a line plot.  \n",
    "5. In each case, find the confusion Matrix  \n",
    "6. Finally determine which classifier in which split ratio has the least number of:\n",
    "   1. False positives\n",
    "   2. False negatives\n"
   ]
  },
  {
   "cell_type": "code",
   "execution_count": 1,
   "metadata": {},
   "outputs": [],
   "source": [
    "from sklearn.datasets import load_breast_cancer\n",
    "\n",
    "cancer_dataset = load_breast_cancer()\n",
    "\n",
    "x = cancer_dataset.data\n",
    "y = cancer_dataset.target"
   ]
  },
  {
   "cell_type": "markdown",
   "metadata": {},
   "source": [
    "#### Importing Models"
   ]
  },
  {
   "cell_type": "code",
   "execution_count": 2,
   "metadata": {},
   "outputs": [],
   "source": [
    "from sklearn.linear_model import LogisticRegression\n",
    "from sklearn.tree import DecisionTreeClassifier\n",
    "from sklearn.ensemble import RandomForestClassifier\n",
    "from sklearn.neural_network import MLPClassifier\n"
   ]
  },
  {
   "cell_type": "markdown",
   "metadata": {},
   "source": [
    "#### Splitting the data"
   ]
  },
  {
   "cell_type": "code",
   "execution_count": 3,
   "metadata": {},
   "outputs": [],
   "source": [
    "from sklearn.model_selection import train_test_split as tts\n",
    "\n",
    "splits = {\n",
    "    70:30,\n",
    "    75:25,\n",
    "    80:20\n",
    "}\n",
    "trains = splits.keys()\n",
    "\n",
    "x_trains, x_tests, y_trains, y_tests = ([] for _ in range(4))\n",
    "\n",
    "for split in splits.values():\n",
    "    ts = split/100\n",
    "    x_train, x_test, y_train, y_test = tts(x, y, test_size=ts)\n",
    "    x_trains.append(x_train)\n",
    "    x_tests.append(x_test)\n",
    "    y_trains.append(y_train)\n",
    "    y_tests.append(y_test)\n"
   ]
  },
  {
   "cell_type": "markdown",
   "metadata": {},
   "source": [
    "#### Common Functions for plotting"
   ]
  },
  {
   "cell_type": "code",
   "execution_count": 4,
   "metadata": {},
   "outputs": [],
   "source": [
    "from matplotlib import pyplot as plt\n",
    "\n",
    "def plot_performance(model: str, accuracies: list[float]) -> None:\n",
    "    plt.title(f'PERFORMANCE OF {model} MODEL')\n",
    "    plt.ylabel('ACCURACY')\n",
    "    plt.xlabel('TRAIN SIZE')\n",
    "    plt.ylim(.8,1)\n",
    "    plt.plot(trains, accuracies)\n",
    "    plt.show()\n",
    "\n",
    "\n",
    "def plot_errors(model: str, rmse: list[float], r2se: list[float]) -> None:\n",
    "    plt.title(f'ERRORs OF {model} MODEL')\n",
    "    plt.ylabel('ERROR')\n",
    "    plt.xlabel('TRAIN SIZE')\n",
    "    plt.plot(trains, rmse)\n",
    "    plt.plot(trains, r2se)\n",
    "    plt.legend([\"r2Score\", \"RMSE\"], loc='upper right')\n",
    "    plt.show()"
   ]
  },
  {
   "cell_type": "markdown",
   "metadata": {},
   "source": [
    "#### Common Functions for error calculations"
   ]
  },
  {
   "cell_type": "code",
   "execution_count": 5,
   "metadata": {},
   "outputs": [],
   "source": [
    "# Importing Error Calculating Modules\n",
    "\n",
    "# Formula for Mean Squared Error\n",
    "# sum((yi - yi_)**2 for yi, yi_ in zip(y_test, y_pred))/ len(y_test)\n",
    "from sklearn.metrics import mean_squared_error, r2_score, confusion_matrix\n",
    "import numpy as np\n",
    "\n",
    "def calculate_and_plot_errors(predictions, model):\n",
    "    rmse, r2se = [], []\n",
    "    # Errors\n",
    "    for y_test, y_pred in zip(y_tests, predictions):\n",
    "        RMSE = np.sqrt(mean_squared_error(y_test, y_pred))\n",
    "        R2SR = r2_score(y_test, y_pred)\n",
    "        rmse.append(RMSE)\n",
    "        r2se.append(R2SR)\n",
    "        # print(f'For {train}% Training data')\n",
    "        # print(f\"RMSE Error: {RMSE:.2f}\")\n",
    "        # print(f\"R2SR Error: {R2SR:.2f}\\n\")\n",
    "\n",
    "    # Plotting the Errors:\n",
    "    plot_errors(model, rmse, r2se)\n",
    "\n",
    "\n",
    "def calculate_confusion_matrix(predictions):\n",
    "    false_negatives, false_positives = dict(), dict()\n",
    "\n",
    "    print(\"Confusion Matrices: \")\n",
    "    for y_test, y_pred, train in zip(y_tests, predictions, trains):\n",
    "        cf_matrix = confusion_matrix(y_test, y_pred)\n",
    "        (TP, FP), (FN, TN) = cf_matrix\n",
    "        false_positives[train] = FP\n",
    "        false_negatives[train] = FN\n",
    "        print(f\"Training: {train}%\", cf_matrix, '', sep='\\n')\n",
    "\n",
    "\n",
    "    # Determining minimum False positives, False negatives\n",
    "    min_FP = min(false_positives, key=false_positives.get)\n",
    "    min_FN = min(false_negatives, key=false_negatives.get)\n",
    "\n",
    "    print(\n",
    "        f\"Least number of false positives is {false_positives[min_FP]} \"\n",
    "        f\"in split ratio {min_FP}:{100-min_FP}\"\n",
    "    )\n",
    "    print(\n",
    "        f\"Least number of false negatives is {false_negatives[min_FN]} \"\n",
    "        f\"in split ratio {min_FN}:{100-min_FN}\"\n",
    "    )"
   ]
  },
  {
   "cell_type": "markdown",
   "metadata": {},
   "source": [
    "#### 1. Logistic Regression  "
   ]
  },
  {
   "cell_type": "markdown",
   "metadata": {},
   "source": [
    "Performance"
   ]
  },
  {
   "cell_type": "code",
   "execution_count": 6,
   "metadata": {},
   "outputs": [
    {
     "data": {
      "image/png": "[encoded data removed]",
      "text/plain": [
       "<Figure size 432x288 with 1 Axes>"
      ]
     },
     "metadata": {
      "needs_background": "light"
     },
     "output_type": "display_data"
    }
   ],
   "source": [
    "model = 'LogisticRegression'\n",
    "accuracies, predictions = [], []\n",
    "\n",
    "for x_train, x_test, y_train, y_test in zip(\n",
    "    x_trains, x_tests, y_trains, y_tests\n",
    "    ):\n",
    "    # Creating and training the model\n",
    "    LogRegModel = LogisticRegression(solver='newton-cg')\n",
    "    LogRegModel.fit(x_train, y_train)\n",
    "\n",
    "    # Checking Predictions and Accuracy of the model\n",
    "    y_pred = LogRegModel.predict(x_test)\n",
    "    accuracy = LogRegModel.score(x_test, y_test)\n",
    "    \n",
    "    # Storing preds and accuracy for Plotting\n",
    "    predictions.append(y_pred) \n",
    "    accuracies.append(accuracy)\n",
    "    \n",
    "# Plotting the accuracies:\n",
    "\n",
    "# print(accuracies)\n",
    "plot_performance(model, accuracies)\n"
   ]
  },
  {
   "cell_type": "markdown",
   "metadata": {},
   "source": [
    "Errors"
   ]
  },
  {
   "cell_type": "code",
   "execution_count": 7,
   "metadata": {},
   "outputs": [
    {
     "data": {
      "image/png": "[encoded data removed]",
      "text/plain": [
       "<Figure size 432x288 with 1 Axes>"
      ]
     },
     "metadata": {
      "needs_background": "light"
     },
     "output_type": "display_data"
    }
   ],
   "source": [
    "calculate_and_plot_errors(predictions, model)"
   ]
  },
  {
   "cell_type": "markdown",
   "metadata": {},
   "source": [
    "Confusion Matrix"
   ]
  },
  {
   "cell_type": "code",
   "execution_count": 8,
   "metadata": {},
   "outputs": [
    {
     "name": "stdout",
     "output_type": "stream",
     "text": [
      "Confusion Matrices: \n",
      "Training: 70%\n",
      "[[69  3]\n",
      " [ 3 96]]\n",
      "\n",
      "Training: 75%\n",
      "[[57  4]\n",
      " [ 1 81]]\n",
      "\n",
      "Training: 80%\n",
      "[[34  0]\n",
      " [ 4 76]]\n",
      "\n",
      "Least number of false positives is 0 in split ratio 80:20\n",
      "Least number of false negatives is 1 in split ratio 75:25\n"
     ]
    }
   ],
   "source": [
    "calculate_confusion_matrix(predictions)"
   ]
  },
  {
   "cell_type": "markdown",
   "metadata": {},
   "source": [
    "#### 2. Decision Tree"
   ]
  },
  {
   "cell_type": "markdown",
   "metadata": {},
   "source": [
    "Performance"
   ]
  },
  {
   "cell_type": "code",
   "execution_count": 9,
   "metadata": {},
   "outputs": [
    {
     "data": {
      "image/png": "[encoded data removed]",
      "text/plain": [
       "<Figure size 432x288 with 1 Axes>"
      ]
     },
     "metadata": {
      "needs_background": "light"
     },
     "output_type": "display_data"
    }
   ],
   "source": [
    "model = 'DecisionTreeClassifier'\n",
    "accuracies.clear()\n",
    "predictions.clear()\n",
    "\n",
    "\n",
    "for x_train, x_test, y_train, y_test in zip(\n",
    "    x_trains, x_tests, y_trains, y_tests\n",
    "    ):\n",
    "    DecTreeModel = DecisionTreeClassifier(criterion='entropy')\n",
    "    DecTreeModel.fit(x_train, y_train)\n",
    "\n",
    "    y_pred = DecTreeModel.predict(x_test)\n",
    "    accuracy = DecTreeModel.score(x_test, y_test)\n",
    "    \n",
    "    predictions.append(y_pred) \n",
    "    accuracies.append(accuracy)\n",
    "\n",
    "plot_performance(model, accuracies)\n"
   ]
  },
  {
   "cell_type": "markdown",
   "metadata": {},
   "source": [
    "Errors"
   ]
  },
  {
   "cell_type": "code",
   "execution_count": 10,
   "metadata": {},
   "outputs": [
    {
     "data": {
      "image/png": "[encoded data removed]",
      "text/plain": [
       "<Figure size 432x288 with 1 Axes>"
      ]
     },
     "metadata": {
      "needs_background": "light"
     },
     "output_type": "display_data"
    }
   ],
   "source": [
    "calculate_and_plot_errors(predictions, model)"
   ]
  },
  {
   "cell_type": "markdown",
   "metadata": {},
   "source": [
    "Confusion Matrix"
   ]
  },
  {
   "cell_type": "code",
   "execution_count": 11,
   "metadata": {},
   "outputs": [
    {
     "name": "stdout",
     "output_type": "stream",
     "text": [
      "Confusion Matrices: \n",
      "Training: 70%\n",
      "[[70  2]\n",
      " [ 5 94]]\n",
      "\n",
      "Training: 75%\n",
      "[[56  5]\n",
      " [ 2 80]]\n",
      "\n",
      "Training: 80%\n",
      "[[33  1]\n",
      " [ 7 73]]\n",
      "\n",
      "Least number of false positives is 1 in split ratio 80:20\n",
      "Least number of false negatives is 2 in split ratio 75:25\n"
     ]
    }
   ],
   "source": [
    "calculate_confusion_matrix(predictions)"
   ]
  },
  {
   "cell_type": "markdown",
   "metadata": {},
   "source": [
    "#### 3. Random Forest"
   ]
  },
  {
   "cell_type": "markdown",
   "metadata": {},
   "source": [
    "Performance"
   ]
  },
  {
   "cell_type": "code",
   "execution_count": 12,
   "metadata": {},
   "outputs": [
    {
     "data": {
      "image/png": "[encoded data removed]",
      "text/plain": [
       "<Figure size 432x288 with 1 Axes>"
      ]
     },
     "metadata": {
      "needs_background": "light"
     },
     "output_type": "display_data"
    }
   ],
   "source": [
    "model = 'RandomForestClassifier'\n",
    "accuracies.clear()\n",
    "predictions.clear()\n",
    "\n",
    "\n",
    "for x_train, x_test, y_train, y_test in zip(\n",
    "    x_trains, x_tests, y_trains, y_tests\n",
    "    ):\n",
    "    DecTreeModel = RandomForestClassifier()\n",
    "    DecTreeModel.fit(x_train, y_train)\n",
    "\n",
    "    y_pred = DecTreeModel.predict(x_test)\n",
    "    accuracy = DecTreeModel.score(x_test, y_test)\n",
    "    \n",
    "    predictions.append(y_pred) \n",
    "    accuracies.append(accuracy)\n",
    "\n",
    "plot_performance(model, accuracies)\n"
   ]
  },
  {
   "cell_type": "markdown",
   "metadata": {},
   "source": [
    "Errors"
   ]
  },
  {
   "cell_type": "code",
   "execution_count": 13,
   "metadata": {},
   "outputs": [
    {
     "data": {
      "image/png": "[encoded data removed]",
      "text/plain": [
       "<Figure size 432x288 with 1 Axes>"
      ]
     },
     "metadata": {
      "needs_background": "light"
     },
     "output_type": "display_data"
    }
   ],
   "source": [
    "calculate_and_plot_errors(predictions, model)"
   ]
  },
  {
   "cell_type": "markdown",
   "metadata": {},
   "source": [
    "Confusion Matrix"
   ]
  },
  {
   "cell_type": "code",
   "execution_count": 14,
   "metadata": {},
   "outputs": [
    {
     "name": "stdout",
     "output_type": "stream",
     "text": [
      "Confusion Matrices: \n",
      "Training: 70%\n",
      "[[69  3]\n",
      " [ 4 95]]\n",
      "\n",
      "Training: 75%\n",
      "[[56  5]\n",
      " [ 2 80]]\n",
      "\n",
      "Training: 80%\n",
      "[[34  0]\n",
      " [ 0 80]]\n",
      "\n",
      "Least number of false positives is 0 in split ratio 80:20\n",
      "Least number of false negatives is 0 in split ratio 80:20\n"
     ]
    }
   ],
   "source": [
    "calculate_confusion_matrix(predictions)"
   ]
  },
  {
   "cell_type": "markdown",
   "metadata": {},
   "source": [
    "### 4. Multi Layer Perceptron"
   ]
  },
  {
   "cell_type": "markdown",
   "metadata": {},
   "source": [
    "Performance"
   ]
  },
  {
   "cell_type": "code",
   "execution_count": 15,
   "metadata": {},
   "outputs": [
    {
     "data": {
      "image/png": "[encoded data removed]",
      "text/plain": [
       "<Figure size 432x288 with 1 Axes>"
      ]
     },
     "metadata": {
      "needs_background": "light"
     },
     "output_type": "display_data"
    }
   ],
   "source": [
    "import random\n",
    "\n",
    "\n",
    "model = \"MLPClassifier\"\n",
    "accuracies.clear()\n",
    "predictions.clear()\n",
    "\n",
    "\n",
    "for x_train, x_test, y_train, y_test in zip(x_trains, x_tests, y_trains, y_tests):\n",
    "    DecTreeModel = MLPClassifier(\n",
    "        max_iter=350,\n",
    "        activation=\"relu\",  # relu: Rectified Linear Unit -> an activation function to realign nodes to 0 amd 1\n",
    "        solver=\"adam\",      # oprimizer for weight\n",
    "        random_state=random.randint(1, 100)\n",
    "    )\n",
    "    DecTreeModel.fit(x_train, y_train)\n",
    "\n",
    "    y_pred = DecTreeModel.predict(x_test)\n",
    "    accuracy = DecTreeModel.score(x_test, y_test)\n",
    "\n",
    "    predictions.append(y_pred)\n",
    "    accuracies.append(accuracy)\n",
    "\n",
    "plot_performance(model, accuracies)\n"
   ]
  },
  {
   "cell_type": "markdown",
   "metadata": {},
   "source": [
    "Errors"
   ]
  },
  {
   "cell_type": "code",
   "execution_count": 16,
   "metadata": {},
   "outputs": [
    {
     "data": {
      "image/png": "[encoded data removed]",
      "text/plain": [
       "<Figure size 432x288 with 1 Axes>"
      ]
     },
     "metadata": {
      "needs_background": "light"
     },
     "output_type": "display_data"
    }
   ],
   "source": [
    "calculate_and_plot_errors(predictions, model)"
   ]
  },
  {
   "cell_type": "markdown",
   "metadata": {},
   "source": [
    "Confusion Matrix"
   ]
  },
  {
   "cell_type": "code",
   "execution_count": 17,
   "metadata": {},
   "outputs": [
    {
     "name": "stdout",
     "output_type": "stream",
     "text": [
      "Confusion Matrices: \n",
      "Training: 70%\n",
      "[[66  6]\n",
      " [ 2 97]]\n",
      "\n",
      "Training: 75%\n",
      "[[54  7]\n",
      " [ 2 80]]\n",
      "\n",
      "Training: 80%\n",
      "[[33  1]\n",
      " [ 8 72]]\n",
      "\n",
      "Least number of false positives is 1 in split ratio 80:20\n",
      "Least number of false negatives is 2 in split ratio 70:30\n"
     ]
    }
   ],
   "source": [
    "calculate_confusion_matrix(predictions)"
   ]
  }
 ],
 "metadata": {
  "interpreter": {
   "hash": "7cc880fb414a6190fbce021e54b9550a41e00b0ed8e95a947d98634e734d910a"
  },
  "kernelspec": {
   "display_name": "Python 3.10.4 64-bit",
   "language": "python",
   "name": "python3"
  },
  "language_info": {
   "codemirror_mode": {
    "name": "ipython",
    "version": 3
   },
   "file_extension": ".py",
   "mimetype": "text/x-python",
   "name": "python",
   "nbconvert_exporter": "python",
   "pygments_lexer": "ipython3",
   "version": "3.10.4"
  },
  "orig_nbformat": 4
 },
 "nbformat": 4,
 "nbformat_minor": 2
}
