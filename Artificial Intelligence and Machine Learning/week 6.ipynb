{
 "cells": [
  {
   "cell_type": "markdown",
   "metadata": {},
   "source": [
    "### AIML: MLP: Multi Layer perception (13th April 2022, Wednesday)"
   ]
  },
  {
   "cell_type": "code",
   "execution_count": 1,
   "metadata": {},
   "outputs": [],
   "source": [
    "from sklearn.datasets import load_breast_cancer\n",
    "\n",
    "cancer_dataset = load_breast_cancer()"
   ]
  },
  {
   "cell_type": "code",
   "execution_count": 2,
   "metadata": {},
   "outputs": [],
   "source": [
    "from sklearn.model_selection import train_test_split as tts\n",
    "\n",
    "# Split the dataset, pass the train data\n",
    "x_train, x_test, y_train, y_test = tts(cancer_dataset.data, cancer_dataset.target, test_size=.25)"
   ]
  },
  {
   "cell_type": "markdown",
   "metadata": {},
   "source": [
    "Import the MLPClassifier"
   ]
  },
  {
   "cell_type": "code",
   "execution_count": 3,
   "metadata": {},
   "outputs": [
    {
     "data": {
      "text/plain": [
       "MLPClassifier(hidden_layer_sizes=(10, 100, 50), max_iter=300, random_state=1)"
      ]
     },
     "execution_count": 3,
     "metadata": {},
     "output_type": "execute_result"
    }
   ],
   "source": [
    "from sklearn.neural_network import MLPClassifier\n",
    "\n",
    "Classifier = MLPClassifier(\n",
    "    hidden_layer_sizes=(10, 100, 50),\n",
    "    max_iter=300,\n",
    "    activation='relu',  # relu: Rectified Linear Unit -> an activation function to realign nodes to 0 amd 1\n",
    "    solver='adam',  # oprimizer for weight\n",
    "    random_state=1  # simple state based on the seed initial data will be generated\n",
    ")\n",
    "\n",
    "Classifier.fit(x_train, y_train)\n"
   ]
  },
  {
   "cell_type": "code",
   "execution_count": 4,
   "metadata": {},
   "outputs": [
    {
     "name": "stdout",
     "output_type": "stream",
     "text": [
      "[[44 11]\n",
      " [ 1 87]]\n"
     ]
    }
   ],
   "source": [
    "y_pred = Classifier.predict(x_test)\n",
    "\n",
    "from sklearn.metrics import confusion_matrix\n",
    "\n",
    "Cf_Matrix1 = confusion_matrix(\n",
    "    y_test,  # <- Ground truth information fro my test data\n",
    "    y_pred,  # <- Prediction given by the classifier\n",
    ")\n",
    "print(Cf_Matrix1)\n",
    "\n",
    "# [39 11]    [   True Positive   | False Positive(FP)]\n",
    "# [ 7 86]    [ False Negtive(FN) |    True Negative  ]\n"
   ]
  },
  {
   "cell_type": "code",
   "execution_count": 5,
   "metadata": {},
   "outputs": [
    {
     "name": "stdout",
     "output_type": "stream",
     "text": [
      "[[44 11]\n",
      " [ 1 87]]\n"
     ]
    }
   ],
   "source": [
    "import numpy as np\n",
    "Cf_Matrix = np.transpose(\n",
    "    np.transpose(Cf_Matrix1) / Cf_Matrix1.astype(float).sum(axis=1)\n",
    ")\n",
    "print(Cf_Matrix1)"
   ]
  },
  {
   "cell_type": "markdown",
   "metadata": {},
   "source": [
    " PROBLEM: Perform the same experiment on the breast cancer dataset using Logistic Regression and DecisionTree Classification models. In each case, identify the confusion matrix and TP, TN, FP & FN. Finally, discuss which classifier is best suied for deploying as a real-time smart cancer diagnosis system"
   ]
  },
  {
   "cell_type": "markdown",
   "metadata": {},
   "source": [
    "1. Using Logistic Regression"
   ]
  },
  {
   "cell_type": "code",
   "execution_count": 6,
   "metadata": {},
   "outputs": [
    {
     "name": "stdout",
     "output_type": "stream",
     "text": [
      "[[49  6]\n",
      " [ 3 85]]\n"
     ]
    }
   ],
   "source": [
    "from sklearn.linear_model import LogisticRegression\n",
    "\n",
    "LogReg1 = LogisticRegression(max_iter=10_000)\n",
    "LogReg1.fit(x_train, y_train)\n",
    "\n",
    "y_pred = LogReg1.predict(x_test)\n",
    "\n",
    "Cf_Matrix2 = confusion_matrix(\n",
    "    y_test,  # <- Ground truth information fro my test data\n",
    "    y_pred,  # <- Prediction given by the classifier\n",
    ")\n",
    "\n",
    "print(Cf_Matrix2)"
   ]
  },
  {
   "cell_type": "markdown",
   "metadata": {},
   "source": [
    "2. Using Decision Tree Classifier"
   ]
  },
  {
   "cell_type": "code",
   "execution_count": 7,
   "metadata": {},
   "outputs": [
    {
     "name": "stdout",
     "output_type": "stream",
     "text": [
      "[[52  3]\n",
      " [ 3 85]]\n"
     ]
    }
   ],
   "source": [
    "from sklearn.tree import DecisionTreeClassifier\n",
    "\n",
    "\n",
    "DecTree1 = DecisionTreeClassifier(criterion='gini', max_depth=30)\n",
    "DecTree1.fit(x_train, y_train)\n",
    "y_pred = DecTree1.predict(x_test)\n",
    "\n",
    "Cf_Matrix3 = confusion_matrix(\n",
    "    y_test,   # <- Ground truth information fro my test data\n",
    "    y_pred    # <- Prediction given by the classeifier\n",
    ")\n",
    "\n",
    "print(Cf_Matrix3)"
   ]
  },
  {
   "cell_type": "markdown",
   "metadata": {},
   "source": [
    "Comparing Results"
   ]
  },
  {
   "cell_type": "code",
   "execution_count": 8,
   "metadata": {},
   "outputs": [
    {
     "name": "stdout",
     "output_type": "stream",
     "text": [
      "MLP Classifier: \n",
      "[[44 11]\n",
      " [ 1 87]]\n",
      "Logistic Regression: \n",
      "[[49  6]\n",
      " [ 3 85]]\n",
      "Decision Tree Classifier: \n",
      "[[52  3]\n",
      " [ 3 85]]\n"
     ]
    }
   ],
   "source": [
    "#  MLP Classifier\n",
    "print(\"MLP Classifier: \", Cf_Matrix1, sep='\\n')\n",
    "\n",
    "# Logistic Regression\n",
    "print(\"Logistic Regression: \", Cf_Matrix2, sep='\\n')\n",
    "\n",
    "# Decision Tree Classifier\n",
    "print(\"Decision Tree Classifier: \", Cf_Matrix3, sep='\\n')\n"
   ]
  }
 ],
 "metadata": {
  "interpreter": {
   "hash": "aecd030d4c8316a52bf122072e28f84bcc79844c2684e041fef2e3f1d9f59078"
  },
  "kernelspec": {
   "display_name": "Python 3.10.4 64-bit",
   "language": "python",
   "name": "python3"
  },
  "language_info": {
   "codemirror_mode": {
    "name": "ipython",
    "version": 3
   },
   "file_extension": ".py",
   "mimetype": "text/x-python",
   "name": "python",
   "nbconvert_exporter": "python",
   "pygments_lexer": "ipython3",
   "version": "3.10.4"
  },
  "orig_nbformat": 4
 },
 "nbformat": 4,
 "nbformat_minor": 2
}
