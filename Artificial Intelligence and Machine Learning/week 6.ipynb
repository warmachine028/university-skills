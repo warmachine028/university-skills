{
 "cells": [
  {
   "cell_type": "markdown",
   "metadata": {},
   "source": [
    "### AIML: MLP: Multi Layer perception (13th April 2022, Thursday)"
   ]
  },
  {
   "cell_type": "code",
   "execution_count": 31,
   "metadata": {},
   "outputs": [],
   "source": [
    "from sklearn.datasets import load_breast_cancer\n",
    "\n",
    "cancer_dataset = load_breast_cancer()"
   ]
  },
  {
   "cell_type": "code",
   "execution_count": 32,
   "metadata": {},
   "outputs": [],
   "source": [
    "from sklearn.model_selection import train_test_split as tts\n",
    "\n",
    "# Split the dataset, pass the train data\n",
    "x_train, x_test, y_train, y_test = tts(cancer_dataset.data, cancer_dataset.target, test_size=.25)"
   ]
  },
  {
   "cell_type": "markdown",
   "metadata": {},
   "source": [
    "Import the MLPClassifier"
   ]
  },
  {
   "cell_type": "code",
   "execution_count": 33,
   "metadata": {},
   "outputs": [
    {
     "data": {
      "text/plain": [
       "MLPClassifier(hidden_layer_sizes=(10, 100, 50), max_iter=300, random_state=1)"
      ]
     },
     "execution_count": 33,
     "metadata": {},
     "output_type": "execute_result"
    }
   ],
   "source": [
    "from sklearn.neural_network import MLPClassifier\n",
    "\n",
    "Classifier = MLPClassifier(\n",
    "    hidden_layer_sizes=(10, 100, 50),\n",
    "    max_iter=300,\n",
    "    activation='relu',  # relu: Rectified Linear Unit -> an activation function to realign nodes to 0 amd 1\n",
    "    solver='adam',  # oprimizer for weight\n",
    "    random_state=1  # simple state based on the seed initial data will be generated\n",
    ")\n",
    "\n",
    "Classifier.fit(x_train, y_train)\n"
   ]
  },
  {
   "cell_type": "code",
   "execution_count": 34,
   "metadata": {},
   "outputs": [
    {
     "name": "stdout",
     "output_type": "stream",
     "text": [
      "[[42 13]\n",
      " [ 2 86]]\n"
     ]
    }
   ],
   "source": [
    "y_pred = Classifier.predict(x_test)\n",
    "\n",
    "from sklearn.metrics import confusion_matrix\n",
    "\n",
    "Cf_Matrix = confusion_matrix(\n",
    "    y_test,  # <- Ground truth information fro my test data\n",
    "    y_pred,  # <- Prediction given by the classifier\n",
    ")\n",
    "print(Cf_Matrix)\n",
    "\n",
    "# [39 11]    [   True Positive   | False Positive(FP)]\n",
    "# [ 7 86]    [ False Negtive(FN) |    True Negative  ]\n"
   ]
  },
  {
   "cell_type": "code",
   "execution_count": 35,
   "metadata": {},
   "outputs": [
    {
     "name": "stdout",
     "output_type": "stream",
     "text": [
      "[[0.76363636 0.23636364]\n",
      " [0.02272727 0.97727273]]\n"
     ]
    }
   ],
   "source": [
    "import numpy as np\n",
    "Cf_Matrix = np.transpose(\n",
    "    np.transpose(Cf_Matrix) / Cf_Matrix.astype(float).sum(axis=1)\n",
    ")\n",
    "print(Cf_Matrix)"
   ]
  },
  {
   "cell_type": "markdown",
   "metadata": {},
   "source": [
    "Perform the same experiment on the breast cancer dataset using Logistic Regression and DecisionTree Classification models. In each case, identify the confusion matrix and TP, TN, FP & FN. Finally "
   ]
  }
 ],
 "metadata": {
  "interpreter": {
   "hash": "aecd030d4c8316a52bf122072e28f84bcc79844c2684e041fef2e3f1d9f59078"
  },
  "kernelspec": {
   "display_name": "Python 3.10.4 64-bit",
   "language": "python",
   "name": "python3"
  },
  "language_info": {
   "codemirror_mode": {
    "name": "ipython",
    "version": 3
   },
   "file_extension": ".py",
   "mimetype": "text/x-python",
   "name": "python",
   "nbconvert_exporter": "python",
   "pygments_lexer": "ipython3",
   "version": "3.10.4"
  },
  "orig_nbformat": 4
 },
 "nbformat": 4,
 "nbformat_minor": 2
}
