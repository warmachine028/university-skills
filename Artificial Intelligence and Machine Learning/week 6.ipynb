{
 "cells": [
  {
   "cell_type": "markdown",
   "metadata": {},
   "source": [
    "### AIML: MLP: Multi Layer perception (13th April 2022, Thursday)"
   ]
  },
  {
   "cell_type": "code",
   "execution_count": 17,
   "metadata": {},
   "outputs": [],
   "source": [
    "import pandas as pd\n",
    "from sklearn.datasets import load_breast_cancer\n"
   ]
  },
  {
   "cell_type": "code",
   "execution_count": 18,
   "metadata": {},
   "outputs": [],
   "source": [
    "cancer_dataset = load_breast_cancer()"
   ]
  },
  {
   "cell_type": "code",
   "execution_count": 19,
   "metadata": {},
   "outputs": [],
   "source": [
    "from sklearn.model_selection import train_test_split as tts\n",
    "\n",
    "# Split the dataset, pass the train data\n",
    "x_train, x_test, y_train, y_test = tts(cancer_dataset.data, cancer_dataset.target, test_size=.25)"
   ]
  },
  {
   "cell_type": "markdown",
   "metadata": {},
   "source": [
    "Import the MLPClassifier"
   ]
  },
  {
   "cell_type": "code",
   "execution_count": 20,
   "metadata": {},
   "outputs": [
    {
     "data": {
      "text/plain": [
       "MLPClassifier(hidden_layer_sizes=(10, 100, 50), max_iter=300, random_state=1)"
      ]
     },
     "execution_count": 20,
     "metadata": {},
     "output_type": "execute_result"
    }
   ],
   "source": [
    "from sklearn.neural_network import MLPClassifier\n",
    "\n",
    "Classifier = MLPClassifier(\n",
    "    hidden_layer_sizes=(10, 100, 50),\n",
    "    max_iter=300,\n",
    "    activation='relu',  # relu: Rectified Linear Unit -> an activation function to realign nodes to 0 amd 1\n",
    "    solver='adam',  # oprimizer for weight\n",
    "    random_state=1  # simple state based on the seed initial data will be generated\n",
    ")\n",
    "\n",
    "Classifier.fit(x_train, y_train)\n"
   ]
  },
  {
   "cell_type": "code",
   "execution_count": 21,
   "metadata": {},
   "outputs": [
    {
     "name": "stdout",
     "output_type": "stream",
     "text": [
      "[[39 14]\n",
      " [ 1 89]]\n"
     ]
    },
    {
     "data": {
      "text/plain": [
       "'\\n[ \\n    [39 11]    [   True Positive   | False Positive(FP)]\\n    [ 7 86]    [ False Negtive(FN) |    True Negative  ]  \\n]\\n'"
      ]
     },
     "execution_count": 21,
     "metadata": {},
     "output_type": "execute_result"
    }
   ],
   "source": [
    "y_pred = Classifier.predict(x_test)\n",
    "\n",
    "from sklearn.metrics import confusion_matrix\n",
    "\n",
    "Cf_Matrix = confusion_matrix(\n",
    "    y_test,  # <- Ground truth information fro my test data\n",
    "    y_pred,  # <- Prediction given by the classifier\n",
    ")\n",
    "print(Cf_Matrix)\n",
    "\"\"\"\n",
    "[ \n",
    "    [39 11]    [   True Positive   | False Positive(FP)]\n",
    "    [ 7 86]    [ False Negtive(FN) |    True Negative  ]  \n",
    "]\n",
    "\"\"\"\n"
   ]
  }
 ],
 "metadata": {
  "interpreter": {
   "hash": "aecd030d4c8316a52bf122072e28f84bcc79844c2684e041fef2e3f1d9f59078"
  },
  "kernelspec": {
   "display_name": "Python 3.10.4 64-bit",
   "language": "python",
   "name": "python3"
  },
  "language_info": {
   "codemirror_mode": {
    "name": "ipython",
    "version": 3
   },
   "file_extension": ".py",
   "mimetype": "text/x-python",
   "name": "python",
   "nbconvert_exporter": "python",
   "pygments_lexer": "ipython3",
   "version": "3.10.4"
  },
  "orig_nbformat": 4
 },
 "nbformat": 4,
 "nbformat_minor": 2
}
